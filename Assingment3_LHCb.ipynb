{
  "nbformat": 4,
  "nbformat_minor": 0,
  "metadata": {
    "colab": {
      "name": "Copy_of_LHCb_2021.ipynb",
      "provenance": [],
      "collapsed_sections": [],
      "include_colab_link": true
    },
    "kernelspec": {
      "name": "python2",
      "display_name": "Python 2"
    },
    "accelerator": "GPU"
  },
  "cells": [
    {
      "cell_type": "markdown",
      "metadata": {
        "id": "view-in-github",
        "colab_type": "text"
      },
      "source": [
        "<a href=\"https://colab.research.google.com/github/Kalbar1234/PRA3024/blob/main/Assingment3_LHCb.ipynb\" target=\"_parent\"><img src=\"https://colab.research.google.com/assets/colab-badge.svg\" alt=\"Open In Colab\"/></a>"
      ]
    },
    {
      "cell_type": "markdown",
      "metadata": {
        "id": "1JafiSIrvEKW"
      },
      "source": [
        "Welcome to Week 4!\n",
        "\n",
        "We will be focussing in Particle Physics Analysis and detecting matter/antimatter assymetries in the production of certain types of particles. ![LHCb detector](https://www1b.physik.rwth-aachen.de/~schael/LHCb_files/LHCB%20PREVIEW-white-bg.jpg)\n",
        "\n",
        "The data we are using comes from LHCb - one of the experiments at LHC. It is a highly specialised detector aimed at detecting decays involving the B-quark. Unlike the other major experiments, LHCb detects particles very close to the source and looks almost exclusively in the forward direction - this gives the detector many advantages compared to other experiments at LHC.\n",
        "\n",
        "In order to get started, we need to access the [ROOT framework](https://root.cern.ch/) and download some datafiles into this machine.\n",
        "\n",
        "If you are using Google Colab then you need to ensure that you are using Python 2:\n",
        "\n",
        "Before we start - we have to use Python2 (not Python 3), so we should choose this as an option in \"Runtime\" -> \"Change Runtime Type\" at the top or create a new notebook in Python2 by appending \"&runtime=python2\" to the URL."
      ]
    },
    {
      "cell_type": "code",
      "metadata": {
        "colab": {
          "base_uri": "https://localhost:8080/"
        },
        "id": "Mx5zI1ufCnc4",
        "outputId": "4bfcf7dc-b3dd-4c35-e9d9-384c04086c8c"
      },
      "source": [
        "from google.colab import drive\n",
        "drive.mount('/content/drive')"
      ],
      "execution_count": 25,
      "outputs": [
        {
          "output_type": "stream",
          "text": [
            "Drive already mounted at /content/drive; to attempt to forcibly remount, call drive.mount(\"/content/drive\", force_remount=True).\n"
          ],
          "name": "stdout"
        }
      ]
    },
    {
      "cell_type": "code",
      "metadata": {
        "id": "vFclIR72w0mU",
        "colab": {
          "base_uri": "https://localhost:8080/"
        },
        "outputId": "a41a6eb8-79cb-4ca7-a406-49dcfde808bd"
      },
      "source": [
        "#Colab only\n",
        "#we are going to make a directory called APPS\n",
        "!mkdir -p APPS\n",
        "#Now we move to our directory called APPS and we download ROOT from the CERN server, this version is chosen because it runs on this machine - if you want to run this locally check the versions!\n",
        "!cd APPS && wget https://root.cern.ch/download/root_v6.13.08.Linux-ubuntu18-x86_64-gcc7.3.tar.gz \n",
        "#Now we extract our downloaded file:\n",
        "!cd APPS && tar -xf root_v6.13.08.Linux-ubuntu18-x86_64-gcc7.3.tar.gz\n"
      ],
      "execution_count": 26,
      "outputs": [
        {
          "output_type": "stream",
          "text": [
            "--2021-03-01 18:43:57--  https://root.cern.ch/download/root_v6.13.08.Linux-ubuntu18-x86_64-gcc7.3.tar.gz\n",
            "Resolving root.cern.ch (root.cern.ch)... 137.138.18.236, 2001:1458:201:ee::100:6\n",
            "Connecting to root.cern.ch (root.cern.ch)|137.138.18.236|:443... connected.\n",
            "HTTP request sent, awaiting response... 200 OK\n",
            "Length: 137415272 (131M) [application/x-gzip]\n",
            "Saving to: ‘root_v6.13.08.Linux-ubuntu18-x86_64-gcc7.3.tar.gz.1’\n",
            "\n",
            "root_v6.13.08.Linux 100%[===================>] 131.05M  18.6MB/s    in 8.0s    \n",
            "\n",
            "2021-03-01 18:44:05 (16.5 MB/s) - ‘root_v6.13.08.Linux-ubuntu18-x86_64-gcc7.3.tar.gz.1’ saved [137415272/137415272]\n",
            "\n"
          ],
          "name": "stdout"
        }
      ]
    },
    {
      "cell_type": "code",
      "metadata": {
        "id": "COPyXIvbxqht",
        "colab": {
          "base_uri": "https://localhost:8080/"
        },
        "outputId": "afe14626-ccb3-4f78-ceda-e26b857262cc"
      },
      "source": [
        "#Colab only:\n",
        "#now we can extract some files from ROOT and ensure that we can access the libraries. We use some python key words to get access to the right files:\n",
        "\n",
        "import sys\n",
        "\n",
        "sys.path.append(\"/content/APPS/root/lib\")\n",
        "\n",
        "import ctypes\n",
        "\n",
        "\n",
        "ctypes.cdll.LoadLibrary('/content/APPS/root/lib/libCore.so')\n",
        "\n",
        "ctypes.cdll.LoadLibrary('/content/APPS/root/lib/libThread.so')\n",
        "\n",
        "ctypes.cdll.LoadLibrary('/content/APPS/root/lib/libImt.so')\n",
        "\n",
        "ctypes.cdll.LoadLibrary('/content/APPS/root/lib/libRIO.so')\n",
        "\n",
        "ctypes.cdll.LoadLibrary('/content/APPS/root/lib/libNet.so')\n",
        "\n",
        "ctypes.cdll.LoadLibrary('/content/APPS/root/lib/libTree.so')\n",
        "\n",
        "ctypes.cdll.LoadLibrary('/content/APPS/root/lib/libMathCore.so')\n",
        "\n",
        "ctypes.cdll.LoadLibrary('/content/APPS/root/lib/libMathMore.so')\n",
        "\n",
        "ctypes.cdll.LoadLibrary('/content/APPS/root/lib/libMatrix.so')\n",
        "\n",
        "ctypes.cdll.LoadLibrary('/content/APPS/root/lib/libHist.so')\n",
        "\n",
        "ctypes.cdll.LoadLibrary('/content/APPS/root/lib/libGraf.so')\n",
        "\n",
        "ctypes.cdll.LoadLibrary('/content/APPS/root/lib/libPyROOT.so')\n",
        "\n",
        "ctypes.cdll.LoadLibrary('/content/APPS/root/lib/libGpad.so')\n",
        "\n",
        "ctypes.cdll.LoadLibrary('/content/APPS/root/lib/libGraf3d.so')\n",
        "\n",
        "ctypes.cdll.LoadLibrary('/content/APPS/root/lib/libMultiProc.so')\n",
        "\n",
        "ctypes.cdll.LoadLibrary('/content/APPS/root/lib/libMinuit.so')\n",
        "\n",
        "ctypes.cdll.LoadLibrary('/content/APPS/root/lib/libFoam.so')"
      ],
      "execution_count": 27,
      "outputs": [
        {
          "output_type": "execute_result",
          "data": {
            "text/plain": [
              "<CDLL '/content/APPS/root/lib/libFoam.so', handle 5568b4c78300 at 7f894b822090>"
            ]
          },
          "metadata": {
            "tags": []
          },
          "execution_count": 27
        }
      ]
    },
    {
      "cell_type": "code",
      "metadata": {
        "id": "QTVz7NQMyDCb",
        "colab": {
          "base_uri": "https://localhost:8080/",
          "height": 589
        },
        "outputId": "751b43ef-eeef-4bca-a8b7-ed36770cbdb9"
      },
      "source": [
        "#Now we can check if we have everything working as we expect: \n",
        "#Import brings the ROOT framework into our python environment.\n",
        "import ROOT\n",
        "#We define a 1 dimensional histogram, with 100 bins which ranges from -4 to +4\n",
        "h = ROOT.TH1F(\"gauss\",\"Example histogram\",100,-4,4)\n",
        "#Fill the histogram with gaussian (random) distribution\n",
        "h.FillRandom(\"gaus\")\n",
        "#make a Canvas (i.e. a drawing)\n",
        "c = ROOT.TCanvas(\"myCanvasName\",\"The Canvas Title\",800,600)\n",
        "#Draw my histogram\n",
        "h.Draw()\n",
        "#Show me the canvas\n",
        "c.Draw()"
      ],
      "execution_count": 28,
      "outputs": [
        {
          "output_type": "display_data",
          "data": {
            "image/png": "[encoded data removed]",
            "text/plain": [
              "<IPython.core.display.Image object>"
            ]
          },
          "metadata": {
            "tags": []
          }
        }
      ]
    },
    {
      "cell_type": "markdown",
      "metadata": {
        "id": "VXW1M6XB0tXP"
      },
      "source": [
        "All being well - this should give no errors and we should have some kind of Gaussian distribution above.\n",
        "\n",
        "The next step is to get our data file - you can find it on Canvas here: https://maastrichtuniversity.instructure.com/courses/5826/files/553829?module_item_id=115201\n",
        "\n",
        "Then upload it either directly or to your Google Drive and then mount this to your Colab environment"
      ]
    },
    {
      "cell_type": "code",
      "metadata": {
        "id": "Co476pbmBvBB",
        "colab": {
          "base_uri": "https://localhost:8080/",
          "height": 557
        },
        "outputId": "014f61f6-68da-4b05-8387-479c7e25b8ee"
      },
      "source": [
        "#Since we need to use ROOT, we must first import this into Python:\n",
        "import ROOT\n",
        "#Then we open the ROOT file using the TFile command. - note you need to make this file path correct for your own setup!\n",
        "f = ROOT.TFile.Open(\"/content/drive/MyDrive/B2HHH_MagnetUp.root\", \"READONLY\")\n",
        "#From our file, we have to extract the DecayTree \n",
        "tree=f.Get(\"data\")\n",
        "#Now we can grab some variables as a test:\n",
        "ymomentum = ROOT.RooRealVar(\"H1_PY\",\"H1 Y Momentum\",-3000,3000,\"MeV/c\")\n",
        "xmomentum = ROOT.RooRealVar(\"H1_PX\",\"H1 X Momentum\",-3000,3000,\"MeV/c\")\n",
        "zmomentum = ROOT.RooRealVar(\"H1_PZ\",\"H1 Z Momentum\",-3000,3000,\"MeV/c\")\n",
        "# We then create a dataset for us to play with\n",
        "data = ROOT.RooDataSet(\"data\",\"data set\", tree, ROOT.RooArgSet(xmomentum,ymomentum,zmomentum), \"1==1\")\n",
        "# Now we create a canvas, plot our data onto the canvas and draw it:\n",
        "c = ROOT.TCanvas(\"c\",\"c\")\n",
        "frame = xmomentum.frame()\n",
        "data.plotOn(frame)\n",
        "frame.Draw()\n",
        "c.Draw()"
      ],
      "execution_count": 29,
      "outputs": [
        {
          "output_type": "stream",
          "text": [
            "[#1] INFO:Eval -- RooAbsReal::attachToTree(H1_PX) TTree Float_t branch H1_PX will be converted to double precision\n",
            "[#1] INFO:Eval -- RooAbsReal::attachToTree(H1_PY) TTree Float_t branch H1_PY will be converted to double precision\n",
            "[#1] INFO:Eval -- RooAbsReal::attachToTree(H1_PZ) TTree Float_t branch H1_PZ will be converted to double precision\n",
            "[#1] INFO:Eval -- RooTreeDataStore::loadValues(data) Ignored 3305139 out of range events\n"
          ],
          "name": "stdout"
        },
        {
          "output_type": "display_data",
          "data": {
            "image/png": "[encoded data removed]",
            "text/plain": [
              "<IPython.core.display.Image object>"
            ]
          },
          "metadata": {
            "tags": []
          }
        }
      ]
    },
    {
      "cell_type": "markdown",
      "metadata": {
        "id": "4e4n4iS3IJZi"
      },
      "source": [
        "#Why are we here?\n",
        "\n",
        "This week is about finding out something about one of the fundemental questions in physics. Why do we have \"stuff\".\n",
        "\n",
        "According to many of our models, and according to many measurements in particle physics, matter and anti-matter appear to be produced in equal quantities.\n",
        "\n",
        "However, when one looks at the Universe in general, we have more matter than anti-matter left - so there need to be some processes where anti-matter and matter are not produced equally. You can find out more about the Matter/Anti-Matter Asymmetry [here](http://press.web.cern.ch/backgrounders/matterantimatter-asymmetry)\n",
        "\n",
        "One place we look for this asymetry is in [charge-partity (CP) violation](https://www.symmetrymagazine.org/article/october-2005/explain-it-in-60-seconds) in particle physics processes. This essentially says that the processes that happen in the anti-particle version of a decay do not **exactly** match to the processes that happen in the particle version of the decay.\n",
        "\n",
        "\n",
        "\n",
        "---\n",
        "\n",
        "\n",
        "\n",
        "At LHCb, we produce both particle of the  B<sup>+</sup> meson and it's antiparticle the B<sup>-</sup> meson.\n",
        "\n",
        "We cannot detect these mesons directly. They decay into other things before we have a chance to measure them properly. So we collect data on the decay products, often called daughter particles. There are 524 [documented](http://pdg.lbl.gov/2014/listings/rpp2014-list-B-plus-minus.pdf) ways that the B<sup>+/-</sup> decays into various combinations. In order to simplify the process, we choose decay combinations that are convenient or have particular properties.\n",
        "\n",
        "In this analysis, we will take the process:-\n",
        "\n",
        "B<sup>+</sup>->K<sup>+</sup> + K<sup>+</sup>  + K<sup>-</sup>\n",
        "\n",
        "or\n",
        "\n",
        "B<sup>-</sup>->K<sup>-</sup> + K<sup>-</sup>  + K<sup>+</sup>\n",
        "\n",
        "\n",
        "To do so, we are given the following data for each event in our system:-\n",
        "\n",
        "![alt text](https://raw.githubusercontent.com/lhcb/opendata-project/80d64a3796e593fc8f9b257e85f32ae2e54f131f/Images/Variables.png)\n",
        "\n",
        "Here, H1 is the detected daughter particle (so a Kaon or a Pion), **not** the B-meson - the mother particle. Normally we would have to do some reconstruction from the decay products (the Daughters) to the Mother to be able to make some conclusions.\n",
        "\n",
        "Let's get started with working with this data:"
      ]
    },
    {
      "cell_type": "markdown",
      "metadata": {
        "id": "LOhfj7kfP-ao"
      },
      "source": [
        "For our analysis, the momentum of each of the daughter particles is split into the three cartesian components. We have combined these into a variable called H1_Ptot"
      ]
    },
    {
      "cell_type": "code",
      "metadata": {
        "colab": {
          "base_uri": "https://localhost:8080/",
          "height": 1000
        },
        "id": "XPd4eFOldqhK",
        "outputId": "e3b1ff01-da42-43a2-d986-b1d085bd2911"
      },
      "source": [
        "for index in range(1,4):\r\n",
        "  a = \"H{}_Ptot\".format(index)\r\n",
        "  locals()[\"H\"+str(index)] = ROOT.TCanvas(a, a,800,600)\r\n",
        "  tree.Draw(a+\">>H{}_Ptot(1000,0,300000)\".format(index))\r\n",
        "  histogram = ROOT.gDirectory.Get(a)\r\n",
        "  histogram.SetLineColor(4)\r\n",
        "  histogram.SetTitle(\"Momentum of H{}\".format(index))\r\n",
        "  locals()[\"H\"+str(index)].Draw()"
      ],
      "execution_count": 137,
      "outputs": [
        {
          "output_type": "stream",
          "text": [
            "Warning in <TCanvas::Constructor>: Deleting canvas with same name: H1_Ptot\n",
            "Warning in <TCanvas::Constructor>: Deleting canvas with same name: H2_Ptot\n",
            "Warning in <TCanvas::Constructor>: Deleting canvas with same name: H3_Ptot\n"
          ],
          "name": "stderr"
        },
        {
          "output_type": "display_data",
          "data": {
            "image/png": "[encoded data removed]",
            "text/plain": [
              "<IPython.core.display.Image object>"
            ]
          },
          "metadata": {
            "tags": []
          }
        },
        {
          "output_type": "display_data",
          "data": {
            "image/png": "[encoded data removed]",
            "text/plain": [
              "<IPython.core.display.Image object>"
            ]
          },
          "metadata": {
            "tags": []
          }
        },
        {
          "output_type": "display_data",
          "data": {
            "image/png": "[encoded data removed]",
            "text/plain": [
              "<IPython.core.display.Image object>"
            ]
          },
          "metadata": {
            "tags": []
          }
        }
      ]
    },
    {
      "cell_type": "markdown",
      "metadata": {
        "id": "C1lXLMCoR1Gi"
      },
      "source": [
        "Now plot the total momentum for the mother (M_Ptot)"
      ]
    },
    {
      "cell_type": "code",
      "metadata": {
        "id": "6kdbiNpPR1QG",
        "colab": {
          "base_uri": "https://localhost:8080/",
          "height": 589
        },
        "outputId": "c0f7387e-59ca-4819-9238-c93037368e57"
      },
      "source": [
        "#use the histogram plotting tools, plot the momentum of the mother\r\n",
        " \r\n",
        "c = ROOT.TCanvas(\"M_Ptot\", \"M_Ptot\",800,600)\r\n",
        "\r\n",
        "tree.Draw(\"M_Ptot\"+\">>M_Ptot(1000,0,300000)\")\r\n",
        "histogram = ROOT.gDirectory.Get(\"M_Ptot\")\r\n",
        "histogram.SetLineColor(4)\r\n",
        "histogram.SetTitle(\"Momentum of the mother particle\")\r\n",
        "\r\n",
        "c.Draw()"
      ],
      "execution_count": 136,
      "outputs": [
        {
          "output_type": "display_data",
          "data": {
            "image/png": "[encoded data removed]",
            "text/plain": [
              "<IPython.core.display.Image object>"
            ]
          },
          "metadata": {
            "tags": []
          }
        }
      ]
    },
    {
      "cell_type": "markdown",
      "metadata": {
        "id": "Gj5qv5kqSMIF"
      },
      "source": [
        "Let's take a look at the whole data file that is available to us by looking at one specific entry - number 45"
      ]
    },
    {
      "cell_type": "code",
      "metadata": {
        "id": "QMkih_6SSG8I",
        "colab": {
          "base_uri": "https://localhost:8080/"
        },
        "outputId": "2148e5f0-35b3-4a75-9cf9-2a1c425f17bd"
      },
      "source": [
        "tree.Show(45)"
      ],
      "execution_count": 32,
      "outputs": [
        {
          "output_type": "stream",
          "text": [
            "======> EVENT:45\n",
            " B_FlightDistance = 4.71407\n",
            " B_VertexChi2    = 11.5278\n",
            " H1_PX           = 133.376\n",
            " H1_PY           = -1293.52\n",
            " H1_PZ           = 33534.2\n",
            " H1_ProbK        = 0.00735235\n",
            " H1_ProbPi       = 0.204907\n",
            " H1_Charge       = 1\n",
            " H1_IPChi2       = 22.9885\n",
            " H1_isMuon       = 0\n",
            " H2_PX           = 518.943\n",
            " H2_PY           = -1966.2\n",
            " H2_PZ           = 52184.7\n",
            " H2_ProbK        = 0.00482044\n",
            " H2_ProbPi       = 0.266655\n",
            " H2_Charge       = -1\n",
            " H2_IPChi2       = 20.5652\n",
            " H2_isMuon       = 0\n",
            " H3_PX           = 1383.62\n",
            " H3_PY           = -2008.35\n",
            " H3_PZ           = 12154\n",
            " H3_ProbK        = 0.0800247\n",
            " H3_ProbPi       = 0.403711\n",
            " H3_Charge       = -1\n",
            " H3_IPChi2       = 1584.95\n",
            " H3_isMuon       = 0\n",
            " H1_Ptot         = 33559.4\n",
            " H1_type         = 1\n",
            " H1_E            = 33559.7\n",
            " H2_Ptot         = 52224.4\n",
            " H2_type         = 1\n",
            " H2_E            = 52224.5\n",
            " H3_Ptot         = 12396.2\n",
            " H3_type         = 1\n",
            " H3_E            = 12397\n",
            " M_Ptot          = 98035.7\n",
            " M_E             = 98181.3\n",
            " M_m0            = 5343.69\n"
          ],
          "name": "stdout"
        }
      ]
    },
    {
      "cell_type": "markdown",
      "metadata": {
        "id": "w3sqwtNTUEJd"
      },
      "source": [
        "We have now completed the initial steps and begun to work through what we need to with the data. This is a perfect moment to take a coffee!"
      ]
    },
    {
      "cell_type": "markdown",
      "metadata": {
        "id": "6RhWWqt3a8_e"
      },
      "source": [
        "Having discovered all of the relevant information about our daughter particles, we need to combine the measurements about them into a single mother - which will be our B<sup>+</sup> or our B<sup>-</sup>\r\n",
        "\r\n",
        "Having found our momentum and energy, we can use these quantities to find our experimental mass (not the theoretical mass as we have used for the reconstruction).\r\n",
        "\r\n",
        "When we calculate this, we will get a distribution of masses. This is due to errors in the measurements made either by the detector, or in the experiment itself. We hope to have a reasonably narrow peak to work with, but, sometimes this is not possible.\r\n",
        "\r\n",
        "Additionally there will be other particles in the detector - which means our daughters might have come from two or even three different processes. Events which don't come from the same process will give a higher or lower mass than we are looking for. This is typically called the *background* while events which come from our event of interest are called the *signal*"
      ]
    },
    {
      "cell_type": "code",
      "metadata": {
        "id": "onr7-8CMbbFf",
        "colab": {
          "base_uri": "https://localhost:8080/",
          "height": 606
        },
        "outputId": "0c5ce691-49c4-40ee-eb48-02a9a1413d01"
      },
      "source": [
        "#Now plot a histogram of the range of masses of the B meson.\r\n",
        "#Does this match what we would expect from theory?\r\n",
        "\r\n",
        "c = ROOT.TCanvas(\"M_m0\", \"M_m0\",800,600)\r\n",
        "\r\n",
        "tree.Draw(\"M_m0\"+\">>M_m0(1000,0,12000)\")\r\n",
        "histogram = ROOT.gDirectory.Get(\"M_m0\")\r\n",
        "histogram.SetLineColor(4)\r\n",
        "histogram.SetTitle(\"Mass of the mother particle\")\r\n",
        "\r\n",
        "c.Draw()\r\n",
        "\r\n",
        "# It does match the theory because the graph spikes at the theoretical mass of the B meson "
      ],
      "execution_count": 135,
      "outputs": [
        {
          "output_type": "stream",
          "text": [
            "Warning in <TCanvas::Constructor>: Deleting canvas with same name: M_m0\n"
          ],
          "name": "stderr"
        },
        {
          "output_type": "display_data",
          "data": {
            "image/png": "[encoded data removed]",
            "text/plain": [
              "<IPython.core.display.Image object>"
            ]
          },
          "metadata": {
            "tags": []
          }
        }
      ]
    },
    {
      "cell_type": "markdown",
      "metadata": {
        "id": "MWGFKFnXb0RP"
      },
      "source": [
        "We know that some of our particles are the B+ and some are the B- particle. There will also be some particles in our system that are not coming from a genuine B+/- or are a B+/- but are not constructed from Kaons.\r\n",
        "\r\n",
        "We have some tools available to help:-\r\n",
        "\r\n",
        "  *  During detection, software attributes the probability of a particle being a Kaon or a Pion (in the H1_ProbK or H1_ProbPi variable)\r\n",
        "  * The detector also knows if the particle was a Muon - since it has detectors specifically for these. So it can attribute a 0 or a 1 to this probability\r\n",
        "  * The reconstructed vertex has a some kind of quality associated with it (we call this the Vertex χ2 (this is the variable B_VertexChi2). This is the statistical measure that determines how well we found a single point to be the source of all three particles.\r\n",
        "\r\n"
      ]
    },
    {
      "cell_type": "markdown",
      "metadata": {
        "id": "fEpnSmH4b9HZ"
      },
      "source": [
        "In order to get a better result, we should select our data to have the properties we desire and make some rules (often called a selection) to cut away data we don't want to include for various reasons. e.g. we know we don't have any muons in our decay - so any time H1/H2/H3 are a muon they should be excluded. The other variables are not so clear - so we can plot them to make a decision."
      ]
    },
    {
      "cell_type": "code",
      "metadata": {
        "colab": {
          "base_uri": "https://localhost:8080/",
          "height": 589
        },
        "id": "k4SP1s7JoKqG",
        "outputId": "4d180d2f-f624-4f43-8c6c-1161ae908698"
      },
      "source": [
        "c = ROOT.TCanvas(\"H1_ProbK\", \"H1_ProbK\",800,600)\r\n",
        "\r\n",
        "tree.Draw(\"H1_ProbK\"+\">>H1_ProbK(100,0,1)\")\r\n",
        "histogram1 = ROOT.gDirectory.Get(\"H1_ProbK\")\r\n",
        "histogram1.SetLineColor(2)\r\n",
        "\r\n",
        "tree.Draw(\"H2_ProbK\"+\">>H2_ProbK(100,0,1)\")\r\n",
        "histogram2 = ROOT.gDirectory.Get(\"H2_ProbK\")\r\n",
        "histogram2.SetLineColor(4)\r\n",
        "\r\n",
        "tree.Draw(\"H3_ProbK\"+\">>H3_ProbK(100,0,1)\")\r\n",
        "histogram3 = ROOT.gDirectory.Get(\"H3_ProbK\")\r\n",
        "histogram3.SetLineColor(6)\r\n",
        "\r\n",
        "histogram1.Draw()\r\n",
        "histogram2.Draw(\"same\")\r\n",
        "histogram3.Draw(\"same\")\r\n",
        "\r\n",
        "histogram1.SetTitle(\"Probabilties of Kaons in the daughter particles\")\r\n",
        "\r\n",
        "leg = ROOT.TLegend(0.15,0.85,.3,.6)\r\n",
        "leg.SetTextFont(42)\r\n",
        "leg.SetTextSize(0.035)\r\n",
        "leg.AddEntry(histogram1,\"H1_ProbK\",\"L\")\r\n",
        "leg.AddEntry(histogram2,\"H2_ProbK\",\"L\")\r\n",
        "leg.AddEntry(histogram3,\"H3_ProbK\",\"L\")\r\n",
        "\r\n",
        "leg.Draw()\r\n",
        "\r\n",
        "c.Draw()"
      ],
      "execution_count": 138,
      "outputs": [
        {
          "output_type": "display_data",
          "data": {
            "image/png": "[encoded data removed]",
            "text/plain": [
              "<IPython.core.display.Image object>"
            ]
          },
          "metadata": {
            "tags": []
          }
        }
      ]
    },
    {
      "cell_type": "code",
      "metadata": {
        "colab": {
          "base_uri": "https://localhost:8080/",
          "height": 606
        },
        "id": "oR_m5CqOt4nb",
        "outputId": "a624b960-8ecc-47ce-cd31-a41767e952c7"
      },
      "source": [
        "c = ROOT.TCanvas(\"H1_ProbPi\", \"H1_ProbPi\",800,600)\r\n",
        "\r\n",
        "tree.Draw(\"H1_ProbPi\"+\">>H1_ProbPi(100,0,1)\")\r\n",
        "tree.Draw(\"H2_ProbPi\"+\">>H2_ProbPi(100,0,1)\")\r\n",
        "tree.Draw(\"H3_ProbPi\"+\">>H3_ProbPi(100,0,1)\")\r\n",
        "\r\n",
        "histogramPi1 = ROOT.gDirectory.Get(\"H1_ProbPi\")\r\n",
        "histogramPi1.SetLineColor(2)\r\n",
        "\r\n",
        "\r\n",
        "histogramPi2 = ROOT.gDirectory.Get(\"H2_ProbPi\")\r\n",
        "histogramPi2.SetLineColor(4)\r\n",
        "\r\n",
        "\r\n",
        "histogramPi3 = ROOT.gDirectory.Get(\"H3_ProbPi\")\r\n",
        "histogramPi3.SetLineColor(6)\r\n",
        "\r\n",
        "histogramPi1.Draw()\r\n",
        "histogramPi2.Draw(\"same\")\r\n",
        "histogramPi3.Draw(\"same\")\r\n",
        "\r\n",
        "leg = ROOT.TLegend(0.25,0.85,.4,.6)\r\n",
        "leg.SetTextFont(42)\r\n",
        "leg.SetTextSize(0.035)\r\n",
        "leg.AddEntry(histogram1,\"H1_ProbPi\",\"L\")\r\n",
        "leg.AddEntry(histogram2,\"H2_ProbPi\",\"L\")\r\n",
        "leg.AddEntry(histogram3,\"H3_ProbPi\",\"L\")\r\n",
        "leg.Draw()\r\n",
        "\r\n",
        "histogramPi1.SetTitle(\"Probabilties of Pions in the daughter particles\")\r\n",
        "\r\n",
        "c.Draw()"
      ],
      "execution_count": 161,
      "outputs": [
        {
          "output_type": "stream",
          "text": [
            "Warning in <TCanvas::Constructor>: Deleting canvas with same name: H1_ProbPi\n"
          ],
          "name": "stderr"
        },
        {
          "output_type": "display_data",
          "data": {
            "image/png": "[encoded data removed]",
            "text/plain": [
              "<IPython.core.display.Image object>"
            ]
          },
          "metadata": {
            "tags": []
          }
        }
      ]
    },
    {
      "cell_type": "code",
      "metadata": {
        "colab": {
          "base_uri": "https://localhost:8080/",
          "height": 606
        },
        "id": "epFyNXGxuHn6",
        "outputId": "bf6bc80c-24af-4b3e-be84-44ef7f627856"
      },
      "source": [
        "c = ROOT.TCanvas(\"B_VertexChi2\", \"B_VertexChi2\",800,600)\r\n",
        "\r\n",
        "tree.Draw(\"B_VertexChi2\"+\">>B_VertexChi2(100,-1,13)\")\r\n",
        "histogram1 = ROOT.gDirectory.Get(\"B_VertexChi2\")\r\n",
        "histogram1.SetLineColor(2)\r\n",
        "histogram1.SetTitle(\"B_VertexChi2\")\r\n",
        "\r\n",
        "c.Draw()"
      ],
      "execution_count": 141,
      "outputs": [
        {
          "output_type": "stream",
          "text": [
            "Warning in <TCanvas::Constructor>: Deleting canvas with same name: B_VertexChi2\n"
          ],
          "name": "stderr"
        },
        {
          "output_type": "display_data",
          "data": {
            "image/png": "[encoded data removed]",
            "text/plain": [
              "<IPython.core.display.Image object>"
            ]
          },
          "metadata": {
            "tags": []
          }
        }
      ]
    },
    {
      "cell_type": "markdown",
      "metadata": {
        "id": "DWmxBkZ0cDx1"
      },
      "source": [
        "Using these plots, we can now make a preselection string. This is a text string that looks like "
      ]
    },
    {
      "cell_type": "code",
      "metadata": {
        "id": "U1IGKyZXcGJP"
      },
      "source": [
        "#This example is for each daughter particle to have a Probability of being a Pion being more than 90% and H1 to not be a muon\r\n",
        "#This is not a good choice of selection - you should make your own :)\r\n",
        "selection=(\"(H1_ProbK>0.9 & H2_ProbK>0.9 & H3_ProbK>0.9) & (!H1_isMuon & !H2_isMuon & !H3_isMuon)\")"
      ],
      "execution_count": 37,
      "outputs": []
    },
    {
      "cell_type": "code",
      "metadata": {
        "id": "MxD7JMeicMu0"
      },
      "source": [
        "#To apply the selection - we can use the copytree command:\r\n",
        "\r\n",
        "CutTree=tree.CopyTree(selection)\r\n",
        "\r\n",
        "#So now we take our data in tree and apply selection to it (so only events which comply with those rules are kept) and put the new data in CutTree"
      ],
      "execution_count": 38,
      "outputs": []
    },
    {
      "cell_type": "code",
      "metadata": {
        "colab": {
          "base_uri": "https://localhost:8080/",
          "height": 606
        },
        "id": "MCGZFnjuMHkw",
        "outputId": "4535c46b-3390-43d4-ca05-b898694fa059"
      },
      "source": [
        "c = ROOT.TCanvas(\"M_m0\", \"M_m0\",800,600)\r\n",
        "\r\n",
        "tree.Draw(\"M_m0\"+\">>M_m0(1000,0,12000)\")\r\n",
        "histogram = ROOT.gDirectory.Get(\"M_m0\")\r\n",
        "histogram.SetLineColor(4)\r\n",
        "histogram.SetTitle(\"Before the cut - mass of the mother particle\")\r\n",
        "\r\n",
        "c.Draw()"
      ],
      "execution_count": 145,
      "outputs": [
        {
          "output_type": "stream",
          "text": [
            "Warning in <TCanvas::Constructor>: Deleting canvas with same name: M_m0\n"
          ],
          "name": "stderr"
        },
        {
          "output_type": "display_data",
          "data": {
            "image/png": "[encoded data removed]",
            "text/plain": [
              "<IPython.core.display.Image object>"
            ]
          },
          "metadata": {
            "tags": []
          }
        }
      ]
    },
    {
      "cell_type": "code",
      "metadata": {
        "colab": {
          "base_uri": "https://localhost:8080/",
          "height": 606
        },
        "id": "8W1-aOwfMJF3",
        "outputId": "44582c5c-f8fb-4a5f-ff6a-6812e74f8e3e"
      },
      "source": [
        "c = ROOT.TCanvas(\"M_m0\", \"M_m0\",800,600)\r\n",
        "\r\n",
        "CutTree.Draw(\"M_m0\"+\">>M_m0(1000,0,12000)\")\r\n",
        "histogram = ROOT.gDirectory.Get(\"M_m0\")\r\n",
        "histogram.SetLineColor(4)\r\n",
        "histogram.SetTitle(\"After the cut  - mass of the mother particle\")\r\n",
        "\r\n",
        "c.Draw()"
      ],
      "execution_count": 144,
      "outputs": [
        {
          "output_type": "stream",
          "text": [
            "Warning in <TCanvas::Constructor>: Deleting canvas with same name: M_m0\n"
          ],
          "name": "stderr"
        },
        {
          "output_type": "display_data",
          "data": {
            "image/png": "[encoded data removed]",
            "text/plain": [
              "<IPython.core.display.Image object>"
            ]
          },
          "metadata": {
            "tags": []
          }
        }
      ]
    },
    {
      "cell_type": "code",
      "metadata": {
        "id": "hmmsoUwEcOir",
        "colab": {
          "base_uri": "https://localhost:8080/",
          "height": 589
        },
        "outputId": "20a75d40-e7a0-409b-cf7f-24ddb22beea1"
      },
      "source": [
        "#Now as a good check, we should see the effect of applying our cuts.\r\n",
        "#On one histogram, plot the B meson mass, from both the tree (pre-cuts) and the CutTree (post-cuts)\r\n",
        "#What do you notice about your histogram now?\r\n",
        "\r\n",
        "c = ROOT.TCanvas(\"c\", \"c\",800,600)\r\n",
        "\r\n",
        "tree.Draw(\"M_m0\"+\">>B meson mass(1000,0,8000)\")\r\n",
        "histogramPre = ROOT.gDirectory.Get(\"B meson mass\")\r\n",
        "histogramPre.SetLineColor(2)\r\n",
        "\r\n",
        "\r\n",
        "CutTree.Draw(\"M_m0\"+\">>M_m0(1000,0,8000)\")\r\n",
        "histogramPost = ROOT.gDirectory.Get(\"M_m0\")\r\n",
        "histogramPost.SetLineColor(4)\r\n",
        "\r\n",
        "\r\n",
        "histogramPre.Draw()\r\n",
        "histogramPost.Draw(\"same\")\r\n",
        "histogramPre.SetTitle(\"Comparising of the pre and post cut tree\")\r\n",
        "\r\n",
        "leg = ROOT.TLegend(0.25,0.85,.4,.6)\r\n",
        "leg.SetTextFont(42)\r\n",
        "leg.SetTextSize(0.035)\r\n",
        "leg.AddEntry(histogramPre,\"Pre Cut\",\"L\")\r\n",
        "leg.AddEntry(histogramPost,\"Post Cut\",\"L\")\r\n",
        "leg.Draw()\r\n",
        "\r\n",
        "\r\n",
        "c.Draw()\r\n",
        "\r\n",
        "# The histogram of the post cut tree is much smaller which confirms that the selection string have worked\r\n",
        "# and we only selected the entries meeting the specified criteria "
      ],
      "execution_count": 159,
      "outputs": [
        {
          "output_type": "display_data",
          "data": {
            "image/png": "[encoded data removed]",
            "text/plain": [
              "<IPython.core.display.Image object>"
            ]
          },
          "metadata": {
            "tags": []
          }
        }
      ]
    },
    {
      "cell_type": "markdown",
      "metadata": {
        "id": "N1tResqvcMgQ"
      },
      "source": [
        "#How do we count the number of events?\r\n",
        "\r\n",
        "We now have a histogram of events that we have reconstructed as a B meson. But some of these events are caused by a co-incidence of events which would still occur if there were no B mesons actually produced. We call this the background. Background and signal are indistinguishable now as the detector cannot tell the difference and our cuts were unable to remove the events for physics reasons. We can do some statistical analysis, if we know the approximate shapes of our signal and our background. Just like a least-squares fitting we can run a fit routine to minimise the error between the fitted curve and our data. As an example, if we know our data has an exponential background and a gaussian signal:\r\n",
        "\r\n",
        "![Gaussian+Exp Background](https://twiki.cern.ch/twiki/pub/RooStats/RooStatsTutorialsJune2013/GausExpModelFit.png)\r\n",
        "\r\n",
        "Here the red line represents our signal, the blue dotted line is our background and the solid blue line is our combined curve. The graph also shows the number of signal events and the number of background events. The signal now is a tiny fraction of the total data shown in the plot.\r\n",
        "\r\n",
        "In order to do this, we need to build a fit model, around which the software can try to fit our data.\r\n",
        "\r\n",
        "We use RooFit for this, which includes:\r\n",
        "* Gaussian\r\n",
        "* Exponential\r\n",
        "* Chebychev\r\n",
        "* Crystal Ball\r\n",
        "* Breit-Wigner\r\n",
        "\r\n",
        "As well as several other choices.\r\n",
        "\r\n",
        "Typically exponential and Chebychev functions are used for background and Gaussian, Crystal Ball and Breit-Wigner are used for signal. We can also combine them (e.g. 1 crystal ball, 1 gaussian, 1 exponential) in various ways."
      ]
    },
    {
      "cell_type": "code",
      "metadata": {
        "id": "R_7q_HY1qhiS"
      },
      "source": [
        "#define physical measurment that we want to fit using RooRealVar\r\n",
        "# var = ROOT.RooRealVar =(\"Variable from Python\", \"Nickname\",Min, Max, Units)\r\n",
        "mass = ROOT.RooRealVar(\"M_m0\",\"Mass\",5000,5600,\"MeV/C^{2}\")\r\n",
        "\r\n",
        "#passing the rest of the variables into the model\r\n",
        "#For the RooRealVar the last three parameters are given, \"starting value\" and min/max values\r\n",
        "gaussMean = ROOT.RooRealVar(\"Mean\",\"Mean\",5285,5000,5500)\r\n",
        "gaussWidth = ROOT.RooRealVar(\"Width\",\"Width\",20,0,50)\r\n",
        "\r\n",
        "#Now we have enough to make our Model for the signal:\r\n",
        "Gauss=ROOT.RooGaussian(\"Gaussian Signal\",\"Gauss\",mass,gaussMean,gaussWidth)\r\n",
        "Gauss_Norm= ROOT.RooRealVar(\"Gauss_Norm\",\"Signal Yield\", tree.GetEntries()/30, 0, tree.GetEntries() * 3)\r\n",
        "#We also need a background, so let's use a (simple) exponential:\r\n",
        "\r\n",
        "exponent=ROOT.RooRealVar(\"exponent\", \"C\", -0.02, -2, +2)\r\n",
        "exp_Norm= ROOT.RooRealVar(\"exp_Norm\",\"Background Yield\", tree.GetEntries()/30, 0, tree.GetEntries() * 2)\r\n",
        "\r\n",
        "#Define the  model for the background:\r\n",
        "\r\n",
        "Bkgnd=ROOT.RooExponential(\"Exponential Background\",\"Bkgnd\",mass,exponent)\r\n",
        "\r\n",
        "#Now we need to combine these two functions into a single PDF (probability density function)\r\n",
        "#and we need to add the normalisation factors at the end as scaling factors\r\n",
        "\r\n",
        "model=ROOT.RooAddPdf(\"Full Model\",\"model\",ROOT.RooArgList(Gauss,Bkgnd),ROOT.RooArgList(Gauss_Norm, exp_Norm) )"
      ],
      "execution_count": 54,
      "outputs": []
    },
    {
      "cell_type": "code",
      "metadata": {
        "id": "PL-qVvs-dw86",
        "colab": {
          "base_uri": "https://localhost:8080/"
        },
        "outputId": "d542bbf5-a447-4a37-ae90-bfada433fef2"
      },
      "source": [
        "#Put our data set into a RooDataSet structure\r\n",
        "\r\n",
        "data_to_fit=ROOT.RooDataSet(\"Data Set\",\"data_to_fit\", CutTree, ROOT.RooArgSet(mass))\r\n",
        "\r\n",
        "#Then we can do the fitting:\r\n",
        "\r\n",
        "model.fitTo(data_to_fit)\r\n",
        "\r\n",
        "#if everything went well, you will see the outputs of RooFit below"
      ],
      "execution_count": 55,
      "outputs": [
        {
          "output_type": "execute_result",
          "data": {
            "text/plain": [
              "<ROOT.RooFitResult object at 0x(nil)>"
            ]
          },
          "metadata": {
            "tags": []
          },
          "execution_count": 55
        },
        {
          "output_type": "stream",
          "text": [
            "[#1] INFO:Eval -- RooAbsReal::attachToTree(M_m0) TTree Float_t branch M_m0 will be converted to double precision\n",
            "[#1] INFO:Eval -- RooTreeDataStore::loadValues(Data Set) Ignored 57 out of range events\n",
            "[#1] INFO:Minization -- p.d.f. provides expected number of events, including extended term in likelihood.\n",
            "[#1] INFO:Minization -- RooMinimizer::optimizeConst: activating const optimization\n",
            "[#1] INFO:Minization --  The following expressions will be evaluated in cache-and-track mode: (Gaussian Signal,Exponential Background)\n",
            " **********\n",
            " **   28 **SET PRINT           1\n",
            " **********\n",
            " **********\n",
            " **   29 **SET NOGRAD\n",
            " **********\n",
            " PARAMETER DEFINITIONS:\n",
            "    NO.   NAME         VALUE      STEP SIZE      LIMITS\n",
            "     1 Gauss_Norm   1.14006e+05  5.70030e+04    0.00000e+00  1.02606e+07\n",
            " MINUIT WARNING IN PARAM DEF\n",
            " ============== LIMITS ON PARAM1 TOO FAR APART.\n",
            " PARAMETER DEFINITIONS:\n",
            "    NO.   NAME         VALUE      STEP SIZE      LIMITS\n",
            "     2 Mean         5.28500e+03  5.00000e+01    5.00000e+03  5.50000e+03\n",
            "     3 Width        2.00000e+01  5.00000e+00    0.00000e+00  5.00000e+01\n",
            "     4 exp_Norm     1.14006e+05  5.70030e+04    0.00000e+00  6.84039e+06\n",
            "     5 exponent    -2.00000e-02  4.00000e-01   -2.00000e+00  2.00000e+00\n",
            " **********\n",
            " **   30 **SET ERR         0.5\n",
            " **********\n",
            " **********\n",
            " **   31 **SET PRINT           1\n",
            " **********\n",
            " **********\n",
            " **   32 **SET STR           1\n",
            " **********\n",
            " NOW USING STRATEGY  1: TRY TO BALANCE SPEED AGAINST RELIABILITY\n",
            " **********\n",
            " **   33 **MIGRAD        2500           1\n",
            " **********\n",
            " FIRST CALL TO USER FUNCTION AT NEW START POINT, WITH IFLAG=4.\n",
            " START MIGRAD MINIMIZATION.  STRATEGY  1.  CONVERGENCE WHEN EDM .LT. 1.00e-03\n",
            "[#0] WARNING:Minization -- RooMinimizerFcn: Minimized function has error status.\n",
            "Returning maximum FCN so far (240406) to force MIGRAD to back out of this region. Error log follows\n",
            "Parameter values: Gauss_Norm=114006, Mean=5285, Width=20, exp_Norm=114006, exponent=-0.150454\n",
            "RooExponential::Exponential Background[ x=M_m0 c=exponent ]\n",
            "     p.d.f normalization integral is zero or negative @ x=M_m0=5277.09, c=exponent=-0.150454\n",
            "     p.d.f normalization integral is zero or negative @ x=M_m0=5278.98, c=exponent=-0.150454\n",
            "     p.d.f normalization integral is zero or negative @ x=M_m0=5091.47, c=exponent=-0.150454\n",
            "     p.d.f normalization integral is zero or negative @ x=M_m0=5340.12, c=exponent=-0.150454\n",
            "     p.d.f normalization integral is zero or negative @ x=M_m0=5145.64, c=exponent=-0.150454\n",
            "     p.d.f normalization integral is zero or negative @ x=M_m0=5309.25, c=exponent=-0.150454\n",
            "     p.d.f normalization integral is zero or negative @ x=M_m0=5276.22, c=exponent=-0.150454\n",
            "     p.d.f normalization integral is zero or negative @ x=M_m0=5316.59, c=exponent=-0.150454\n",
            "     p.d.f normalization integral is zero or negative @ x=M_m0=5294.33, c=exponent=-0.150454\n",
            "     p.d.f normalization integral is zero or negative @ x=M_m0=5254.15, c=exponent=-0.150454\n",
            "     p.d.f normalization integral is zero or negative @ x=M_m0=5066.8, c=exponent=-0.150454\n",
            "     p.d.f normalization integral is zero or negative @ x=M_m0=5305.77, c=exponent=-0.150454\n",
            "    ... (remaining 1093 messages suppressed)\n",
            "\n",
            " FCN=220520 FROM MIGRAD    STATUS=INITIATE       24 CALLS          25 TOTAL\n",
            "                     EDM= unknown      STRATEGY= 1      NO ERROR MATRIX       \n",
            "  EXT PARAMETER               CURRENT GUESS       STEP         FIRST   \n",
            "  NO.   NAME      VALUE            ERROR          SIZE      DERIVATIVE \n",
            "   1  Gauss_Norm   1.14006e+05   5.70030e+04   5.48559e-02   1.06691e+06\n",
            "   2  Mean         5.28500e+03   5.00000e+01   2.03476e-01  -2.07250e+02\n",
            "   3  Width        2.00000e+01   5.00000e+00   2.05758e-01   2.10864e+02\n",
            "   4  exp_Norm     1.14006e+05   5.70030e+04   6.73657e-02   8.74244e+05\n",
            "   5  exponent    -2.00000e-02   4.00000e-01   2.01369e-01  -5.16168e+04\n",
            "                               ERR DEF= 0.5\n",
            "[#0] WARNING:Minization -- RooMinimizerFcn: Minimized function has error status.\n",
            "Returning maximum FCN so far (240406) to force MIGRAD to back out of this region. Error log follows\n",
            "Parameter values: Gauss_Norm=0.120425, Mean=5285.39, Width=16.5426, exp_Norm=44.3757, exponent=1.30252\n",
            "RooRealIntegral::Exponential Background_Int[M_m0][ Int Exponential Backgroundd[Ana](M_m0) ]\n",
            "     function value is NAN @ !sumList=(), !intList=(), !anaList=(M_m0 = 5277.09), !jacList=(), !facList=(), !func=Exponential Background=inf/2.54882e-45, !sumCat=()\n",
            "RooAddPdf::Full Model[ Gauss_Norm * Gaussian Signal + exp_Norm * Exponential Background ]\n",
            "     p.d.f value is Not-a-Number (-nan), forcing value to zero @ !refCoefNorm=(), !pdfs=(Gaussian Signal = 0.829093/41.4661,Exponential Background = inf/-nan), !coefficients=(Gauss_Norm = 0.120425,exp_Norm = 44.3757)\n",
            "     getLogVal() top-level p.d.f evaluates to zero @ !refCoefNorm=(), !pdfs=(Gaussian Signal = 0.829093/41.4661,Exponential Background = inf/-nan), !coefficients=(Gauss_Norm = 0.120425,exp_Norm = 44.3757)\n",
            "     p.d.f value is Not-a-Number (-nan), forcing value to zero @ !refCoefNorm=(), !pdfs=(Gaussian Signal = 0.71734/41.4661,Exponential Background = inf/-nan), !coefficients=(Gauss_Norm = 0.120425,exp_Norm = 44.3757)\n",
            "     getLogVal() top-level p.d.f evaluates to zero @ !refCoefNorm=(), !pdfs=(Gaussian Signal = 0.71734/41.4661,Exponential Background = inf/-nan), !coefficients=(Gauss_Norm = 0.120425,exp_Norm = 44.3757)\n",
            "     p.d.f value is Not-a-Number (-nan), forcing value to zero @ !refCoefNorm=(), !pdfs=(Gaussian Signal = 3.10116e-39/41.4661,Exponential Background = inf/-nan), !coefficients=(Gauss_Norm = 0.120425,exp_Norm = 44.3757)\n",
            "     getLogVal() top-level p.d.f evaluates to zero @ !refCoefNorm=(), !pdfs=(Gaussian Signal = 3.10116e-39/41.4661,Exponential Background = inf/-nan), !coefficients=(Gauss_Norm = 0.120425,exp_Norm = 44.3757)\n",
            "     p.d.f value is Not-a-Number (-nan), forcing value to zero @ !refCoefNorm=(), !pdfs=(Gaussian Signal = 0.994908/41.4661,Exponential Background = inf/-nan), !coefficients=(Gauss_Norm = 0.120425,exp_Norm = 44.3757)\n",
            "     getLogVal() top-level p.d.f evaluates to zero @ !refCoefNorm=(), !pdfs=(Gaussian Signal = 0.994908/41.4661,Exponential Background = inf/-nan), !coefficients=(Gauss_Norm = 0.120425,exp_Norm = 44.3757)\n",
            "     p.d.f value is Not-a-Number (-nan), forcing value to zero @ !refCoefNorm=(), !pdfs=(Gaussian Signal = 0.682059/41.4661,Exponential Background = inf/-nan), !coefficients=(Gauss_Norm = 0.120425,exp_Norm = 44.3757)\n",
            "     getLogVal() top-level p.d.f evaluates to zero @ !refCoefNorm=(), !pdfs=(Gaussian Signal = 0.682059/41.4661,Exponential Background = inf/-nan), !coefficients=(Gauss_Norm = 0.120425,exp_Norm = 44.3757)\n",
            "     p.d.f value is Not-a-Number (-nan), forcing value to zero @ !refCoefNorm=(), !pdfs=(Gaussian Signal = 0.240377/41.4661,Exponential Background = inf/-nan), !coefficients=(Gauss_Norm = 0.120425,exp_Norm = 44.3757)\n",
            "     getLogVal() top-level p.d.f evaluates to zero @ !refCoefNorm=(), !pdfs=(Gaussian Signal = 0.240377/41.4661,Exponential Background = inf/-nan), !coefficients=(Gauss_Norm = 0.120425,exp_Norm = 44.3757)\n",
            "    ... (remaining 2038 messages suppressed)\n",
            "RooNLLVar::nll_Full Model_Data Set[ paramSet=(Gauss_Norm,Mean,Width,exp_Norm,exponent) ]\n",
            "     function value is NAN @ paramSet=(Gauss_Norm = 0.120425,Mean = 5285.39,Width = 16.5426,exp_Norm = 44.3757,exponent = 1.30252)\n",
            "\n",
            "[#0] WARNING:Minization -- RooMinimizerFcn: Minimized function has error status.\n",
            "Returning maximum FCN so far (240406) to force MIGRAD to back out of this region. Error log follows\n",
            "Parameter values: Gauss_Norm=30896.4, Mean=5285.19, Width=18.321, exp_Norm=29767.6, exponent=0.65882\n",
            "RooRealIntegral::Exponential Background_Int[M_m0][ Int Exponential Backgroundd[Ana](M_m0) ]\n",
            "     function value is NAN @ !sumList=(), !intList=(), !anaList=(M_m0 = 5277.09), !jacList=(), !facList=(), !func=Exponential Background=inf/-nan, !sumCat=()\n",
            "RooAddPdf::Full Model[ Gauss_Norm * Gaussian Signal + exp_Norm * Exponential Background ]\n",
            "     p.d.f value is Not-a-Number (-nan), forcing value to zero @ !refCoefNorm=(), !pdfs=(Gaussian Signal = 0.853085/45.9239,Exponential Background = inf/-nan), !coefficients=(Gauss_Norm = 30896.4,exp_Norm = 29767.6)\n",
            "     getLogVal() top-level p.d.f evaluates to zero @ !refCoefNorm=(), !pdfs=(Gaussian Signal = 0.853085/45.9239,Exponential Background = inf/-nan), !coefficients=(Gauss_Norm = 30896.4,exp_Norm = 29767.6)\n",
            "     p.d.f value is Not-a-Number (-nan), forcing value to zero @ !refCoefNorm=(), !pdfs=(Gaussian Signal = 0.756589/45.9239,Exponential Background = inf/-nan), !coefficients=(Gauss_Norm = 30896.4,exp_Norm = 29767.6)\n",
            "     getLogVal() top-level p.d.f evaluates to zero @ !refCoefNorm=(), !pdfs=(Gaussian Signal = 0.756589/45.9239,Exponential Background = inf/-nan), !coefficients=(Gauss_Norm = 30896.4,exp_Norm = 29767.6)\n",
            "     p.d.f value is Not-a-Number (-nan), forcing value to zero @ !refCoefNorm=(), !pdfs=(Gaussian Signal = 4.58795e-32/45.9239,Exponential Background = inf/-nan), !coefficients=(Gauss_Norm = 30896.4,exp_Norm = 29767.6)\n",
            "     getLogVal() top-level p.d.f evaluates to zero @ !refCoefNorm=(), !pdfs=(Gaussian Signal = 4.58795e-32/45.9239,Exponential Background = inf/-nan), !coefficients=(Gauss_Norm = 30896.4,exp_Norm = 29767.6)\n",
            "     p.d.f value is Not-a-Number (-nan), forcing value to zero @ !refCoefNorm=(), !pdfs=(Gaussian Signal = 0.994796/45.9239,Exponential Background = inf/-nan), !coefficients=(Gauss_Norm = 30896.4,exp_Norm = 29767.6)\n",
            "     getLogVal() top-level p.d.f evaluates to zero @ !refCoefNorm=(), !pdfs=(Gaussian Signal = 0.994796/45.9239,Exponential Background = inf/-nan), !coefficients=(Gauss_Norm = 30896.4,exp_Norm = 29767.6)\n",
            "     p.d.f value is Not-a-Number (-nan), forcing value to zero @ !refCoefNorm=(), !pdfs=(Gaussian Signal = 0.738305/45.9239,Exponential Background = inf/-nan), !coefficients=(Gauss_Norm = 30896.4,exp_Norm = 29767.6)\n",
            "     getLogVal() top-level p.d.f evaluates to zero @ !refCoefNorm=(), !pdfs=(Gaussian Signal = 0.738305/45.9239,Exponential Background = inf/-nan), !coefficients=(Gauss_Norm = 30896.4,exp_Norm = 29767.6)\n",
            "     p.d.f value is Not-a-Number (-nan), forcing value to zero @ !refCoefNorm=(), !pdfs=(Gaussian Signal = 0.31802/45.9239,Exponential Background = inf/-nan), !coefficients=(Gauss_Norm = 30896.4,exp_Norm = 29767.6)\n",
            "     getLogVal() top-level p.d.f evaluates to zero @ !refCoefNorm=(), !pdfs=(Gaussian Signal = 0.31802/45.9239,Exponential Background = inf/-nan), !coefficients=(Gauss_Norm = 30896.4,exp_Norm = 29767.6)\n",
            "    ... (remaining 2038 messages suppressed)\n",
            "RooNLLVar::nll_Full Model_Data Set[ paramSet=(Gauss_Norm,Mean,Width,exp_Norm,exponent) ]\n",
            "     function value is NAN @ paramSet=(Gauss_Norm = 30896.4,Mean = 5285.19,Width = 18.321,exp_Norm = 29767.6,exponent = 0.65882)\n",
            "\n",
            "[#0] WARNING:Minization -- RooMinimizerFcn: Minimized function has error status.\n",
            "Returning maximum FCN so far (240406) to force MIGRAD to back out of this region. Error log follows\n",
            "Parameter values: Gauss_Norm=69200.4, Mean=5285.09, Width=19.222, exp_Norm=68440.1, exponent=0.297804\n",
            "RooRealIntegral::Exponential Background_Int[M_m0][ Int Exponential Backgroundd[Ana](M_m0) ]\n",
            "     function value is NAN @ !sumList=(), !intList=(), !anaList=(M_m0 = 5277.09), !jacList=(), !facList=(), !func=Exponential Background=inf/-nan, !sumCat=()\n",
            "RooAddPdf::Full Model[ Gauss_Norm * Gaussian Signal + exp_Norm * Exponential Background ]\n",
            "     p.d.f value is Not-a-Number (-nan), forcing value to zero @ !refCoefNorm=(), !pdfs=(Gaussian Signal = 0.863165/48.1825,Exponential Background = inf/-nan), !coefficients=(Gauss_Norm = 69200.4,exp_Norm = 68440.1)\n",
            "     getLogVal() top-level p.d.f evaluates to zero @ !refCoefNorm=(), !pdfs=(Gaussian Signal = 0.863165/48.1825,Exponential Background = inf/-nan), !coefficients=(Gauss_Norm = 69200.4,exp_Norm = 68440.1)\n",
            "     p.d.f value is Not-a-Number (-nan), forcing value to zero @ !refCoefNorm=(), !pdfs=(Gaussian Signal = 0.773289/48.1825,Exponential Background = inf/-nan), !coefficients=(Gauss_Norm = 69200.4,exp_Norm = 68440.1)\n",
            "     getLogVal() top-level p.d.f evaluates to zero @ !refCoefNorm=(), !pdfs=(Gaussian Signal = 0.773289/48.1825,Exponential Background = inf/-nan), !coefficients=(Gauss_Norm = 69200.4,exp_Norm = 68440.1)\n",
            "     p.d.f value is Not-a-Number (-nan), forcing value to zero @ !refCoefNorm=(), !pdfs=(Gaussian Signal = 3.60243e-29/48.1825,Exponential Background = inf/-nan), !coefficients=(Gauss_Norm = 69200.4,exp_Norm = 68440.1)\n",
            "     getLogVal() top-level p.d.f evaluates to zero @ !refCoefNorm=(), !pdfs=(Gaussian Signal = 3.60243e-29/48.1825,Exponential Background = inf/-nan), !coefficients=(Gauss_Norm = 69200.4,exp_Norm = 68440.1)\n",
            "     p.d.f value is Not-a-Number (-nan), forcing value to zero @ !refCoefNorm=(), !pdfs=(Gaussian Signal = 0.994755/48.1825,Exponential Background = inf/-nan), !coefficients=(Gauss_Norm = 69200.4,exp_Norm = 68440.1)\n",
            "     getLogVal() top-level p.d.f evaluates to zero @ !refCoefNorm=(), !pdfs=(Gaussian Signal = 0.994755/48.1825,Exponential Background = inf/-nan), !coefficients=(Gauss_Norm = 69200.4,exp_Norm = 68440.1)\n",
            "     p.d.f value is Not-a-Number (-nan), forcing value to zero @ !refCoefNorm=(), !pdfs=(Gaussian Signal = 0.76202/48.1825,Exponential Background = inf/-nan), !coefficients=(Gauss_Norm = 69200.4,exp_Norm = 68440.1)\n",
            "     getLogVal() top-level p.d.f evaluates to zero @ !refCoefNorm=(), !pdfs=(Gaussian Signal = 0.76202/48.1825,Exponential Background = inf/-nan), !coefficients=(Gauss_Norm = 69200.4,exp_Norm = 68440.1)\n",
            "     p.d.f value is Not-a-Number (-nan), forcing value to zero @ !refCoefNorm=(), !pdfs=(Gaussian Signal = 0.355837/48.1825,Exponential Background = inf/-nan), !coefficients=(Gauss_Norm = 69200.4,exp_Norm = 68440.1)\n",
            "     getLogVal() top-level p.d.f evaluates to zero @ !refCoefNorm=(), !pdfs=(Gaussian Signal = 0.355837/48.1825,Exponential Background = inf/-nan), !coefficients=(Gauss_Norm = 69200.4,exp_Norm = 68440.1)\n",
            "    ... (remaining 2038 messages suppressed)\n",
            "RooNLLVar::nll_Full Model_Data Set[ paramSet=(Gauss_Norm,Mean,Width,exp_Norm,exponent) ]\n",
            "     function value is NAN @ paramSet=(Gauss_Norm = 69200.4,Mean = 5285.09,Width = 19.222,exp_Norm = 68440.1,exponent = 0.297804)\n",
            "\n",
            "[#0] WARNING:Minization -- RooMinimizerFcn: Minimized function has error status.\n",
            "Returning maximum FCN so far (240406) to force MIGRAD to back out of this region. Error log follows\n",
            "Parameter values: Gauss_Norm=15832.7, Mean=5273.37, Width=12.5855, exp_Norm=18514, exponent=0.584599\n",
            "RooRealIntegral::Exponential Background_Int[M_m0][ Int Exponential Backgroundd[Ana](M_m0) ]\n",
            "     function value is NAN @ !sumList=(), !intList=(), !anaList=(M_m0 = 5277.09), !jacList=(), !facList=(), !func=Exponential Background=inf/2.54662e+279, !sumCat=()\n",
            "RooAddPdf::Full Model[ Gauss_Norm * Gaussian Signal + exp_Norm * Exponential Background ]\n",
            "     p.d.f value is Not-a-Number (-nan), forcing value to zero @ !refCoefNorm=(), !pdfs=(Gaussian Signal = 0.212757/31.5471,Exponential Background = inf/-nan), !coefficients=(Gauss_Norm = 15832.7,exp_Norm = 18514)\n",
            "     getLogVal() top-level p.d.f evaluates to zero @ !refCoefNorm=(), !pdfs=(Gaussian Signal = 0.212757/31.5471,Exponential Background = inf/-nan), !coefficients=(Gauss_Norm = 15832.7,exp_Norm = 18514)\n",
            "     p.d.f value is Not-a-Number (-nan), forcing value to zero @ !refCoefNorm=(), !pdfs=(Gaussian Signal = 0.128441/31.5471,Exponential Background = inf/-nan), !coefficients=(Gauss_Norm = 15832.7,exp_Norm = 18514)\n",
            "     getLogVal() top-level p.d.f evaluates to zero @ !refCoefNorm=(), !pdfs=(Gaussian Signal = 0.128441/31.5471,Exponential Background = inf/-nan), !coefficients=(Gauss_Norm = 15832.7,exp_Norm = 18514)\n",
            "     p.d.f value is Not-a-Number (-nan), forcing value to zero @ !refCoefNorm=(), !pdfs=(Gaussian Signal = 3.37076e-60/31.5471,Exponential Background = inf/-nan), !coefficients=(Gauss_Norm = 15832.7,exp_Norm = 18514)\n",
            "     getLogVal() top-level p.d.f evaluates to zero @ !refCoefNorm=(), !pdfs=(Gaussian Signal = 3.37076e-60/31.5471,Exponential Background = inf/-nan), !coefficients=(Gauss_Norm = 15832.7,exp_Norm = 18514)\n",
            "     p.d.f value is Not-a-Number (-nan), forcing value to zero @ !refCoefNorm=(), !pdfs=(Gaussian Signal = 0.553656/31.5471,Exponential Background = inf/-nan), !coefficients=(Gauss_Norm = 15832.7,exp_Norm = 18514)\n",
            "     getLogVal() top-level p.d.f evaluates to zero @ !refCoefNorm=(), !pdfs=(Gaussian Signal = 0.553656/31.5471,Exponential Background = inf/-nan), !coefficients=(Gauss_Norm = 15832.7,exp_Norm = 18514)\n",
            "     p.d.f value is Not-a-Number (-nan), forcing value to zero @ !refCoefNorm=(), !pdfs=(Gaussian Signal = 0.981113/31.5471,Exponential Background = inf/-nan), !coefficients=(Gauss_Norm = 15832.7,exp_Norm = 18514)\n",
            "     getLogVal() top-level p.d.f evaluates to zero @ !refCoefNorm=(), !pdfs=(Gaussian Signal = 0.981113/31.5471,Exponential Background = inf/-nan), !coefficients=(Gauss_Norm = 15832.7,exp_Norm = 18514)\n",
            "     p.d.f value is Not-a-Number (-nan), forcing value to zero @ !refCoefNorm=(), !pdfs=(Gaussian Signal = 0.449367/31.5471,Exponential Background = inf/-nan), !coefficients=(Gauss_Norm = 15832.7,exp_Norm = 18514)\n",
            "     getLogVal() top-level p.d.f evaluates to zero @ !refCoefNorm=(), !pdfs=(Gaussian Signal = 0.449367/31.5471,Exponential Background = inf/-nan), !coefficients=(Gauss_Norm = 15832.7,exp_Norm = 18514)\n",
            "    ... (remaining 2038 messages suppressed)\n",
            "RooNLLVar::nll_Full Model_Data Set[ paramSet=(Gauss_Norm,Mean,Width,exp_Norm,exponent) ]\n",
            "     function value is NAN @ paramSet=(Gauss_Norm = 15832.7,Mean = 5273.37,Width = 12.5855,exp_Norm = 18514,exponent = 0.584599)\n",
            "\n",
            "[#0] WARNING:Minization -- RooMinimizerFcn: Minimized function has error status.\n",
            "Returning maximum FCN so far (240406) to force MIGRAD to back out of this region. Error log follows\n",
            "Parameter values: Gauss_Norm=12043.8, Mean=5279.74, Width=49.9942, exp_Norm=10996.3, exponent=0.331091\n",
            "RooRealIntegral::Exponential Background_Int[M_m0][ Int Exponential Backgroundd[Ana](M_m0) ]\n",
            "     function value is NAN @ !sumList=(), !intList=(), !anaList=(M_m0 = 5277.09), !jacList=(), !facList=(), !func=Exponential Background=inf/-nan, !sumCat=()\n",
            "RooAddPdf::Full Model[ Gauss_Norm * Gaussian Signal + exp_Norm * Exponential Background ]\n",
            "     p.d.f value is Not-a-Number (-nan), forcing value to zero @ !refCoefNorm=(), !pdfs=(Gaussian Signal = 0.951419/125.317,Exponential Background = inf/-nan), !coefficients=(Gauss_Norm = 12043.8,exp_Norm = 10996.3)\n",
            "     getLogVal() top-level p.d.f evaluates to zero @ !refCoefNorm=(), !pdfs=(Gaussian Signal = 0.951419/125.317,Exponential Background = inf/-nan), !coefficients=(Gauss_Norm = 12043.8,exp_Norm = 10996.3)\n",
            "     p.d.f value is Not-a-Number (-nan), forcing value to zero @ !refCoefNorm=(), !pdfs=(Gaussian Signal = 0.929379/125.317,Exponential Background = inf/-nan), !coefficients=(Gauss_Norm = 12043.8,exp_Norm = 10996.3)\n",
            "     getLogVal() top-level p.d.f evaluates to zero @ !refCoefNorm=(), !pdfs=(Gaussian Signal = 0.929379/125.317,Exponential Background = inf/-nan), !coefficients=(Gauss_Norm = 12043.8,exp_Norm = 10996.3)\n",
            "     p.d.f value is Not-a-Number (-nan), forcing value to zero @ !refCoefNorm=(), !pdfs=(Gaussian Signal = 9.93743e-05/125.317,Exponential Background = inf/-nan), !coefficients=(Gauss_Norm = 12043.8,exp_Norm = 10996.3)\n",
            "     getLogVal() top-level p.d.f evaluates to zero @ !refCoefNorm=(), !pdfs=(Gaussian Signal = 9.93743e-05/125.317,Exponential Background = inf/-nan), !coefficients=(Gauss_Norm = 12043.8,exp_Norm = 10996.3)\n",
            "     p.d.f value is Not-a-Number (-nan), forcing value to zero @ !refCoefNorm=(), !pdfs=(Gaussian Signal = 0.989334/125.317,Exponential Background = inf/-nan), !coefficients=(Gauss_Norm = 12043.8,exp_Norm = 10996.3)\n",
            "     getLogVal() top-level p.d.f evaluates to zero @ !refCoefNorm=(), !pdfs=(Gaussian Signal = 0.989334/125.317,Exponential Background = inf/-nan), !coefficients=(Gauss_Norm = 12043.8,exp_Norm = 10996.3)\n",
            "     p.d.f value is Not-a-Number (-nan), forcing value to zero @ !refCoefNorm=(), !pdfs=(Gaussian Signal = 0.984553/125.317,Exponential Background = inf/-nan), !coefficients=(Gauss_Norm = 12043.8,exp_Norm = 10996.3)\n",
            "     getLogVal() top-level p.d.f evaluates to zero @ !refCoefNorm=(), !pdfs=(Gaussian Signal = 0.984553/125.317,Exponential Background = inf/-nan), !coefficients=(Gauss_Norm = 12043.8,exp_Norm = 10996.3)\n",
            "     p.d.f value is Not-a-Number (-nan), forcing value to zero @ !refCoefNorm=(), !pdfs=(Gaussian Signal = 0.905448/125.317,Exponential Background = inf/-nan), !coefficients=(Gauss_Norm = 12043.8,exp_Norm = 10996.3)\n",
            "     getLogVal() top-level p.d.f evaluates to zero @ !refCoefNorm=(), !pdfs=(Gaussian Signal = 0.905448/125.317,Exponential Background = inf/-nan), !coefficients=(Gauss_Norm = 12043.8,exp_Norm = 10996.3)\n",
            "    ... (remaining 2038 messages suppressed)\n",
            "RooNLLVar::nll_Full Model_Data Set[ paramSet=(Gauss_Norm,Mean,Width,exp_Norm,exponent) ]\n",
            "     function value is NAN @ paramSet=(Gauss_Norm = 12043.8,Mean = 5279.74,Width = 49.9942,exp_Norm = 10996.3,exponent = 0.331091)\n",
            "\n",
            "[#0] WARNING:Minization -- RooMinimizerFcn: Minimized function has error status.\n",
            "Returning maximum FCN so far (240406) to force MIGRAD to back out of this region. Error log follows\n",
            "Parameter values: Gauss_Norm=50854.6, Mean=5282.86, Width=37.2079, exp_Norm=49819.6, exponent=0.20403\n",
            "RooRealIntegral::Exponential Background_Int[M_m0][ Int Exponential Backgroundd[Ana](M_m0) ]\n",
            "     function value is NAN @ !sumList=(), !intList=(), !anaList=(M_m0 = 5277.09), !jacList=(), !facList=(), !func=Exponential Background=inf/-nan, !sumCat=()\n",
            "RooAddPdf::Full Model[ Gauss_Norm * Gaussian Signal + exp_Norm * Exponential Background ]\n",
            "     p.d.f value is Not-a-Number (-nan), forcing value to zero @ !refCoefNorm=(), !pdfs=(Gaussian Signal = 0.943812/93.2663,Exponential Background = inf/-nan), !coefficients=(Gauss_Norm = 50854.6,exp_Norm = 49819.6)\n",
            "     getLogVal() top-level p.d.f evaluates to zero @ !refCoefNorm=(), !pdfs=(Gaussian Signal = 0.943812/93.2663,Exponential Background = inf/-nan), !coefficients=(Gauss_Norm = 50854.6,exp_Norm = 49819.6)\n",
            "     p.d.f value is Not-a-Number (-nan), forcing value to zero @ !refCoefNorm=(), !pdfs=(Gaussian Signal = 0.911586/93.2663,Exponential Background = inf/-nan), !coefficients=(Gauss_Norm = 50854.6,exp_Norm = 49819.6)\n",
            "     getLogVal() top-level p.d.f evaluates to zero @ !refCoefNorm=(), !pdfs=(Gaussian Signal = 0.911586/93.2663,Exponential Background = inf/-nan), !coefficients=(Gauss_Norm = 50854.6,exp_Norm = 49819.6)\n",
            "     p.d.f value is Not-a-Number (-nan), forcing value to zero @ !refCoefNorm=(), !pdfs=(Gaussian Signal = 3.64459e-08/93.2663,Exponential Background = inf/-nan), !coefficients=(Gauss_Norm = 50854.6,exp_Norm = 49819.6)\n",
            "     getLogVal() top-level p.d.f evaluates to zero @ !refCoefNorm=(), !pdfs=(Gaussian Signal = 3.64459e-08/93.2663,Exponential Background = inf/-nan), !coefficients=(Gauss_Norm = 50854.6,exp_Norm = 49819.6)\n",
            "     p.d.f value is Not-a-Number (-nan), forcing value to zero @ !refCoefNorm=(), !pdfs=(Gaussian Signal = 0.993658/93.2663,Exponential Background = inf/-nan), !coefficients=(Gauss_Norm = 50854.6,exp_Norm = 49819.6)\n",
            "     getLogVal() top-level p.d.f evaluates to zero @ !refCoefNorm=(), !pdfs=(Gaussian Signal = 0.993658/93.2663,Exponential Background = inf/-nan), !coefficients=(Gauss_Norm = 50854.6,exp_Norm = 49819.6)\n",
            "     p.d.f value is Not-a-Number (-nan), forcing value to zero @ !refCoefNorm=(), !pdfs=(Gaussian Signal = 0.949767/93.2663,Exponential Background = inf/-nan), !coefficients=(Gauss_Norm = 50854.6,exp_Norm = 49819.6)\n",
            "     getLogVal() top-level p.d.f evaluates to zero @ !refCoefNorm=(), !pdfs=(Gaussian Signal = 0.949767/93.2663,Exponential Background = inf/-nan), !coefficients=(Gauss_Norm = 50854.6,exp_Norm = 49819.6)\n",
            "     p.d.f value is Not-a-Number (-nan), forcing value to zero @ !refCoefNorm=(), !pdfs=(Gaussian Signal = 0.79205/93.2663,Exponential Background = inf/-nan), !coefficients=(Gauss_Norm = 50854.6,exp_Norm = 49819.6)\n",
            "     getLogVal() top-level p.d.f evaluates to zero @ !refCoefNorm=(), !pdfs=(Gaussian Signal = 0.79205/93.2663,Exponential Background = inf/-nan), !coefficients=(Gauss_Norm = 50854.6,exp_Norm = 49819.6)\n",
            "    ... (remaining 2038 messages suppressed)\n",
            "RooNLLVar::nll_Full Model_Data Set[ paramSet=(Gauss_Norm,Mean,Width,exp_Norm,exponent) ]\n",
            "     function value is NAN @ paramSet=(Gauss_Norm = 50854.6,Mean = 5282.86,Width = 37.2079,exp_Norm = 49819.6,exponent = 0.20403)\n",
            "\n",
            "[#0] WARNING:Minization -- RooMinimizerFcn: Minimized function has error status.\n",
            "Returning maximum FCN so far (240406) to force MIGRAD to back out of this region. Error log follows\n",
            "Parameter values: Gauss_Norm=78255.7, Mean=5284.32, Width=25.5633, exp_Norm=77614, exponent=0.144083\n",
            "RooRealIntegral::Exponential Background_Int[M_m0][ Int Exponential Backgroundd[Ana](M_m0) ]\n",
            "     function value is NAN @ !sumList=(), !intList=(), !anaList=(M_m0 = 5277.09), !jacList=(), !facList=(), !func=Exponential Background=inf/-nan, !sumCat=()\n",
            "RooAddPdf::Full Model[ Gauss_Norm * Gaussian Signal + exp_Norm * Exponential Background ]\n",
            "     p.d.f value is Not-a-Number (-nan), forcing value to zero @ !refCoefNorm=(), !pdfs=(Gaussian Signal = 0.908648/64.0777,Exponential Background = inf/-nan), !coefficients=(Gauss_Norm = 78255.7,exp_Norm = 77614)\n",
            "     getLogVal() top-level p.d.f evaluates to zero @ !refCoefNorm=(), !pdfs=(Gaussian Signal = 0.908648/64.0777,Exponential Background = inf/-nan), !coefficients=(Gauss_Norm = 78255.7,exp_Norm = 77614)\n",
            "     p.d.f value is Not-a-Number (-nan), forcing value to zero @ !refCoefNorm=(), !pdfs=(Gaussian Signal = 0.850545/64.0777,Exponential Background = inf/-nan), !coefficients=(Gauss_Norm = 78255.7,exp_Norm = 77614)\n",
            "     getLogVal() top-level p.d.f evaluates to zero @ !refCoefNorm=(), !pdfs=(Gaussian Signal = 0.850545/64.0777,Exponential Background = inf/-nan), !coefficients=(Gauss_Norm = 78255.7,exp_Norm = 77614)\n",
            "     p.d.f value is Not-a-Number (-nan), forcing value to zero @ !refCoefNorm=(), !pdfs=(Gaussian Signal = 1.06891e-16/64.0777,Exponential Background = inf/-nan), !coefficients=(Gauss_Norm = 78255.7,exp_Norm = 77614)\n",
            "     getLogVal() top-level p.d.f evaluates to zero @ !refCoefNorm=(), !pdfs=(Gaussian Signal = 1.06891e-16/64.0777,Exponential Background = inf/-nan), !coefficients=(Gauss_Norm = 78255.7,exp_Norm = 77614)\n",
            "     p.d.f value is Not-a-Number (-nan), forcing value to zero @ !refCoefNorm=(), !pdfs=(Gaussian Signal = 0.994302/64.0777,Exponential Background = inf/-nan), !coefficients=(Gauss_Norm = 78255.7,exp_Norm = 77614)\n",
            "     getLogVal() top-level p.d.f evaluates to zero @ !refCoefNorm=(), !pdfs=(Gaussian Signal = 0.994302/64.0777,Exponential Background = inf/-nan), !coefficients=(Gauss_Norm = 78255.7,exp_Norm = 77614)\n",
            "     p.d.f value is Not-a-Number (-nan), forcing value to zero @ !refCoefNorm=(), !pdfs=(Gaussian Signal = 0.871451/64.0777,Exponential Background = inf/-nan), !coefficients=(Gauss_Norm = 78255.7,exp_Norm = 77614)\n",
            "     getLogVal() top-level p.d.f evaluates to zero @ !refCoefNorm=(), !pdfs=(Gaussian Signal = 0.871451/64.0777,Exponential Background = inf/-nan), !coefficients=(Gauss_Norm = 78255.7,exp_Norm = 77614)\n",
            "     p.d.f value is Not-a-Number (-nan), forcing value to zero @ !refCoefNorm=(), !pdfs=(Gaussian Signal = 0.575528/64.0777,Exponential Background = inf/-nan), !coefficients=(Gauss_Norm = 78255.7,exp_Norm = 77614)\n",
            "     getLogVal() top-level p.d.f evaluates to zero @ !refCoefNorm=(), !pdfs=(Gaussian Signal = 0.575528/64.0777,Exponential Background = inf/-nan), !coefficients=(Gauss_Norm = 78255.7,exp_Norm = 77614)\n",
            "    ... (remaining 2038 messages suppressed)\n",
            "RooNLLVar::nll_Full Model_Data Set[ paramSet=(Gauss_Norm,Mean,Width,exp_Norm,exponent) ]\n",
            "     function value is NAN @ paramSet=(Gauss_Norm = 78255.7,Mean = 5284.32,Width = 25.5633,exp_Norm = 77614,exponent = 0.144083)\n",
            "\n",
            "[#0] WARNING:Minization -- RooMinimizerFcn: Minimized function has error status.\n",
            "Returning maximum FCN so far (240406) to force MIGRAD to back out of this region. Error log follows\n",
            "Parameter values: Gauss_Norm=78995.4, Mean=5284.36, Width=25.2666, exp_Norm=78366.2, exponent=0.142622\n",
            "RooRealIntegral::Exponential Background_Int[M_m0][ Int Exponential Backgroundd[Ana](M_m0) ]\n",
            "     function value is NAN @ !sumList=(), !intList=(), !anaList=(M_m0 = 5277.09), !jacList=(), !facList=(), !func=Exponential Background=inf/1.28442e+298, !sumCat=()\n",
            "RooAddPdf::Full Model[ Gauss_Norm * Gaussian Signal + exp_Norm * Exponential Background ]\n",
            "     p.d.f value is Not-a-Number (-nan), forcing value to zero @ !refCoefNorm=(), !pdfs=(Gaussian Signal = 0.907159/63.334,Exponential Background = inf/-nan), !coefficients=(Gauss_Norm = 78995.4,exp_Norm = 78366.2)\n",
            "     getLogVal() top-level p.d.f evaluates to zero @ !refCoefNorm=(), !pdfs=(Gaussian Signal = 0.907159/63.334,Exponential Background = inf/-nan), !coefficients=(Gauss_Norm = 78995.4,exp_Norm = 78366.2)\n",
            "     p.d.f value is Not-a-Number (-nan), forcing value to zero @ !refCoefNorm=(), !pdfs=(Gaussian Signal = 0.847986/63.334,Exponential Background = inf/-nan), !coefficients=(Gauss_Norm = 78995.4,exp_Norm = 78366.2)\n",
            "     getLogVal() top-level p.d.f evaluates to zero @ !refCoefNorm=(), !pdfs=(Gaussian Signal = 0.847986/63.334,Exponential Background = inf/-nan), !coefficients=(Gauss_Norm = 78995.4,exp_Norm = 78366.2)\n",
            "     p.d.f value is Not-a-Number (-nan), forcing value to zero @ !refCoefNorm=(), !pdfs=(Gaussian Signal = 4.42963e-17/63.334,Exponential Background = inf/-nan), !coefficients=(Gauss_Norm = 78995.4,exp_Norm = 78366.2)\n",
            "     getLogVal() top-level p.d.f evaluates to zero @ !refCoefNorm=(), !pdfs=(Gaussian Signal = 4.42963e-17/63.334,Exponential Background = inf/-nan), !coefficients=(Gauss_Norm = 78995.4,exp_Norm = 78366.2)\n",
            "     p.d.f value is Not-a-Number (-nan), forcing value to zero @ !refCoefNorm=(), !pdfs=(Gaussian Signal = 0.994318/63.334,Exponential Background = inf/-nan), !coefficients=(Gauss_Norm = 78995.4,exp_Norm = 78366.2)\n",
            "     getLogVal() top-level p.d.f evaluates to zero @ !refCoefNorm=(), !pdfs=(Gaussian Signal = 0.994318/63.334,Exponential Background = inf/-nan), !coefficients=(Gauss_Norm = 78995.4,exp_Norm = 78366.2)\n",
            "     p.d.f value is Not-a-Number (-nan), forcing value to zero @ !refCoefNorm=(), !pdfs=(Gaussian Signal = 0.867973/63.334,Exponential Background = inf/-nan), !coefficients=(Gauss_Norm = 78995.4,exp_Norm = 78366.2)\n",
            "     getLogVal() top-level p.d.f evaluates to zero @ !refCoefNorm=(), !pdfs=(Gaussian Signal = 0.867973/63.334,Exponential Background = inf/-nan), !coefficients=(Gauss_Norm = 78995.4,exp_Norm = 78366.2)\n",
            "     p.d.f value is Not-a-Number (-nan), forcing value to zero @ !refCoefNorm=(), !pdfs=(Gaussian Signal = 0.567215/63.334,Exponential Background = inf/-nan), !coefficients=(Gauss_Norm = 78995.4,exp_Norm = 78366.2)\n",
            "     getLogVal() top-level p.d.f evaluates to zero @ !refCoefNorm=(), !pdfs=(Gaussian Signal = 0.567215/63.334,Exponential Background = inf/-nan), !coefficients=(Gauss_Norm = 78995.4,exp_Norm = 78366.2)\n",
            "    ... (remaining 2038 messages suppressed)\n",
            "RooNLLVar::nll_Full Model_Data Set[ paramSet=(Gauss_Norm,Mean,Width,exp_Norm,exponent) ]\n",
            "     function value is NAN @ paramSet=(Gauss_Norm = 78995.4,Mean = 5284.36,Width = 25.2666,exp_Norm = 78366.2,exponent = 0.142622)\n",
            "\n",
            "[#0] WARNING:Minization -- RooMinimizerFcn: Minimized function has error status.\n",
            "Returning maximum FCN so far (240406) to force MIGRAD to back out of this region. Error log follows\n",
            "Parameter values: Gauss_Norm=84260.2, Mean=5284.61, Width=23.1951, exp_Norm=83721.6, exponent=0.132413\n",
            "RooAddPdf::Full Model[ Gauss_Norm * Gaussian Signal + exp_Norm * Exponential Background ]\n",
            "     p.d.f value is Not-a-Number (-nan), forcing value to zero @ !refCoefNorm=(), !pdfs=(Gaussian Signal = 1.16116e-07/58.1414,Exponential Background = inf/inf), !coefficients=(Gauss_Norm = 84260.2,exp_Norm = 83721.6)\n",
            "     getLogVal() top-level p.d.f evaluates to zero @ !refCoefNorm=(), !pdfs=(Gaussian Signal = 1.16116e-07/58.1414,Exponential Background = inf/inf), !coefficients=(Gauss_Norm = 84260.2,exp_Norm = 83721.6)\n",
            "     p.d.f value is Not-a-Number (-nan), forcing value to zero @ !refCoefNorm=(), !pdfs=(Gaussian Signal = 4.88758e-26/58.1414,Exponential Background = inf/inf), !coefficients=(Gauss_Norm = 84260.2,exp_Norm = 83721.6)\n",
            "     getLogVal() top-level p.d.f evaluates to zero @ !refCoefNorm=(), !pdfs=(Gaussian Signal = 4.88758e-26/58.1414,Exponential Background = inf/inf), !coefficients=(Gauss_Norm = 84260.2,exp_Norm = 83721.6)\n",
            "     p.d.f value is Not-a-Number (-nan), forcing value to zero @ !refCoefNorm=(), !pdfs=(Gaussian Signal = 4.86984e-26/58.1414,Exponential Background = inf/inf), !coefficients=(Gauss_Norm = 84260.2,exp_Norm = 83721.6)\n",
            "     getLogVal() top-level p.d.f evaluates to zero @ !refCoefNorm=(), !pdfs=(Gaussian Signal = 4.86984e-26/58.1414,Exponential Background = inf/inf), !coefficients=(Gauss_Norm = 84260.2,exp_Norm = 83721.6)\n",
            "     p.d.f value is Not-a-Number (-nan), forcing value to zero @ !refCoefNorm=(), !pdfs=(Gaussian Signal = 5.4886e-23/58.1414,Exponential Background = inf/inf), !coefficients=(Gauss_Norm = 84260.2,exp_Norm = 83721.6)\n",
            "     getLogVal() top-level p.d.f evaluates to zero @ !refCoefNorm=(), !pdfs=(Gaussian Signal = 5.4886e-23/58.1414,Exponential Background = inf/inf), !coefficients=(Gauss_Norm = 84260.2,exp_Norm = 83721.6)\n",
            "     p.d.f value is Not-a-Number (-nan), forcing value to zero @ !refCoefNorm=(), !pdfs=(Gaussian Signal = 2.97872e-23/58.1414,Exponential Background = inf/inf), !coefficients=(Gauss_Norm = 84260.2,exp_Norm = 83721.6)\n",
            "     getLogVal() top-level p.d.f evaluates to zero @ !refCoefNorm=(), !pdfs=(Gaussian Signal = 2.97872e-23/58.1414,Exponential Background = inf/inf), !coefficients=(Gauss_Norm = 84260.2,exp_Norm = 83721.6)\n",
            "     p.d.f value is Not-a-Number (-nan), forcing value to zero @ !refCoefNorm=(), !pdfs=(Gaussian Signal = 4.37861e-05/58.1414,Exponential Background = inf/inf), !coefficients=(Gauss_Norm = 84260.2,exp_Norm = 83721.6)\n",
            "     getLogVal() top-level p.d.f evaluates to zero @ !refCoefNorm=(), !pdfs=(Gaussian Signal = 4.37861e-05/58.1414,Exponential Background = inf/inf), !coefficients=(Gauss_Norm = 84260.2,exp_Norm = 83721.6)\n",
            "    ... (remaining 62 messages suppressed)\n",
            "RooNLLVar::nll_Full Model_Data Set[ paramSet=(Gauss_Norm,Mean,Width,exp_Norm,exponent) ]\n",
            "     function value is NAN @ paramSet=(Gauss_Norm = 84260.2,Mean = 5284.61,Width = 23.1951,exp_Norm = 83721.6,exponent = 0.132413)\n",
            "\n",
            "[#0] WARNING:Minization -- RooMinimizerFcn: Minimized function has error status.\n",
            "Returning maximum FCN so far (240406) to force MIGRAD to back out of this region. Error log follows\n",
            "Parameter values: Gauss_Norm=86955.7, Mean=5284.73, Width=22.1631, exp_Norm=86464.8, exponent=0.127307\n",
            "RooAddPdf::Full Model[ Gauss_Norm * Gaussian Signal + exp_Norm * Exponential Background ]\n",
            "     p.d.f value is Not-a-Number (-nan), forcing value to zero @ !refCoefNorm=(), !pdfs=(Gaussian Signal = 2.45753e-43/55.5546,Exponential Background = inf/inf), !coefficients=(Gauss_Norm = 86955.7,exp_Norm = 86464.8)\n",
            "     getLogVal() top-level p.d.f evaluates to zero @ !refCoefNorm=(), !pdfs=(Gaussian Signal = 2.45753e-43/55.5546,Exponential Background = inf/inf), !coefficients=(Gauss_Norm = 86955.7,exp_Norm = 86464.8)\n",
            "     p.d.f value is Not-a-Number (-nan), forcing value to zero @ !refCoefNorm=(), !pdfs=(Gaussian Signal = 3.44867e-39/55.5546,Exponential Background = inf/inf), !coefficients=(Gauss_Norm = 86955.7,exp_Norm = 86464.8)\n",
            "     getLogVal() top-level p.d.f evaluates to zero @ !refCoefNorm=(), !pdfs=(Gaussian Signal = 3.44867e-39/55.5546,Exponential Background = inf/inf), !coefficients=(Gauss_Norm = 86955.7,exp_Norm = 86464.8)\n",
            "     p.d.f value is Not-a-Number (-nan), forcing value to zero @ !refCoefNorm=(), !pdfs=(Gaussian Signal = 1.91621e-40/55.5546,Exponential Background = inf/inf), !coefficients=(Gauss_Norm = 86955.7,exp_Norm = 86464.8)\n",
            "     getLogVal() top-level p.d.f evaluates to zero @ !refCoefNorm=(), !pdfs=(Gaussian Signal = 1.91621e-40/55.5546,Exponential Background = inf/inf), !coefficients=(Gauss_Norm = 86955.7,exp_Norm = 86464.8)\n",
            "RooNLLVar::nll_Full Model_Data Set[ paramSet=(Gauss_Norm,Mean,Width,exp_Norm,exponent) ]\n",
            "     function value is NAN @ paramSet=(Gauss_Norm = 86955.7,Mean = 5284.73,Width = 22.1631,exp_Norm = 86464.8,exponent = 0.127307)\n",
            "\n",
            "[#0] WARNING:Minization -- RooMinimizerFcn: Minimized function has error status.\n",
            "Returning maximum FCN so far (240406) to force MIGRAD to back out of this region. Error log follows\n",
            "Parameter values: Gauss_Norm=88319.3, Mean=5284.79, Width=21.6488, exp_Norm=87852.8, exponent=0.128175\n",
            "RooAddPdf::Full Model[ Gauss_Norm * Gaussian Signal + exp_Norm * Exponential Background ]\n",
            "     p.d.f value is Not-a-Number (-nan), forcing value to zero @ !refCoefNorm=(), !pdfs=(Gaussian Signal = 2.29029e-45/54.2654,Exponential Background = inf/inf), !coefficients=(Gauss_Norm = 88319.3,exp_Norm = 87852.8)\n",
            "     getLogVal() top-level p.d.f evaluates to zero @ !refCoefNorm=(), !pdfs=(Gaussian Signal = 2.29029e-45/54.2654,Exponential Background = inf/inf), !coefficients=(Gauss_Norm = 88319.3,exp_Norm = 87852.8)\n",
            "     p.d.f value is Not-a-Number (-nan), forcing value to zero @ !refCoefNorm=(), !pdfs=(Gaussian Signal = 3.86712e-32/54.2654,Exponential Background = inf/inf), !coefficients=(Gauss_Norm = 88319.3,exp_Norm = 87852.8)\n",
            "     getLogVal() top-level p.d.f evaluates to zero @ !refCoefNorm=(), !pdfs=(Gaussian Signal = 3.86712e-32/54.2654,Exponential Background = inf/inf), !coefficients=(Gauss_Norm = 88319.3,exp_Norm = 87852.8)\n",
            "     p.d.f value is Not-a-Number (-nan), forcing value to zero @ !refCoefNorm=(), !pdfs=(Gaussian Signal = 5.07609e-41/54.2654,Exponential Background = inf/inf), !coefficients=(Gauss_Norm = 88319.3,exp_Norm = 87852.8)\n",
            "     getLogVal() top-level p.d.f evaluates to zero @ !refCoefNorm=(), !pdfs=(Gaussian Signal = 5.07609e-41/54.2654,Exponential Background = inf/inf), !coefficients=(Gauss_Norm = 88319.3,exp_Norm = 87852.8)\n",
            "     p.d.f value is Not-a-Number (-nan), forcing value to zero @ !refCoefNorm=(), !pdfs=(Gaussian Signal = 1.06985e-32/54.2654,Exponential Background = inf/inf), !coefficients=(Gauss_Norm = 88319.3,exp_Norm = 87852.8)\n",
            "     getLogVal() top-level p.d.f evaluates to zero @ !refCoefNorm=(), !pdfs=(Gaussian Signal = 1.06985e-32/54.2654,Exponential Background = inf/inf), !coefficients=(Gauss_Norm = 88319.3,exp_Norm = 87852.8)\n",
            "     p.d.f value is Not-a-Number (-nan), forcing value to zero @ !refCoefNorm=(), !pdfs=(Gaussian Signal = 2.45612e-42/54.2654,Exponential Background = inf/inf), !coefficients=(Gauss_Norm = 88319.3,exp_Norm = 87852.8)\n",
            "     getLogVal() top-level p.d.f evaluates to zero @ !refCoefNorm=(), !pdfs=(Gaussian Signal = 2.45612e-42/54.2654,Exponential Background = inf/inf), !coefficients=(Gauss_Norm = 88319.3,exp_Norm = 87852.8)\n",
            "     p.d.f value is Not-a-Number (-nan), forcing value to zero @ !refCoefNorm=(), !pdfs=(Gaussian Signal = 7.15922e-35/54.2654,Exponential Background = inf/inf), !coefficients=(Gauss_Norm = 88319.3,exp_Norm = 87852.8)\n",
            "     getLogVal() top-level p.d.f evaluates to zero @ !refCoefNorm=(), !pdfs=(Gaussian Signal = 7.15922e-35/54.2654,Exponential Background = inf/inf), !coefficients=(Gauss_Norm = 88319.3,exp_Norm = 87852.8)\n",
            "    ... (remaining 4 messages suppressed)\n",
            "RooNLLVar::nll_Full Model_Data Set[ paramSet=(Gauss_Norm,Mean,Width,exp_Norm,exponent) ]\n",
            "     function value is NAN @ paramSet=(Gauss_Norm = 88319.3,Mean = 5284.79,Width = 21.6488,exp_Norm = 87852.8,exponent = 0.128175)\n",
            "\n",
            "[#0] WARNING:Minization -- RooMinimizerFcn: Minimized function has error status.\n",
            "Returning maximum FCN so far (240406) to force MIGRAD to back out of this region. Error log follows\n",
            "Parameter values: Gauss_Norm=2.85586e+06, Mean=5226.81, Width=29.8344, exp_Norm=2.83269e+06, exponent=1.9174\n",
            "RooRealIntegral::Exponential Background_Int[M_m0][ Int Exponential Backgroundd[Ana](M_m0) ]\n",
            "     function value is NAN @ !sumList=(), !intList=(), !anaList=(M_m0 = 5277.09), !jacList=(), !facList=(), !func=Exponential Background=inf/3.01368e+303, !sumCat=()\n",
            "RooAddPdf::Full Model[ Gauss_Norm * Gaussian Signal + exp_Norm * Exponential Background ]\n",
            "     p.d.f value is Not-a-Number (-nan), forcing value to zero @ !refCoefNorm=(), !pdfs=(Gaussian Signal = 0.0705452/74.7838,Exponential Background = inf/-nan), !coefficients=(Gauss_Norm = 2.85586e+06,exp_Norm = 2.83269e+06)\n",
            "     getLogVal() top-level p.d.f evaluates to zero @ !refCoefNorm=(), !pdfs=(Gaussian Signal = 0.0705452/74.7838,Exponential Background = inf/-nan), !coefficients=(Gauss_Norm = 2.85586e+06,exp_Norm = 2.83269e+06)\n",
            "     p.d.f value is Not-a-Number (-nan), forcing value to zero @ !refCoefNorm=(), !pdfs=(Gaussian Signal = 0.0541031/74.7838,Exponential Background = inf/-nan), !coefficients=(Gauss_Norm = 2.85586e+06,exp_Norm = 2.83269e+06)\n",
            "     getLogVal() top-level p.d.f evaluates to zero @ !refCoefNorm=(), !pdfs=(Gaussian Signal = 0.0541031/74.7838,Exponential Background = inf/-nan), !coefficients=(Gauss_Norm = 2.85586e+06,exp_Norm = 2.83269e+06)\n",
            "     p.d.f value is Not-a-Number (-nan), forcing value to zero @ !refCoefNorm=(), !pdfs=(Gaussian Signal = 4.16543e-07/74.7838,Exponential Background = inf/-nan), !coefficients=(Gauss_Norm = 2.85586e+06,exp_Norm = 2.83269e+06)\n",
            "     getLogVal() top-level p.d.f evaluates to zero @ !refCoefNorm=(), !pdfs=(Gaussian Signal = 4.16543e-07/74.7838,Exponential Background = inf/-nan), !coefficients=(Gauss_Norm = 2.85586e+06,exp_Norm = 2.83269e+06)\n",
            "     p.d.f value is Not-a-Number (-nan), forcing value to zero @ !refCoefNorm=(), !pdfs=(Gaussian Signal = 0.130167/74.7838,Exponential Background = inf/-nan), !coefficients=(Gauss_Norm = 2.85586e+06,exp_Norm = 2.83269e+06)\n",
            "     getLogVal() top-level p.d.f evaluates to zero @ !refCoefNorm=(), !pdfs=(Gaussian Signal = 0.130167/74.7838,Exponential Background = inf/-nan), !coefficients=(Gauss_Norm = 2.85586e+06,exp_Norm = 2.83269e+06)\n",
            "     p.d.f value is Not-a-Number (-nan), forcing value to zero @ !refCoefNorm=(), !pdfs=(Gaussian Signal = 0.335321/74.7838,Exponential Background = inf/-nan), !coefficients=(Gauss_Norm = 2.85586e+06,exp_Norm = 2.83269e+06)\n",
            "     getLogVal() top-level p.d.f evaluates to zero @ !refCoefNorm=(), !pdfs=(Gaussian Signal = 0.335321/74.7838,Exponential Background = inf/-nan), !coefficients=(Gauss_Norm = 2.85586e+06,exp_Norm = 2.83269e+06)\n",
            "     p.d.f value is Not-a-Number (-nan), forcing value to zero @ !refCoefNorm=(), !pdfs=(Gaussian Signal = 0.590099/74.7838,Exponential Background = inf/-nan), !coefficients=(Gauss_Norm = 2.85586e+06,exp_Norm = 2.83269e+06)\n",
            "     getLogVal() top-level p.d.f evaluates to zero @ !refCoefNorm=(), !pdfs=(Gaussian Signal = 0.590099/74.7838,Exponential Background = inf/-nan), !coefficients=(Gauss_Norm = 2.85586e+06,exp_Norm = 2.83269e+06)\n",
            "    ... (remaining 2038 messages suppressed)\n",
            "RooNLLVar::nll_Full Model_Data Set[ paramSet=(Gauss_Norm,Mean,Width,exp_Norm,exponent) ]\n",
            "     function value is NAN @ paramSet=(Gauss_Norm = 2.85586e+06,Mean = 5226.81,Width = 29.8344,exp_Norm = 2.83269e+06,exponent = 1.9174)\n",
            "\n",
            "[#0] WARNING:Minization -- RooMinimizerFcn: Minimized function has error status.\n",
            "Returning maximum FCN so far (240406) to force MIGRAD to back out of this region. Error log follows\n",
            "Parameter values: Gauss_Norm=504162, Mean=5256.55, Width=30.0471, exp_Norm=532884, exponent=1.22238\n",
            "RooRealIntegral::Exponential Background_Int[M_m0][ Int Exponential Backgroundd[Ana](M_m0) ]\n",
            "     function value is NAN @ !sumList=(), !intList=(), !anaList=(M_m0 = 5277.09), !jacList=(), !facList=(), !func=Exponential Background=inf/-nan, !sumCat=()\n",
            "RooAddPdf::Full Model[ Gauss_Norm * Gaussian Signal + exp_Norm * Exponential Background ]\n",
            "     p.d.f value is Not-a-Number (-nan), forcing value to zero @ !refCoefNorm=(), !pdfs=(Gaussian Signal = 0.431359/75.3168,Exponential Background = inf/-nan), !coefficients=(Gauss_Norm = 504162,exp_Norm = 532884)\n",
            "     getLogVal() top-level p.d.f evaluates to zero @ !refCoefNorm=(), !pdfs=(Gaussian Signal = 0.431359/75.3168,Exponential Background = inf/-nan), !coefficients=(Gauss_Norm = 504162,exp_Norm = 532884)\n",
            "     p.d.f value is Not-a-Number (-nan), forcing value to zero @ !refCoefNorm=(), !pdfs=(Gaussian Signal = 0.370876/75.3168,Exponential Background = inf/-nan), !coefficients=(Gauss_Norm = 504162,exp_Norm = 532884)\n",
            "     getLogVal() top-level p.d.f evaluates to zero @ !refCoefNorm=(), !pdfs=(Gaussian Signal = 0.370876/75.3168,Exponential Background = inf/-nan), !coefficients=(Gauss_Norm = 504162,exp_Norm = 532884)\n",
            "     p.d.f value is Not-a-Number (-nan), forcing value to zero @ !refCoefNorm=(), !pdfs=(Gaussian Signal = 1.52557e-09/75.3168,Exponential Background = inf/-nan), !coefficients=(Gauss_Norm = 504162,exp_Norm = 532884)\n",
            "     getLogVal() top-level p.d.f evaluates to zero @ !refCoefNorm=(), !pdfs=(Gaussian Signal = 1.52557e-09/75.3168,Exponential Background = inf/-nan), !coefficients=(Gauss_Norm = 504162,exp_Norm = 532884)\n",
            "     p.d.f value is Not-a-Number (-nan), forcing value to zero @ !refCoefNorm=(), !pdfs=(Gaussian Signal = 0.597232/75.3168,Exponential Background = inf/-nan), !coefficients=(Gauss_Norm = 504162,exp_Norm = 532884)\n",
            "     getLogVal() top-level p.d.f evaluates to zero @ !refCoefNorm=(), !pdfs=(Gaussian Signal = 0.597232/75.3168,Exponential Background = inf/-nan), !coefficients=(Gauss_Norm = 504162,exp_Norm = 532884)\n",
            "     p.d.f value is Not-a-Number (-nan), forcing value to zero @ !refCoefNorm=(), !pdfs=(Gaussian Signal = 0.892011/75.3168,Exponential Background = inf/-nan), !coefficients=(Gauss_Norm = 504162,exp_Norm = 532884)\n",
            "     getLogVal() top-level p.d.f evaluates to zero @ !refCoefNorm=(), !pdfs=(Gaussian Signal = 0.892011/75.3168,Exponential Background = inf/-nan), !coefficients=(Gauss_Norm = 504162,exp_Norm = 532884)\n",
            "     p.d.f value is Not-a-Number (-nan), forcing value to zero @ !refCoefNorm=(), !pdfs=(Gaussian Signal = 0.999548/75.3168,Exponential Background = inf/-nan), !coefficients=(Gauss_Norm = 504162,exp_Norm = 532884)\n",
            "     getLogVal() top-level p.d.f evaluates to zero @ !refCoefNorm=(), !pdfs=(Gaussian Signal = 0.999548/75.3168,Exponential Background = inf/-nan), !coefficients=(Gauss_Norm = 504162,exp_Norm = 532884)\n",
            "    ... (remaining 2038 messages suppressed)\n",
            "RooNLLVar::nll_Full Model_Data Set[ paramSet=(Gauss_Norm,Mean,Width,exp_Norm,exponent) ]\n",
            "     function value is NAN @ paramSet=(Gauss_Norm = 504162,Mean = 5256.55,Width = 30.0471,exp_Norm = 532884,exponent = 1.22238)\n",
            "\n",
            "[#0] WARNING:Minization -- RooMinimizerFcn: Minimized function has error status.\n",
            "Returning maximum FCN so far (240406) to force MIGRAD to back out of this region. Error log follows\n",
            "Parameter values: Gauss_Norm=34016.4, Mean=5271.39, Width=1.93865, exp_Norm=38411.4, exponent=0.677362\n",
            "RooRealIntegral::Exponential Background_Int[M_m0][ Int Exponential Backgroundd[Ana](M_m0) ]\n",
            "     function value is NAN @ !sumList=(), !intList=(), !anaList=(M_m0 = 5277.09), !jacList=(), !facList=(), !func=Exponential Background=inf/-nan, !sumCat=()\n",
            "RooAddPdf::Full Model[ Gauss_Norm * Gaussian Signal + exp_Norm * Exponential Background ]\n",
            "     p.d.f value is Not-a-Number (-nan), forcing value to zero @ !refCoefNorm=(), !pdfs=(Gaussian Signal = 2.42494e-34/4.85948,Exponential Background = inf/-nan), !coefficients=(Gauss_Norm = 34016.4,exp_Norm = 38411.4)\n",
            "     getLogVal() top-level p.d.f evaluates to zero @ !refCoefNorm=(), !pdfs=(Gaussian Signal = 2.42494e-34/4.85948,Exponential Background = inf/-nan), !coefficients=(Gauss_Norm = 34016.4,exp_Norm = 38411.4)\n",
            "     p.d.f value is Not-a-Number (-nan), forcing value to zero @ !refCoefNorm=(), !pdfs=(Gaussian Signal = 2.39938e-44/4.85948,Exponential Background = inf/-nan), !coefficients=(Gauss_Norm = 34016.4,exp_Norm = 38411.4)\n",
            "     getLogVal() top-level p.d.f evaluates to zero @ !refCoefNorm=(), !pdfs=(Gaussian Signal = 2.39938e-44/4.85948,Exponential Background = inf/-nan), !coefficients=(Gauss_Norm = 34016.4,exp_Norm = 38411.4)\n",
            "     p.d.f value is Not-a-Number (-nan), forcing value to zero @ !refCoefNorm=(), !pdfs=(Gaussian Signal = 0/4.85948,Exponential Background = inf/-nan), !coefficients=(Gauss_Norm = 34016.4,exp_Norm = 38411.4)\n",
            "     getLogVal() top-level p.d.f evaluates to zero @ !refCoefNorm=(), !pdfs=(Gaussian Signal = 0/4.85948,Exponential Background = inf/-nan), !coefficients=(Gauss_Norm = 34016.4,exp_Norm = 38411.4)\n",
            "     p.d.f value is Not-a-Number (-nan), forcing value to zero @ !refCoefNorm=(), !pdfs=(Gaussian Signal = 6.65868e-15/4.85948,Exponential Background = inf/-nan), !coefficients=(Gauss_Norm = 34016.4,exp_Norm = 38411.4)\n",
            "     getLogVal() top-level p.d.f evaluates to zero @ !refCoefNorm=(), !pdfs=(Gaussian Signal = 6.65868e-15/4.85948,Exponential Background = inf/-nan), !coefficients=(Gauss_Norm = 34016.4,exp_Norm = 38411.4)\n",
            "     p.d.f value is Not-a-Number (-nan), forcing value to zero @ !refCoefNorm=(), !pdfs=(Gaussian Signal = 0.969956/4.85948,Exponential Background = inf/-nan), !coefficients=(Gauss_Norm = 34016.4,exp_Norm = 38411.4)\n",
            "     getLogVal() top-level p.d.f evaluates to zero @ !refCoefNorm=(), !pdfs=(Gaussian Signal = 0.969956/4.85948,Exponential Background = inf/-nan), !coefficients=(Gauss_Norm = 34016.4,exp_Norm = 38411.4)\n",
            "     p.d.f value is Not-a-Number (-nan), forcing value to zero @ !refCoefNorm=(), !pdfs=(Gaussian Signal = 5.9281e-12/4.85948,Exponential Background = inf/-nan), !coefficients=(Gauss_Norm = 34016.4,exp_Norm = 38411.4)\n",
            "     getLogVal() top-level p.d.f evaluates to zero @ !refCoefNorm=(), !pdfs=(Gaussian Signal = 5.9281e-12/4.85948,Exponential Background = inf/-nan), !coefficients=(Gauss_Norm = 34016.4,exp_Norm = 38411.4)\n",
            "    ... (remaining 2038 messages suppressed)\n",
            "RooNLLVar::nll_Full Model_Data Set[ paramSet=(Gauss_Norm,Mean,Width,exp_Norm,exponent) ]\n",
            "     function value is NAN @ paramSet=(Gauss_Norm = 34016.4,Mean = 5271.39,Width = 1.93865,exp_Norm = 38411.4,exponent = 0.677362)\n",
            "\n",
            "[#0] WARNING:Minization -- RooMinimizerFcn: Minimized function has error status.\n",
            "Returning maximum FCN so far (240406) to force MIGRAD to back out of this region. Error log follows\n",
            "Parameter values: Gauss_Norm=6388.28, Mean=5278.75, Width=48.8536, exp_Norm=5528.88, exponent=0.378166\n",
            "RooRealIntegral::Exponential Background_Int[M_m0][ Int Exponential Backgroundd[Ana](M_m0) ]\n",
            "     function value is NAN @ !sumList=(), !intList=(), !anaList=(M_m0 = 5277.09), !jacList=(), !facList=(), !func=Exponential Background=inf/-nan, !sumCat=()\n",
            "RooAddPdf::Full Model[ Gauss_Norm * Gaussian Signal + exp_Norm * Exponential Background ]\n",
            "     p.d.f value is Not-a-Number (-nan), forcing value to zero @ !refCoefNorm=(), !pdfs=(Gaussian Signal = 0.942858/122.458,Exponential Background = inf/-nan), !coefficients=(Gauss_Norm = 6388.28,exp_Norm = 5528.88)\n",
            "     getLogVal() top-level p.d.f evaluates to zero @ !refCoefNorm=(), !pdfs=(Gaussian Signal = 0.942858/122.458,Exponential Background = inf/-nan), !coefficients=(Gauss_Norm = 6388.28,exp_Norm = 5528.88)\n",
            "     p.d.f value is Not-a-Number (-nan), forcing value to zero @ !refCoefNorm=(), !pdfs=(Gaussian Signal = 0.918729/122.458,Exponential Background = inf/-nan), !coefficients=(Gauss_Norm = 6388.28,exp_Norm = 5528.88)\n",
            "     getLogVal() top-level p.d.f evaluates to zero @ !refCoefNorm=(), !pdfs=(Gaussian Signal = 0.918729/122.458,Exponential Background = inf/-nan), !coefficients=(Gauss_Norm = 6388.28,exp_Norm = 5528.88)\n",
            "     p.d.f value is Not-a-Number (-nan), forcing value to zero @ !refCoefNorm=(), !pdfs=(Gaussian Signal = 7.02128e-05/122.458,Exponential Background = inf/-nan), !coefficients=(Gauss_Norm = 6388.28,exp_Norm = 5528.88)\n",
            "     getLogVal() top-level p.d.f evaluates to zero @ !refCoefNorm=(), !pdfs=(Gaussian Signal = 7.02128e-05/122.458,Exponential Background = inf/-nan), !coefficients=(Gauss_Norm = 6388.28,exp_Norm = 5528.88)\n",
            "     p.d.f value is Not-a-Number (-nan), forcing value to zero @ !refCoefNorm=(), !pdfs=(Gaussian Signal = 0.985663/122.458,Exponential Background = inf/-nan), !coefficients=(Gauss_Norm = 6388.28,exp_Norm = 5528.88)\n",
            "     getLogVal() top-level p.d.f evaluates to zero @ !refCoefNorm=(), !pdfs=(Gaussian Signal = 0.985663/122.458,Exponential Background = inf/-nan), !coefficients=(Gauss_Norm = 6388.28,exp_Norm = 5528.88)\n",
            "     p.d.f value is Not-a-Number (-nan), forcing value to zero @ !refCoefNorm=(), !pdfs=(Gaussian Signal = 0.987204/122.458,Exponential Background = inf/-nan), !coefficients=(Gauss_Norm = 6388.28,exp_Norm = 5528.88)\n",
            "     getLogVal() top-level p.d.f evaluates to zero @ !refCoefNorm=(), !pdfs=(Gaussian Signal = 0.987204/122.458,Exponential Background = inf/-nan), !coefficients=(Gauss_Norm = 6388.28,exp_Norm = 5528.88)\n",
            "     p.d.f value is Not-a-Number (-nan), forcing value to zero @ !refCoefNorm=(), !pdfs=(Gaussian Signal = 0.909318/122.458,Exponential Background = inf/-nan), !coefficients=(Gauss_Norm = 6388.28,exp_Norm = 5528.88)\n",
            "     getLogVal() top-level p.d.f evaluates to zero @ !refCoefNorm=(), !pdfs=(Gaussian Signal = 0.909318/122.458,Exponential Background = inf/-nan), !coefficients=(Gauss_Norm = 6388.28,exp_Norm = 5528.88)\n",
            "    ... (remaining 2038 messages suppressed)\n",
            "RooNLLVar::nll_Full Model_Data Set[ paramSet=(Gauss_Norm,Mean,Width,exp_Norm,exponent) ]\n",
            "     function value is NAN @ paramSet=(Gauss_Norm = 6388.28,Mean = 5278.75,Width = 48.8536,exp_Norm = 5528.88,exponent = 0.378166)\n",
            "\n",
            "[#0] WARNING:Minization -- RooMinimizerFcn: Minimized function has error status.\n",
            "Returning maximum FCN so far (240406) to force MIGRAD to back out of this region. Error log follows\n",
            "Parameter values: Gauss_Norm=43912.7, Mean=5282.36, Width=40.6613, exp_Norm=42805.5, exponent=0.227574\n",
            "RooRealIntegral::Exponential Background_Int[M_m0][ Int Exponential Backgroundd[Ana](M_m0) ]\n",
            "     function value is NAN @ !sumList=(), !intList=(), !anaList=(M_m0 = 5277.09), !jacList=(), !facList=(), !func=Exponential Background=inf/-nan, !sumCat=()\n",
            "RooAddPdf::Full Model[ Gauss_Norm * Gaussian Signal + exp_Norm * Exponential Background ]\n",
            "     p.d.f value is Not-a-Number (-nan), forcing value to zero @ !refCoefNorm=(), !pdfs=(Gaussian Signal = 0.949007/101.923,Exponential Background = inf/-nan), !coefficients=(Gauss_Norm = 43912.7,exp_Norm = 42805.5)\n",
            "     getLogVal() top-level p.d.f evaluates to zero @ !refCoefNorm=(), !pdfs=(Gaussian Signal = 0.949007/101.923,Exponential Background = inf/-nan), !coefficients=(Gauss_Norm = 43912.7,exp_Norm = 42805.5)\n",
            "     p.d.f value is Not-a-Number (-nan), forcing value to zero @ !refCoefNorm=(), !pdfs=(Gaussian Signal = 0.920859/101.923,Exponential Background = inf/-nan), !coefficients=(Gauss_Norm = 43912.7,exp_Norm = 42805.5)\n",
            "     getLogVal() top-level p.d.f evaluates to zero @ !refCoefNorm=(), !pdfs=(Gaussian Signal = 0.920859/101.923,Exponential Background = inf/-nan), !coefficients=(Gauss_Norm = 43912.7,exp_Norm = 42805.5)\n",
            "     p.d.f value is Not-a-Number (-nan), forcing value to zero @ !refCoefNorm=(), !pdfs=(Gaussian Signal = 6.31172e-07/101.923,Exponential Background = inf/-nan), !coefficients=(Gauss_Norm = 43912.7,exp_Norm = 42805.5)\n",
            "     getLogVal() top-level p.d.f evaluates to zero @ !refCoefNorm=(), !pdfs=(Gaussian Signal = 6.31172e-07/101.923,Exponential Background = inf/-nan), !coefficients=(Gauss_Norm = 43912.7,exp_Norm = 42805.5)\n",
            "     p.d.f value is Not-a-Number (-nan), forcing value to zero @ !refCoefNorm=(), !pdfs=(Gaussian Signal = 0.993345/101.923,Exponential Background = inf/-nan), !coefficients=(Gauss_Norm = 43912.7,exp_Norm = 42805.5)\n",
            "     getLogVal() top-level p.d.f evaluates to zero @ !refCoefNorm=(), !pdfs=(Gaussian Signal = 0.993345/101.923,Exponential Background = inf/-nan), !coefficients=(Gauss_Norm = 43912.7,exp_Norm = 42805.5)\n",
            "     p.d.f value is Not-a-Number (-nan), forcing value to zero @ !refCoefNorm=(), !pdfs=(Gaussian Signal = 0.961167/101.923,Exponential Background = inf/-nan), !coefficients=(Gauss_Norm = 43912.7,exp_Norm = 42805.5)\n",
            "     getLogVal() top-level p.d.f evaluates to zero @ !refCoefNorm=(), !pdfs=(Gaussian Signal = 0.961167/101.923,Exponential Background = inf/-nan), !coefficients=(Gauss_Norm = 43912.7,exp_Norm = 42805.5)\n",
            "     p.d.f value is Not-a-Number (-nan), forcing value to zero @ !refCoefNorm=(), !pdfs=(Gaussian Signal = 0.828965/101.923,Exponential Background = inf/-nan), !coefficients=(Gauss_Norm = 43912.7,exp_Norm = 42805.5)\n",
            "     getLogVal() top-level p.d.f evaluates to zero @ !refCoefNorm=(), !pdfs=(Gaussian Signal = 0.828965/101.923,Exponential Background = inf/-nan), !coefficients=(Gauss_Norm = 43912.7,exp_Norm = 42805.5)\n",
            "    ... (remaining 2038 messages suppressed)\n",
            "RooNLLVar::nll_Full Model_Data Set[ paramSet=(Gauss_Norm,Mean,Width,exp_Norm,exponent) ]\n",
            "     function value is NAN @ paramSet=(Gauss_Norm = 43912.7,Mean = 5282.36,Width = 40.6613,exp_Norm = 42805.5,exponent = 0.227574)\n",
            "\n",
            "[#0] WARNING:Minization -- RooMinimizerFcn: Minimized function has error status.\n",
            "Returning maximum FCN so far (240406) to force MIGRAD to back out of this region. Error log follows\n",
            "Parameter values: Gauss_Norm=72706.1, Mean=5284.03, Width=28.0126, exp_Norm=71972.9, exponent=0.157146\n",
            "RooRealIntegral::Exponential Background_Int[M_m0][ Int Exponential Backgroundd[Ana](M_m0) ]\n",
            "     function value is NAN @ !sumList=(), !intList=(), !anaList=(M_m0 = 5277.09), !jacList=(), !facList=(), !func=Exponential Background=inf/-nan, !sumCat=()\n",
            "RooAddPdf::Full Model[ Gauss_Norm * Gaussian Signal + exp_Norm * Exponential Background ]\n",
            "     p.d.f value is Not-a-Number (-nan), forcing value to zero @ !refCoefNorm=(), !pdfs=(Gaussian Signal = 0.919393/70.2172,Exponential Background = inf/-nan), !coefficients=(Gauss_Norm = 72706.1,exp_Norm = 71972.9)\n",
            "     getLogVal() top-level p.d.f evaluates to zero @ !refCoefNorm=(), !pdfs=(Gaussian Signal = 0.919393/70.2172,Exponential Background = inf/-nan), !coefficients=(Gauss_Norm = 72706.1,exp_Norm = 71972.9)\n",
            "     p.d.f value is Not-a-Number (-nan), forcing value to zero @ !refCoefNorm=(), !pdfs=(Gaussian Signal = 0.869068/70.2172,Exponential Background = inf/-nan), !coefficients=(Gauss_Norm = 72706.1,exp_Norm = 71972.9)\n",
            "     getLogVal() top-level p.d.f evaluates to zero @ !refCoefNorm=(), !pdfs=(Gaussian Signal = 0.869068/70.2172,Exponential Background = inf/-nan), !coefficients=(Gauss_Norm = 72706.1,exp_Norm = 71972.9)\n",
            "     p.d.f value is Not-a-Number (-nan), forcing value to zero @ !refCoefNorm=(), !pdfs=(Gaussian Signal = 5.43878e-14/70.2172,Exponential Background = inf/-nan), !coefficients=(Gauss_Norm = 72706.1,exp_Norm = 71972.9)\n",
            "     getLogVal() top-level p.d.f evaluates to zero @ !refCoefNorm=(), !pdfs=(Gaussian Signal = 5.43878e-14/70.2172,Exponential Background = inf/-nan), !coefficients=(Gauss_Norm = 72706.1,exp_Norm = 71972.9)\n",
            "     p.d.f value is Not-a-Number (-nan), forcing value to zero @ !refCoefNorm=(), !pdfs=(Gaussian Signal = 0.994175/70.2172,Exponential Background = inf/-nan), !coefficients=(Gauss_Norm = 72706.1,exp_Norm = 71972.9)\n",
            "     getLogVal() top-level p.d.f evaluates to zero @ !refCoefNorm=(), !pdfs=(Gaussian Signal = 0.994175/70.2172,Exponential Background = inf/-nan), !coefficients=(Gauss_Norm = 72706.1,exp_Norm = 71972.9)\n",
            "     p.d.f value is Not-a-Number (-nan), forcing value to zero @ !refCoefNorm=(), !pdfs=(Gaussian Signal = 0.896195/70.2172,Exponential Background = inf/-nan), !coefficients=(Gauss_Norm = 72706.1,exp_Norm = 71972.9)\n",
            "     getLogVal() top-level p.d.f evaluates to zero @ !refCoefNorm=(), !pdfs=(Gaussian Signal = 0.896195/70.2172,Exponential Background = inf/-nan), !coefficients=(Gauss_Norm = 72706.1,exp_Norm = 71972.9)\n",
            "     p.d.f value is Not-a-Number (-nan), forcing value to zero @ !refCoefNorm=(), !pdfs=(Gaussian Signal = 0.63761/70.2172,Exponential Background = inf/-nan), !coefficients=(Gauss_Norm = 72706.1,exp_Norm = 71972.9)\n",
            "     getLogVal() top-level p.d.f evaluates to zero @ !refCoefNorm=(), !pdfs=(Gaussian Signal = 0.63761/70.2172,Exponential Background = inf/-nan), !coefficients=(Gauss_Norm = 72706.1,exp_Norm = 71972.9)\n",
            "    ... (remaining 2038 messages suppressed)\n",
            "RooNLLVar::nll_Full Model_Data Set[ paramSet=(Gauss_Norm,Mean,Width,exp_Norm,exponent) ]\n",
            "     function value is NAN @ paramSet=(Gauss_Norm = 72706.1,Mean = 5284.03,Width = 28.0126,exp_Norm = 71972.9,exponent = 0.157146)\n",
            "\n",
            "[#0] WARNING:Minization -- RooMinimizerFcn: Minimized function has error status.\n",
            "Returning maximum FCN so far (240406) to force MIGRAD to back out of this region. Error log follows\n",
            "Parameter values: Gauss_Norm=85494.9, Mean=5284.66, Width=22.7519, exp_Norm=84977.9, exponent=0.130391\n",
            "RooAddPdf::Full Model[ Gauss_Norm * Gaussian Signal + exp_Norm * Exponential Background ]\n",
            "     p.d.f value is Not-a-Number (-nan), forcing value to zero @ !refCoefNorm=(), !pdfs=(Gaussian Signal = 5.0648e-27/57.0305,Exponential Background = inf/inf), !coefficients=(Gauss_Norm = 85494.9,exp_Norm = 84977.9)\n",
            "     getLogVal() top-level p.d.f evaluates to zero @ !refCoefNorm=(), !pdfs=(Gaussian Signal = 5.0648e-27/57.0305,Exponential Background = inf/inf), !coefficients=(Gauss_Norm = 85494.9,exp_Norm = 84977.9)\n",
            "     p.d.f value is Not-a-Number (-nan), forcing value to zero @ !refCoefNorm=(), !pdfs=(Gaussian Signal = 5.04569e-27/57.0305,Exponential Background = inf/inf), !coefficients=(Gauss_Norm = 85494.9,exp_Norm = 84977.9)\n",
            "     getLogVal() top-level p.d.f evaluates to zero @ !refCoefNorm=(), !pdfs=(Gaussian Signal = 5.04569e-27/57.0305,Exponential Background = inf/inf), !coefficients=(Gauss_Norm = 85494.9,exp_Norm = 84977.9)\n",
            "     p.d.f value is Not-a-Number (-nan), forcing value to zero @ !refCoefNorm=(), !pdfs=(Gaussian Signal = 7.48575e-24/57.0305,Exponential Background = inf/inf), !coefficients=(Gauss_Norm = 85494.9,exp_Norm = 84977.9)\n",
            "     getLogVal() top-level p.d.f evaluates to zero @ !refCoefNorm=(), !pdfs=(Gaussian Signal = 7.48575e-24/57.0305,Exponential Background = inf/inf), !coefficients=(Gauss_Norm = 85494.9,exp_Norm = 84977.9)\n",
            "     p.d.f value is Not-a-Number (-nan), forcing value to zero @ !refCoefNorm=(), !pdfs=(Gaussian Signal = 3.96665e-24/57.0305,Exponential Background = inf/inf), !coefficients=(Gauss_Norm = 85494.9,exp_Norm = 84977.9)\n",
            "     getLogVal() top-level p.d.f evaluates to zero @ !refCoefNorm=(), !pdfs=(Gaussian Signal = 3.96665e-24/57.0305,Exponential Background = inf/inf), !coefficients=(Gauss_Norm = 85494.9,exp_Norm = 84977.9)\n",
            "     p.d.f value is Not-a-Number (-nan), forcing value to zero @ !refCoefNorm=(), !pdfs=(Gaussian Signal = 2.98757e-15/57.0305,Exponential Background = inf/inf), !coefficients=(Gauss_Norm = 85494.9,exp_Norm = 84977.9)\n",
            "     getLogVal() top-level p.d.f evaluates to zero @ !refCoefNorm=(), !pdfs=(Gaussian Signal = 2.98757e-15/57.0305,Exponential Background = inf/inf), !coefficients=(Gauss_Norm = 85494.9,exp_Norm = 84977.9)\n",
            "     p.d.f value is Not-a-Number (-nan), forcing value to zero @ !refCoefNorm=(), !pdfs=(Gaussian Signal = 3.43401e-16/57.0305,Exponential Background = inf/inf), !coefficients=(Gauss_Norm = 85494.9,exp_Norm = 84977.9)\n",
            "     getLogVal() top-level p.d.f evaluates to zero @ !refCoefNorm=(), !pdfs=(Gaussian Signal = 3.43401e-16/57.0305,Exponential Background = inf/inf), !coefficients=(Gauss_Norm = 85494.9,exp_Norm = 84977.9)\n",
            "    ... (remaining 28 messages suppressed)\n",
            "RooNLLVar::nll_Full Model_Data Set[ paramSet=(Gauss_Norm,Mean,Width,exp_Norm,exponent) ]\n",
            "     function value is NAN @ paramSet=(Gauss_Norm = 85494.9,Mean = 5284.66,Width = 22.7519,exp_Norm = 84977.9,exponent = 0.130391)\n",
            "\n",
            "[#0] WARNING:Minization -- RooMinimizerFcn: Minimized function has error status.\n",
            "Returning maximum FCN so far (240406) to force MIGRAD to back out of this region. Error log follows\n",
            "Parameter values: Gauss_Norm=88177, Mean=5284.79, Width=21.7038, exp_Norm=87708, exponent=0.128457\n",
            "RooAddPdf::Full Model[ Gauss_Norm * Gaussian Signal + exp_Norm * Exponential Background ]\n",
            "     p.d.f value is Not-a-Number (-nan), forcing value to zero @ !refCoefNorm=(), !pdfs=(Gaussian Signal = 1.35792e-29/54.4033,Exponential Background = inf/inf), !coefficients=(Gauss_Norm = 88177,exp_Norm = 87708)\n",
            "     getLogVal() top-level p.d.f evaluates to zero @ !refCoefNorm=(), !pdfs=(Gaussian Signal = 1.35792e-29/54.4033,Exponential Background = inf/inf), !coefficients=(Gauss_Norm = 88177,exp_Norm = 87708)\n",
            "     p.d.f value is Not-a-Number (-nan), forcing value to zero @ !refCoefNorm=(), !pdfs=(Gaussian Signal = 1.3523e-29/54.4033,Exponential Background = inf/inf), !coefficients=(Gauss_Norm = 88177,exp_Norm = 87708)\n",
            "     getLogVal() top-level p.d.f evaluates to zero @ !refCoefNorm=(), !pdfs=(Gaussian Signal = 1.3523e-29/54.4033,Exponential Background = inf/inf), !coefficients=(Gauss_Norm = 88177,exp_Norm = 87708)\n",
            "     p.d.f value is Not-a-Number (-nan), forcing value to zero @ !refCoefNorm=(), !pdfs=(Gaussian Signal = 3.83712e-45/54.4033,Exponential Background = inf/inf), !coefficients=(Gauss_Norm = 88177,exp_Norm = 87708)\n",
            "     getLogVal() top-level p.d.f evaluates to zero @ !refCoefNorm=(), !pdfs=(Gaussian Signal = 3.83712e-45/54.4033,Exponential Background = inf/inf), !coefficients=(Gauss_Norm = 88177,exp_Norm = 87708)\n",
            "     p.d.f value is Not-a-Number (-nan), forcing value to zero @ !refCoefNorm=(), !pdfs=(Gaussian Signal = 5.55695e-32/54.4033,Exponential Background = inf/inf), !coefficients=(Gauss_Norm = 88177,exp_Norm = 87708)\n",
            "     getLogVal() top-level p.d.f evaluates to zero @ !refCoefNorm=(), !pdfs=(Gaussian Signal = 5.55695e-32/54.4033,Exponential Background = inf/inf), !coefficients=(Gauss_Norm = 88177,exp_Norm = 87708)\n",
            "     p.d.f value is Not-a-Number (-nan), forcing value to zero @ !refCoefNorm=(), !pdfs=(Gaussian Signal = 8.08606e-41/54.4033,Exponential Background = inf/inf), !coefficients=(Gauss_Norm = 88177,exp_Norm = 87708)\n",
            "     getLogVal() top-level p.d.f evaluates to zero @ !refCoefNorm=(), !pdfs=(Gaussian Signal = 8.08606e-41/54.4033,Exponential Background = inf/inf), !coefficients=(Gauss_Norm = 88177,exp_Norm = 87708)\n",
            "     p.d.f value is Not-a-Number (-nan), forcing value to zero @ !refCoefNorm=(), !pdfs=(Gaussian Signal = 1.54732e-32/54.4033,Exponential Background = inf/inf), !coefficients=(Gauss_Norm = 88177,exp_Norm = 87708)\n",
            "     getLogVal() top-level p.d.f evaluates to zero @ !refCoefNorm=(), !pdfs=(Gaussian Signal = 1.54732e-32/54.4033,Exponential Background = inf/inf), !coefficients=(Gauss_Norm = 88177,exp_Norm = 87708)\n",
            "    ... (remaining 8 messages suppressed)\n",
            "RooNLLVar::nll_Full Model_Data Set[ paramSet=(Gauss_Norm,Mean,Width,exp_Norm,exponent) ]\n",
            "     function value is NAN @ paramSet=(Gauss_Norm = 88177,Mean = 5284.79,Width = 21.7038,exp_Norm = 87708,exponent = 0.128457)\n",
            "\n",
            "[#0] WARNING:Minization -- RooMinimizerFcn: Minimized function has error status.\n",
            "Returning maximum FCN so far (240406) to force MIGRAD to back out of this region. Error log follows\n",
            "Parameter values: Gauss_Norm=88177, Mean=5284.79, Width=21.7038, exp_Norm=87708, exponent=0.128457\n",
            "RooAddPdf::Full Model[ Gauss_Norm * Gaussian Signal + exp_Norm * Exponential Background ]\n",
            "     p.d.f value is Not-a-Number (-nan), forcing value to zero @ !refCoefNorm=(), !pdfs=(Gaussian Signal = 1.35792e-29/54.4033,Exponential Background = inf/inf), !coefficients=(Gauss_Norm = 88177,exp_Norm = 87708)\n",
            "     getLogVal() top-level p.d.f evaluates to zero @ !refCoefNorm=(), !pdfs=(Gaussian Signal = 1.35792e-29/54.4033,Exponential Background = inf/inf), !coefficients=(Gauss_Norm = 88177,exp_Norm = 87708)\n",
            "     p.d.f value is Not-a-Number (-nan), forcing value to zero @ !refCoefNorm=(), !pdfs=(Gaussian Signal = 1.3523e-29/54.4033,Exponential Background = inf/inf), !coefficients=(Gauss_Norm = 88177,exp_Norm = 87708)\n",
            "     getLogVal() top-level p.d.f evaluates to zero @ !refCoefNorm=(), !pdfs=(Gaussian Signal = 1.3523e-29/54.4033,Exponential Background = inf/inf), !coefficients=(Gauss_Norm = 88177,exp_Norm = 87708)\n",
            "     p.d.f value is Not-a-Number (-nan), forcing value to zero @ !refCoefNorm=(), !pdfs=(Gaussian Signal = 3.83712e-45/54.4033,Exponential Background = inf/inf), !coefficients=(Gauss_Norm = 88177,exp_Norm = 87708)\n",
            "     getLogVal() top-level p.d.f evaluates to zero @ !refCoefNorm=(), !pdfs=(Gaussian Signal = 3.83712e-45/54.4033,Exponential Background = inf/inf), !coefficients=(Gauss_Norm = 88177,exp_Norm = 87708)\n",
            "     p.d.f value is Not-a-Number (-nan), forcing value to zero @ !refCoefNorm=(), !pdfs=(Gaussian Signal = 5.55695e-32/54.4033,Exponential Background = inf/inf), !coefficients=(Gauss_Norm = 88177,exp_Norm = 87708)\n",
            "     getLogVal() top-level p.d.f evaluates to zero @ !refCoefNorm=(), !pdfs=(Gaussian Signal = 5.55695e-32/54.4033,Exponential Background = inf/inf), !coefficients=(Gauss_Norm = 88177,exp_Norm = 87708)\n",
            "     p.d.f value is Not-a-Number (-nan), forcing value to zero @ !refCoefNorm=(), !pdfs=(Gaussian Signal = 8.08606e-41/54.4033,Exponential Background = inf/inf), !coefficients=(Gauss_Norm = 88177,exp_Norm = 87708)\n",
            "     getLogVal() top-level p.d.f evaluates to zero @ !refCoefNorm=(), !pdfs=(Gaussian Signal = 8.08606e-41/54.4033,Exponential Background = inf/inf), !coefficients=(Gauss_Norm = 88177,exp_Norm = 87708)\n",
            "     p.d.f value is Not-a-Number (-nan), forcing value to zero @ !refCoefNorm=(), !pdfs=(Gaussian Signal = 1.54732e-32/54.4033,Exponential Background = inf/inf), !coefficients=(Gauss_Norm = 88177,exp_Norm = 87708)\n",
            "     getLogVal() top-level p.d.f evaluates to zero @ !refCoefNorm=(), !pdfs=(Gaussian Signal = 1.54732e-32/54.4033,Exponential Background = inf/inf), !coefficients=(Gauss_Norm = 88177,exp_Norm = 87708)\n",
            "    ... (remaining 8 messages suppressed)\n",
            "RooNLLVar::nll_Full Model_Data Set[ paramSet=(Gauss_Norm,Mean,Width,exp_Norm,exponent) ]\n",
            "     function value is NAN @ paramSet=(Gauss_Norm = 88177,Mean = 5284.79,Width = 21.7038,exp_Norm = 87708,exponent = 0.128457)\n",
            "\n",
            " MIGRAD MINIMIZATION HAS CONVERGED.\n",
            " MIGRAD WILL VERIFY CONVERGENCE AND ERROR MATRIX.\n",
            " MINUIT WARNING IN HESSE   \n",
            " ============== Negative diagonal element 5 in Error Matrix\n",
            " MINUIT WARNING IN HESSE   \n",
            " ============== 13753.4 added to diagonal of error matrix\n",
            " EIGENVALUES OF SECOND-DERIVATIVE MATRIX:\n",
            "        -3.5391e+01  1.0000e+00  1.0010e+00  1.0208e+00  3.7370e+01\n",
            " MINUIT WARNING IN HESSE   \n",
            " ============== MATRIX FORCED POS-DEF BY ADDING 35.428766 TO DIAGONAL.\n",
            " FCN=-190.999 FROM HESSE     STATUS=NOT POSDEF     31 CALLS         383 TOTAL\n",
            "                     EDM=7.5832e+06    STRATEGY= 1      ERR MATRIX NOT POS-DEF\n",
            "  EXT PARAMETER                APPROXIMATE        STEP         FIRST   \n",
            "  NO.   NAME      VALUE            ERROR          SIZE      DERIVATIVE \n",
            "   1  Gauss_Norm   1.09049e+03   1.27217e+01   2.98426e-06   3.34745e-02\n",
            "   2  Mean         5.26514e+03   1.80110e+00   5.85152e-05   3.49677e-01\n",
            "   3  Width        5.00000e+01   2.41606e-05   4.51054e-04** at limit **\n",
            "   4  exp_Norm     1.25133e+01   1.22059e+01   3.78085e-06   1.21067e+00\n",
            "   5  exponent     1.24857e-01   2.37630e+00   8.16420e-05   1.06456e+03\n",
            "                               ERR DEF= 0.5\n",
            "[#0] WARNING:Minization -- RooMinimizerFcn: Minimized function has error status.\n",
            "Returning maximum FCN so far (240406) to force MIGRAD to back out of this region. Error log follows\n",
            "Parameter values: Gauss_Norm=409538, Mean=5150.33, Width=49.9982, exp_Norm=2.01969e+06, exponent=-0.983763\n",
            "RooExponential::Exponential Background[ x=M_m0 c=exponent ]\n",
            "     p.d.f normalization integral is zero or negative @ x=M_m0=5277.09, c=exponent=-0.983763\n",
            "     p.d.f normalization integral is zero or negative @ x=M_m0=5278.98, c=exponent=-0.983763\n",
            "     p.d.f normalization integral is zero or negative @ x=M_m0=5091.47, c=exponent=-0.983763\n",
            "     p.d.f normalization integral is zero or negative @ x=M_m0=5340.12, c=exponent=-0.983763\n",
            "     p.d.f normalization integral is zero or negative @ x=M_m0=5145.64, c=exponent=-0.983763\n",
            "     p.d.f normalization integral is zero or negative @ x=M_m0=5309.25, c=exponent=-0.983763\n",
            "     p.d.f normalization integral is zero or negative @ x=M_m0=5276.22, c=exponent=-0.983763\n",
            "     p.d.f normalization integral is zero or negative @ x=M_m0=5316.59, c=exponent=-0.983763\n",
            "     p.d.f normalization integral is zero or negative @ x=M_m0=5294.33, c=exponent=-0.983763\n",
            "     p.d.f normalization integral is zero or negative @ x=M_m0=5254.15, c=exponent=-0.983763\n",
            "     p.d.f normalization integral is zero or negative @ x=M_m0=5066.8, c=exponent=-0.983763\n",
            "     p.d.f normalization integral is zero or negative @ x=M_m0=5305.77, c=exponent=-0.983763\n",
            "    ... (remaining 1093 messages suppressed)\n",
            "\n",
            "[#0] WARNING:Minization -- RooMinimizerFcn: Minimized function has error status.\n",
            "Returning maximum FCN so far (6.29717e+06) to force MIGRAD to back out of this region. Error log follows\n",
            "Parameter values: Gauss_Norm=3293.06, Mean=5375.38, Width=50, exp_Norm=777378, exponent=1.6878\n",
            "RooRealIntegral::Exponential Background_Int[M_m0][ Int Exponential Backgroundd[Ana](M_m0) ]\n",
            "     function value is NAN @ !sumList=(), !intList=(), !anaList=(M_m0 = 5277.09), !jacList=(), !facList=(), !func=Exponential Background=inf/5.01293e+06, !sumCat=()\n",
            "RooAddPdf::Full Model[ Gauss_Norm * Gaussian Signal + exp_Norm * Exponential Background ]\n",
            "     p.d.f value is Not-a-Number (-nan), forcing value to zero @ !refCoefNorm=(), !pdfs=(Gaussian Signal = 0.279194/125.331,Exponential Background = inf/-nan), !coefficients=(Gauss_Norm = 3293.06,exp_Norm = 777378)\n",
            "     getLogVal() top-level p.d.f evaluates to zero @ !refCoefNorm=(), !pdfs=(Gaussian Signal = 0.279194/125.331,Exponential Background = inf/-nan), !coefficients=(Gauss_Norm = 3293.06,exp_Norm = 777378)\n",
            "     p.d.f value is Not-a-Number (-nan), forcing value to zero @ !refCoefNorm=(), !pdfs=(Gaussian Signal = 0.310092/125.331,Exponential Background = inf/-nan), !coefficients=(Gauss_Norm = 3293.06,exp_Norm = 777378)\n",
            "     getLogVal() top-level p.d.f evaluates to zero @ !refCoefNorm=(), !pdfs=(Gaussian Signal = 0.310092/125.331,Exponential Background = inf/-nan), !coefficients=(Gauss_Norm = 3293.06,exp_Norm = 777378)\n",
            "     p.d.f value is Not-a-Number (-nan), forcing value to zero @ !refCoefNorm=(), !pdfs=(Gaussian Signal = 4.33574e-09/125.331,Exponential Background = inf/-nan), !coefficients=(Gauss_Norm = 3293.06,exp_Norm = 777378)\n",
            "     getLogVal() top-level p.d.f evaluates to zero @ !refCoefNorm=(), !pdfs=(Gaussian Signal = 4.33574e-09/125.331,Exponential Background = inf/-nan), !coefficients=(Gauss_Norm = 3293.06,exp_Norm = 777378)\n",
            "     p.d.f value is Not-a-Number (-nan), forcing value to zero @ !refCoefNorm=(), !pdfs=(Gaussian Signal = 0.210068/125.331,Exponential Background = inf/-nan), !coefficients=(Gauss_Norm = 3293.06,exp_Norm = 777378)\n",
            "     getLogVal() top-level p.d.f evaluates to zero @ !refCoefNorm=(), !pdfs=(Gaussian Signal = 0.210068/125.331,Exponential Background = inf/-nan), !coefficients=(Gauss_Norm = 3293.06,exp_Norm = 777378)\n",
            "     p.d.f value is Not-a-Number (-nan), forcing value to zero @ !refCoefNorm=(), !pdfs=(Gaussian Signal = 0.112727/125.331,Exponential Background = inf/-nan), !coefficients=(Gauss_Norm = 3293.06,exp_Norm = 777378)\n",
            "     getLogVal() top-level p.d.f evaluates to zero @ !refCoefNorm=(), !pdfs=(Gaussian Signal = 0.112727/125.331,Exponential Background = inf/-nan), !coefficients=(Gauss_Norm = 3293.06,exp_Norm = 777378)\n",
            "     p.d.f value is Not-a-Number (-nan), forcing value to zero @ !refCoefNorm=(), !pdfs=(Gaussian Signal = 0.0619435/125.331,Exponential Background = inf/-nan), !coefficients=(Gauss_Norm = 3293.06,exp_Norm = 777378)\n",
            "     getLogVal() top-level p.d.f evaluates to zero @ !refCoefNorm=(), !pdfs=(Gaussian Signal = 0.0619435/125.331,Exponential Background = inf/-nan), !coefficients=(Gauss_Norm = 3293.06,exp_Norm = 777378)\n",
            "    ... (remaining 2038 messages suppressed)\n",
            "RooNLLVar::nll_Full Model_Data Set[ paramSet=(Gauss_Norm,Mean,Width,exp_Norm,exponent) ]\n",
            "     function value is NAN @ paramSet=(Gauss_Norm = 3293.06,Mean = 5375.38,Width = 50,exp_Norm = 777378,exponent = 1.6878)\n",
            "\n",
            "[#0] WARNING:Minization -- RooMinimizerFcn: Minimized function has error status.\n",
            "Returning maximum FCN so far (6.29717e+06) to force MIGRAD to back out of this region. Error log follows\n",
            "Parameter values: Gauss_Norm=485.124, Mean=5154.31, Width=50, exp_Norm=12647.7, exponent=1.87715\n",
            "RooRealIntegral::Exponential Background_Int[M_m0][ Int Exponential Backgroundd[Ana](M_m0) ]\n",
            "     function value is NAN @ !sumList=(), !intList=(), !anaList=(M_m0 = 5277.09), !jacList=(), !facList=(), !func=Exponential Background=inf/-nan, !sumCat=()\n",
            "RooAddPdf::Full Model[ Gauss_Norm * Gaussian Signal + exp_Norm * Exponential Background ]\n",
            "     p.d.f value is Not-a-Number (-nan), forcing value to zero @ !refCoefNorm=(), !pdfs=(Gaussian Signal = 0.0185387/125.204,Exponential Background = inf/-nan), !coefficients=(Gauss_Norm = 485.124,exp_Norm = 12647.7)\n",
            "     getLogVal() top-level p.d.f evaluates to zero @ !refCoefNorm=(), !pdfs=(Gaussian Signal = 0.0185387/125.204,Exponential Background = inf/-nan), !coefficients=(Gauss_Norm = 485.124,exp_Norm = 12647.7)\n",
            "     p.d.f value is Not-a-Number (-nan), forcing value to zero @ !refCoefNorm=(), !pdfs=(Gaussian Signal = 0.015303/125.204,Exponential Background = inf/-nan), !coefficients=(Gauss_Norm = 485.124,exp_Norm = 12647.7)\n",
            "     getLogVal() top-level p.d.f evaluates to zero @ !refCoefNorm=(), !pdfs=(Gaussian Signal = 0.015303/125.204,Exponential Background = inf/-nan), !coefficients=(Gauss_Norm = 485.124,exp_Norm = 12647.7)\n",
            "     p.d.f value is Not-a-Number (-nan), forcing value to zero @ !refCoefNorm=(), !pdfs=(Gaussian Signal = 0.203542/125.204,Exponential Background = inf/-nan), !coefficients=(Gauss_Norm = 485.124,exp_Norm = 12647.7)\n",
            "     getLogVal() top-level p.d.f evaluates to zero @ !refCoefNorm=(), !pdfs=(Gaussian Signal = 0.203542/125.204,Exponential Background = inf/-nan), !coefficients=(Gauss_Norm = 485.124,exp_Norm = 12647.7)\n",
            "     p.d.f value is Not-a-Number (-nan), forcing value to zero @ !refCoefNorm=(), !pdfs=(Gaussian Signal = 0.0294651/125.204,Exponential Background = inf/-nan), !coefficients=(Gauss_Norm = 485.124,exp_Norm = 12647.7)\n",
            "     getLogVal() top-level p.d.f evaluates to zero @ !refCoefNorm=(), !pdfs=(Gaussian Signal = 0.0294651/125.204,Exponential Background = inf/-nan), !coefficients=(Gauss_Norm = 485.124,exp_Norm = 12647.7)\n",
            "     p.d.f value is Not-a-Number (-nan), forcing value to zero @ !refCoefNorm=(), !pdfs=(Gaussian Signal = 0.0659098/125.204,Exponential Background = inf/-nan), !coefficients=(Gauss_Norm = 485.124,exp_Norm = 12647.7)\n",
            "     getLogVal() top-level p.d.f evaluates to zero @ !refCoefNorm=(), !pdfs=(Gaussian Signal = 0.0659098/125.204,Exponential Background = inf/-nan), !coefficients=(Gauss_Norm = 485.124,exp_Norm = 12647.7)\n",
            "     p.d.f value is Not-a-Number (-nan), forcing value to zero @ !refCoefNorm=(), !pdfs=(Gaussian Signal = 0.119093/125.204,Exponential Background = inf/-nan), !coefficients=(Gauss_Norm = 485.124,exp_Norm = 12647.7)\n",
            "     getLogVal() top-level p.d.f evaluates to zero @ !refCoefNorm=(), !pdfs=(Gaussian Signal = 0.119093/125.204,Exponential Background = inf/-nan), !coefficients=(Gauss_Norm = 485.124,exp_Norm = 12647.7)\n",
            "    ... (remaining 2038 messages suppressed)\n",
            "RooNLLVar::nll_Full Model_Data Set[ paramSet=(Gauss_Norm,Mean,Width,exp_Norm,exponent) ]\n",
            "     function value is NAN @ paramSet=(Gauss_Norm = 485.124,Mean = 5154.31,Width = 50,exp_Norm = 12647.7,exponent = 1.87715)\n",
            "\n",
            "[#0] WARNING:Minization -- RooMinimizerFcn: Minimized function has error status.\n",
            "Returning maximum FCN so far (6.29717e+06) to force MIGRAD to back out of this region. Error log follows\n",
            "Parameter values: Gauss_Norm=1054.48, Mean=5259.48, Width=50, exp_Norm=80.7368, exponent=1.74739\n",
            "RooRealIntegral::Exponential Background_Int[M_m0][ Int Exponential Backgroundd[Ana](M_m0) ]\n",
            "     function value is NAN @ !sumList=(), !intList=(), !anaList=(M_m0 = 5277.09), !jacList=(), !facList=(), !func=Exponential Background=inf/-nan, !sumCat=()\n",
            "RooAddPdf::Full Model[ Gauss_Norm * Gaussian Signal + exp_Norm * Exponential Background ]\n",
            "     p.d.f value is Not-a-Number (-nan), forcing value to zero @ !refCoefNorm=(), !pdfs=(Gaussian Signal = 0.771339/125.331,Exponential Background = inf/-nan), !coefficients=(Gauss_Norm = 1054.48,exp_Norm = 80.7368)\n",
            "     getLogVal() top-level p.d.f evaluates to zero @ !refCoefNorm=(), !pdfs=(Gaussian Signal = 0.771339/125.331,Exponential Background = inf/-nan), !coefficients=(Gauss_Norm = 1054.48,exp_Norm = 80.7368)\n",
            "     p.d.f value is Not-a-Number (-nan), forcing value to zero @ !refCoefNorm=(), !pdfs=(Gaussian Signal = 0.733267/125.331,Exponential Background = inf/-nan), !coefficients=(Gauss_Norm = 1054.48,exp_Norm = 80.7368)\n",
            "     getLogVal() top-level p.d.f evaluates to zero @ !refCoefNorm=(), !pdfs=(Gaussian Signal = 0.733267/125.331,Exponential Background = inf/-nan), !coefficients=(Gauss_Norm = 1054.48,exp_Norm = 80.7368)\n",
            "     p.d.f value is Not-a-Number (-nan), forcing value to zero @ !refCoefNorm=(), !pdfs=(Gaussian Signal = 0.000522054/125.331,Exponential Background = inf/-nan), !coefficients=(Gauss_Norm = 1054.48,exp_Norm = 80.7368)\n",
            "     getLogVal() top-level p.d.f evaluates to zero @ !refCoefNorm=(), !pdfs=(Gaussian Signal = 0.000522054/125.331,Exponential Background = inf/-nan), !coefficients=(Gauss_Norm = 1054.48,exp_Norm = 80.7368)\n",
            "     p.d.f value is Not-a-Number (-nan), forcing value to zero @ !refCoefNorm=(), !pdfs=(Gaussian Signal = 0.85894/125.331,Exponential Background = inf/-nan), !coefficients=(Gauss_Norm = 1054.48,exp_Norm = 80.7368)\n",
            "     getLogVal() top-level p.d.f evaluates to zero @ !refCoefNorm=(), !pdfs=(Gaussian Signal = 0.85894/125.331,Exponential Background = inf/-nan), !coefficients=(Gauss_Norm = 1054.48,exp_Norm = 80.7368)\n",
            "     p.d.f value is Not-a-Number (-nan), forcing value to zero @ !refCoefNorm=(), !pdfs=(Gaussian Signal = 0.974209/125.331,Exponential Background = inf/-nan), !coefficients=(Gauss_Norm = 1054.48,exp_Norm = 80.7368)\n",
            "     getLogVal() top-level p.d.f evaluates to zero @ !refCoefNorm=(), !pdfs=(Gaussian Signal = 0.974209/125.331,Exponential Background = inf/-nan), !coefficients=(Gauss_Norm = 1054.48,exp_Norm = 80.7368)\n",
            "     p.d.f value is Not-a-Number (-nan), forcing value to zero @ !refCoefNorm=(), !pdfs=(Gaussian Signal = 0.999175/125.331,Exponential Background = inf/-nan), !coefficients=(Gauss_Norm = 1054.48,exp_Norm = 80.7368)\n",
            "     getLogVal() top-level p.d.f evaluates to zero @ !refCoefNorm=(), !pdfs=(Gaussian Signal = 0.999175/125.331,Exponential Background = inf/-nan), !coefficients=(Gauss_Norm = 1054.48,exp_Norm = 80.7368)\n",
            "    ... (remaining 2038 messages suppressed)\n",
            "RooNLLVar::nll_Full Model_Data Set[ paramSet=(Gauss_Norm,Mean,Width,exp_Norm,exponent) ]\n",
            "     function value is NAN @ paramSet=(Gauss_Norm = 1054.48,Mean = 5259.48,Width = 50,exp_Norm = 80.7368,exponent = 1.74739)\n",
            "\n",
            "[#0] WARNING:Minization -- RooMinimizerFcn: Minimized function has error status.\n",
            "Returning maximum FCN so far (6.29717e+06) to force MIGRAD to back out of this region. Error log follows\n",
            "Parameter values: Gauss_Norm=1088.67, Mean=5264.86, Width=50, exp_Norm=14.5147, exponent=-0.986524\n",
            "RooExponential::Exponential Background[ x=M_m0 c=exponent ]\n",
            "     p.d.f normalization integral is zero or negative @ x=M_m0=5277.09, c=exponent=-0.986524\n",
            "     p.d.f normalization integral is zero or negative @ x=M_m0=5278.98, c=exponent=-0.986524\n",
            "     p.d.f normalization integral is zero or negative @ x=M_m0=5091.47, c=exponent=-0.986524\n",
            "     p.d.f normalization integral is zero or negative @ x=M_m0=5340.12, c=exponent=-0.986524\n",
            "     p.d.f normalization integral is zero or negative @ x=M_m0=5145.64, c=exponent=-0.986524\n",
            "     p.d.f normalization integral is zero or negative @ x=M_m0=5309.25, c=exponent=-0.986524\n",
            "     p.d.f normalization integral is zero or negative @ x=M_m0=5276.22, c=exponent=-0.986524\n",
            "     p.d.f normalization integral is zero or negative @ x=M_m0=5316.59, c=exponent=-0.986524\n",
            "     p.d.f normalization integral is zero or negative @ x=M_m0=5294.33, c=exponent=-0.986524\n",
            "     p.d.f normalization integral is zero or negative @ x=M_m0=5254.15, c=exponent=-0.986524\n",
            "     p.d.f normalization integral is zero or negative @ x=M_m0=5066.8, c=exponent=-0.986524\n",
            "     p.d.f normalization integral is zero or negative @ x=M_m0=5305.77, c=exponent=-0.986524\n",
            "    ... (remaining 1093 messages suppressed)\n",
            "\n",
            " MINUIT WARNING IN MIGRAD  \n",
            " ============== Negative diagonal element 5 in Error Matrix\n",
            " MINUIT WARNING IN MIGRAD  \n",
            " ============== 1.00026 added to diagonal of error matrix\n",
            "[#0] WARNING:Minization -- RooMinimizerFcn: Minimized function has error status.\n",
            "Returning maximum FCN so far (6.29717e+06) to force MIGRAD to back out of this region. Error log follows\n",
            "Parameter values: Gauss_Norm=9.03179e+06, Mean=5014.63, Width=49.996, exp_Norm=5.65699e+06, exponent=-1.25848\n",
            "RooExponential::Exponential Background[ x=M_m0 c=exponent ]\n",
            "     p.d.f normalization integral is zero or negative @ x=M_m0=5277.09, c=exponent=-1.25848\n",
            "     p.d.f normalization integral is zero or negative @ x=M_m0=5278.98, c=exponent=-1.25848\n",
            "     p.d.f normalization integral is zero or negative @ x=M_m0=5091.47, c=exponent=-1.25848\n",
            "     p.d.f normalization integral is zero or negative @ x=M_m0=5340.12, c=exponent=-1.25848\n",
            "     p.d.f normalization integral is zero or negative @ x=M_m0=5145.64, c=exponent=-1.25848\n",
            "     p.d.f normalization integral is zero or negative @ x=M_m0=5309.25, c=exponent=-1.25848\n",
            "     p.d.f normalization integral is zero or negative @ x=M_m0=5276.22, c=exponent=-1.25848\n",
            "     p.d.f normalization integral is zero or negative @ x=M_m0=5316.59, c=exponent=-1.25848\n",
            "     p.d.f normalization integral is zero or negative @ x=M_m0=5294.33, c=exponent=-1.25848\n",
            "     p.d.f normalization integral is zero or negative @ x=M_m0=5254.15, c=exponent=-1.25848\n",
            "     p.d.f normalization integral is zero or negative @ x=M_m0=5066.8, c=exponent=-1.25848\n",
            "     p.d.f normalization integral is zero or negative @ x=M_m0=5305.77, c=exponent=-1.25848\n",
            "    ... (remaining 1093 messages suppressed)\n",
            "\n",
            "[#0] WARNING:Minization -- RooMinimizerFcn: Minimized function has error status.\n",
            "Returning maximum FCN so far (6.29717e+06) to force MIGRAD to back out of this region. Error log follows\n",
            "Parameter values: Gauss_Norm=5.46636e+06, Mean=5330.16, Width=49.9999, exp_Norm=1.16092e+06, exponent=-1.94756\n",
            "RooExponential::Exponential Background[ x=M_m0 c=exponent ]\n",
            "     p.d.f normalization integral is zero or negative @ x=M_m0=5277.09, c=exponent=-1.94756\n",
            "     p.d.f normalization integral is zero or negative @ x=M_m0=5278.98, c=exponent=-1.94756\n",
            "     p.d.f normalization integral is zero or negative @ x=M_m0=5091.47, c=exponent=-1.94756\n",
            "     p.d.f normalization integral is zero or negative @ x=M_m0=5340.12, c=exponent=-1.94756\n",
            "     p.d.f normalization integral is zero or negative @ x=M_m0=5145.64, c=exponent=-1.94756\n",
            "     p.d.f normalization integral is zero or negative @ x=M_m0=5309.25, c=exponent=-1.94756\n",
            "     p.d.f normalization integral is zero or negative @ x=M_m0=5276.22, c=exponent=-1.94756\n",
            "     p.d.f normalization integral is zero or negative @ x=M_m0=5316.59, c=exponent=-1.94756\n",
            "     p.d.f normalization integral is zero or negative @ x=M_m0=5294.33, c=exponent=-1.94756\n",
            "     p.d.f normalization integral is zero or negative @ x=M_m0=5254.15, c=exponent=-1.94756\n",
            "     p.d.f normalization integral is zero or negative @ x=M_m0=5066.8, c=exponent=-1.94756\n",
            "     p.d.f normalization integral is zero or negative @ x=M_m0=5305.77, c=exponent=-1.94756\n",
            "    ... (remaining 1093 messages suppressed)\n",
            "\n",
            "[#0] WARNING:Minization -- RooMinimizerFcn: Minimized function has error status.\n",
            "Returning maximum FCN so far (6.29717e+06) to force MIGRAD to back out of this region. Error log follows\n",
            "Parameter values: Gauss_Norm=1.17537e+06, Mean=5221.1, Width=50, exp_Norm=1.28731e+06, exponent=1.68361\n",
            "RooRealIntegral::Exponential Background_Int[M_m0][ Int Exponential Backgroundd[Ana](M_m0) ]\n",
            "     function value is NAN @ !sumList=(), !intList=(), !anaList=(M_m0 = 5277.09), !jacList=(), !facList=(), !func=Exponential Background=inf/-0, !sumCat=()\n",
            "RooAddPdf::Full Model[ Gauss_Norm * Gaussian Signal + exp_Norm * Exponential Background ]\n",
            "     p.d.f value is Not-a-Number (-nan), forcing value to zero @ !refCoefNorm=(), !pdfs=(Gaussian Signal = 0.330366/125.331,Exponential Background = inf/-nan), !coefficients=(Gauss_Norm = 1.17537e+06,exp_Norm = 1.28731e+06)\n",
            "     getLogVal() top-level p.d.f evaluates to zero @ !refCoefNorm=(), !pdfs=(Gaussian Signal = 0.330366/125.331,Exponential Background = inf/-nan), !coefficients=(Gauss_Norm = 1.17537e+06,exp_Norm = 1.28731e+06)\n",
            "     p.d.f value is Not-a-Number (-nan), forcing value to zero @ !refCoefNorm=(), !pdfs=(Gaussian Signal = 0.298286/125.331,Exponential Background = inf/-nan), !coefficients=(Gauss_Norm = 1.17537e+06,exp_Norm = 1.28731e+06)\n",
            "     getLogVal() top-level p.d.f evaluates to zero @ !refCoefNorm=(), !pdfs=(Gaussian Signal = 0.298286/125.331,Exponential Background = inf/-nan), !coefficients=(Gauss_Norm = 1.17537e+06,exp_Norm = 1.28731e+06)\n",
            "     p.d.f value is Not-a-Number (-nan), forcing value to zero @ !refCoefNorm=(), !pdfs=(Gaussian Signal = 0.00769169/125.331,Exponential Background = inf/-nan), !coefficients=(Gauss_Norm = 1.17537e+06,exp_Norm = 1.28731e+06)\n",
            "     getLogVal() top-level p.d.f evaluates to zero @ !refCoefNorm=(), !pdfs=(Gaussian Signal = 0.00769169/125.331,Exponential Background = inf/-nan), !coefficients=(Gauss_Norm = 1.17537e+06,exp_Norm = 1.28731e+06)\n",
            "     p.d.f value is Not-a-Number (-nan), forcing value to zero @ !refCoefNorm=(), !pdfs=(Gaussian Signal = 0.418895/125.331,Exponential Background = inf/-nan), !coefficients=(Gauss_Norm = 1.17537e+06,exp_Norm = 1.28731e+06)\n",
            "     getLogVal() top-level p.d.f evaluates to zero @ !refCoefNorm=(), !pdfs=(Gaussian Signal = 0.418895/125.331,Exponential Background = inf/-nan), !coefficients=(Gauss_Norm = 1.17537e+06,exp_Norm = 1.28731e+06)\n",
            "     p.d.f value is Not-a-Number (-nan), forcing value to zero @ !refCoefNorm=(), !pdfs=(Gaussian Signal = 0.608755/125.331,Exponential Background = inf/-nan), !coefficients=(Gauss_Norm = 1.17537e+06,exp_Norm = 1.28731e+06)\n",
            "     getLogVal() top-level p.d.f evaluates to zero @ !refCoefNorm=(), !pdfs=(Gaussian Signal = 0.608755/125.331,Exponential Background = inf/-nan), !coefficients=(Gauss_Norm = 1.17537e+06,exp_Norm = 1.28731e+06)\n",
            "     p.d.f value is Not-a-Number (-nan), forcing value to zero @ !refCoefNorm=(), !pdfs=(Gaussian Signal = 0.767707/125.331,Exponential Background = inf/-nan), !coefficients=(Gauss_Norm = 1.17537e+06,exp_Norm = 1.28731e+06)\n",
            "     getLogVal() top-level p.d.f evaluates to zero @ !refCoefNorm=(), !pdfs=(Gaussian Signal = 0.767707/125.331,Exponential Background = inf/-nan), !coefficients=(Gauss_Norm = 1.17537e+06,exp_Norm = 1.28731e+06)\n",
            "    ... (remaining 2038 messages suppressed)\n",
            "RooNLLVar::nll_Full Model_Data Set[ paramSet=(Gauss_Norm,Mean,Width,exp_Norm,exponent) ]\n",
            "     function value is NAN @ paramSet=(Gauss_Norm = 1.17537e+06,Mean = 5221.1,Width = 50,exp_Norm = 1.28731e+06,exponent = 1.68361)\n",
            "\n",
            "[#0] WARNING:Minization -- RooMinimizerFcn: Minimized function has error status.\n",
            "Returning maximum FCN so far (6.29717e+06) to force MIGRAD to back out of this region. Error log follows\n",
            "Parameter values: Gauss_Norm=572.575, Mean=5262.93, Width=50, exp_Norm=125620, exponent=-0.348678\n",
            "RooExponential::Exponential Background[ x=M_m0 c=exponent ]\n",
            "     p.d.f normalization integral is zero or negative @ x=M_m0=5277.09, c=exponent=-0.348678\n",
            "     p.d.f normalization integral is zero or negative @ x=M_m0=5278.98, c=exponent=-0.348678\n",
            "     p.d.f normalization integral is zero or negative @ x=M_m0=5091.47, c=exponent=-0.348678\n",
            "     p.d.f normalization integral is zero or negative @ x=M_m0=5340.12, c=exponent=-0.348678\n",
            "     p.d.f normalization integral is zero or negative @ x=M_m0=5145.64, c=exponent=-0.348678\n",
            "     p.d.f normalization integral is zero or negative @ x=M_m0=5309.25, c=exponent=-0.348678\n",
            "     p.d.f normalization integral is zero or negative @ x=M_m0=5276.22, c=exponent=-0.348678\n",
            "     p.d.f normalization integral is zero or negative @ x=M_m0=5316.59, c=exponent=-0.348678\n",
            "     p.d.f normalization integral is zero or negative @ x=M_m0=5294.33, c=exponent=-0.348678\n",
            "     p.d.f normalization integral is zero or negative @ x=M_m0=5254.15, c=exponent=-0.348678\n",
            "     p.d.f normalization integral is zero or negative @ x=M_m0=5066.8, c=exponent=-0.348678\n",
            "     p.d.f normalization integral is zero or negative @ x=M_m0=5305.77, c=exponent=-0.348678\n",
            "    ... (remaining 1093 messages suppressed)\n",
            "\n",
            "[#0] WARNING:Minization -- RooMinimizerFcn: Minimized function has error status.\n",
            "Returning maximum FCN so far (6.29717e+06) to force MIGRAD to back out of this region. Error log follows\n",
            "Parameter values: Gauss_Norm=29871.9, Mean=5338.79, Width=49.996, exp_Norm=1.57933e+06, exponent=0.325216\n",
            "RooRealIntegral::Exponential Background_Int[M_m0][ Int Exponential Backgroundd[Ana](M_m0) ]\n",
            "     function value is NAN @ !sumList=(), !intList=(), !anaList=(M_m0 = 5277.09), !jacList=(), !facList=(), !func=Exponential Background=inf/2.63636e+161, !sumCat=()\n",
            "RooAddPdf::Full Model[ Gauss_Norm * Gaussian Signal + exp_Norm * Exponential Background ]\n",
            "     p.d.f value is Not-a-Number (-nan), forcing value to zero @ !refCoefNorm=(), !pdfs=(Gaussian Signal = 0.687495/125.321,Exponential Background = inf/-nan), !coefficients=(Gauss_Norm = 29871.9,exp_Norm = 1.57933e+06)\n",
            "     getLogVal() top-level p.d.f evaluates to zero @ !refCoefNorm=(), !pdfs=(Gaussian Signal = 0.687495/125.321,Exponential Background = inf/-nan), !coefficients=(Gauss_Norm = 29871.9,exp_Norm = 1.57933e+06)\n",
            "     p.d.f value is Not-a-Number (-nan), forcing value to zero @ !refCoefNorm=(), !pdfs=(Gaussian Signal = 0.726988/125.321,Exponential Background = inf/-nan), !coefficients=(Gauss_Norm = 29871.9,exp_Norm = 1.57933e+06)\n",
            "     getLogVal() top-level p.d.f evaluates to zero @ !refCoefNorm=(), !pdfs=(Gaussian Signal = 0.726988/125.321,Exponential Background = inf/-nan), !coefficients=(Gauss_Norm = 29871.9,exp_Norm = 1.57933e+06)\n",
            "     p.d.f value is Not-a-Number (-nan), forcing value to zero @ !refCoefNorm=(), !pdfs=(Gaussian Signal = 3.10495e-07/125.321,Exponential Background = inf/-nan), !coefficients=(Gauss_Norm = 29871.9,exp_Norm = 1.57933e+06)\n",
            "     getLogVal() top-level p.d.f evaluates to zero @ !refCoefNorm=(), !pdfs=(Gaussian Signal = 3.10495e-07/125.321,Exponential Background = inf/-nan), !coefficients=(Gauss_Norm = 29871.9,exp_Norm = 1.57933e+06)\n",
            "     p.d.f value is Not-a-Number (-nan), forcing value to zero @ !refCoefNorm=(), !pdfs=(Gaussian Signal = 0.585417/125.321,Exponential Background = inf/-nan), !coefficients=(Gauss_Norm = 29871.9,exp_Norm = 1.57933e+06)\n",
            "     getLogVal() top-level p.d.f evaluates to zero @ !refCoefNorm=(), !pdfs=(Gaussian Signal = 0.585417/125.321,Exponential Background = inf/-nan), !coefficients=(Gauss_Norm = 29871.9,exp_Norm = 1.57933e+06)\n",
            "     p.d.f value is Not-a-Number (-nan), forcing value to zero @ !refCoefNorm=(), !pdfs=(Gaussian Signal = 0.397846/125.321,Exponential Background = inf/-nan), !coefficients=(Gauss_Norm = 29871.9,exp_Norm = 1.57933e+06)\n",
            "     getLogVal() top-level p.d.f evaluates to zero @ !refCoefNorm=(), !pdfs=(Gaussian Signal = 0.397846/125.321,Exponential Background = inf/-nan), !coefficients=(Gauss_Norm = 29871.9,exp_Norm = 1.57933e+06)\n",
            "     p.d.f value is Not-a-Number (-nan), forcing value to zero @ !refCoefNorm=(), !pdfs=(Gaussian Signal = 0.266206/125.321,Exponential Background = inf/-nan), !coefficients=(Gauss_Norm = 29871.9,exp_Norm = 1.57933e+06)\n",
            "     getLogVal() top-level p.d.f evaluates to zero @ !refCoefNorm=(), !pdfs=(Gaussian Signal = 0.266206/125.321,Exponential Background = inf/-nan), !coefficients=(Gauss_Norm = 29871.9,exp_Norm = 1.57933e+06)\n",
            "    ... (remaining 2038 messages suppressed)\n",
            "RooNLLVar::nll_Full Model_Data Set[ paramSet=(Gauss_Norm,Mean,Width,exp_Norm,exponent) ]\n",
            "     function value is NAN @ paramSet=(Gauss_Norm = 29871.9,Mean = 5338.79,Width = 49.996,exp_Norm = 1.57933e+06,exponent = 0.325216)\n",
            "\n",
            "[#0] WARNING:Minization -- RooMinimizerFcn: Minimized function has error status.\n",
            "Returning maximum FCN so far (6.29717e+06) to force MIGRAD to back out of this region. Error log follows\n",
            "Parameter values: Gauss_Norm=1.00164e+07, Mean=5001.62, Width=50, exp_Norm=3.07782e+06, exponent=-1.60913\n",
            "RooExponential::Exponential Background[ x=M_m0 c=exponent ]\n",
            "     p.d.f normalization integral is zero or negative @ x=M_m0=5277.09, c=exponent=-1.60913\n",
            "     p.d.f normalization integral is zero or negative @ x=M_m0=5278.98, c=exponent=-1.60913\n",
            "     p.d.f normalization integral is zero or negative @ x=M_m0=5091.47, c=exponent=-1.60913\n",
            "     p.d.f normalization integral is zero or negative @ x=M_m0=5340.12, c=exponent=-1.60913\n",
            "     p.d.f normalization integral is zero or negative @ x=M_m0=5145.64, c=exponent=-1.60913\n",
            "     p.d.f normalization integral is zero or negative @ x=M_m0=5309.25, c=exponent=-1.60913\n",
            "     p.d.f normalization integral is zero or negative @ x=M_m0=5276.22, c=exponent=-1.60913\n",
            "     p.d.f normalization integral is zero or negative @ x=M_m0=5316.59, c=exponent=-1.60913\n",
            "     p.d.f normalization integral is zero or negative @ x=M_m0=5294.33, c=exponent=-1.60913\n",
            "     p.d.f normalization integral is zero or negative @ x=M_m0=5254.15, c=exponent=-1.60913\n",
            "     p.d.f normalization integral is zero or negative @ x=M_m0=5066.8, c=exponent=-1.60913\n",
            "     p.d.f normalization integral is zero or negative @ x=M_m0=5305.77, c=exponent=-1.60913\n",
            "    ... (remaining 1093 messages suppressed)\n",
            "\n",
            "[#0] WARNING:Minization -- RooMinimizerFcn: Minimized function has error status.\n",
            "Returning maximum FCN so far (6.29717e+06) to force MIGRAD to back out of this region. Error log follows\n",
            "Parameter values: Gauss_Norm=94342, Mean=5243.32, Width=50, exp_Norm=10067.2, exponent=-1.84744\n",
            "RooExponential::Exponential Background[ x=M_m0 c=exponent ]\n",
            "     p.d.f normalization integral is zero or negative @ x=M_m0=5277.09, c=exponent=-1.84744\n",
            "     p.d.f normalization integral is zero or negative @ x=M_m0=5278.98, c=exponent=-1.84744\n",
            "     p.d.f normalization integral is zero or negative @ x=M_m0=5091.47, c=exponent=-1.84744\n",
            "     p.d.f normalization integral is zero or negative @ x=M_m0=5340.12, c=exponent=-1.84744\n",
            "     p.d.f normalization integral is zero or negative @ x=M_m0=5145.64, c=exponent=-1.84744\n",
            "     p.d.f normalization integral is zero or negative @ x=M_m0=5309.25, c=exponent=-1.84744\n",
            "     p.d.f normalization integral is zero or negative @ x=M_m0=5276.22, c=exponent=-1.84744\n",
            "     p.d.f normalization integral is zero or negative @ x=M_m0=5316.59, c=exponent=-1.84744\n",
            "     p.d.f normalization integral is zero or negative @ x=M_m0=5294.33, c=exponent=-1.84744\n",
            "     p.d.f normalization integral is zero or negative @ x=M_m0=5254.15, c=exponent=-1.84744\n",
            "     p.d.f normalization integral is zero or negative @ x=M_m0=5066.8, c=exponent=-1.84744\n",
            "     p.d.f normalization integral is zero or negative @ x=M_m0=5305.77, c=exponent=-1.84744\n",
            "    ... (remaining 1093 messages suppressed)\n",
            "\n",
            "[#0] WARNING:Minization -- RooMinimizerFcn: Minimized function has error status.\n",
            "Returning maximum FCN so far (6.29717e+06) to force MIGRAD to back out of this region. Error log follows\n",
            "Parameter values: Gauss_Norm=7.29256e+06, Mean=5374.98, Width=49.996, exp_Norm=6.71175e+06, exponent=1.96758\n",
            "RooRealIntegral::Exponential Background_Int[M_m0][ Int Exponential Backgroundd[Ana](M_m0) ]\n",
            "     function value is NAN @ !sumList=(), !intList=(), !anaList=(M_m0 = 5277.09), !jacList=(), !facList=(), !func=Exponential Background=inf/3.01839e+111, !sumCat=()\n",
            "RooAddPdf::Full Model[ Gauss_Norm * Gaussian Signal + exp_Norm * Exponential Background ]\n",
            "     p.d.f value is Not-a-Number (-nan), forcing value to zero @ !refCoefNorm=(), !pdfs=(Gaussian Signal = 0.282734/125.321,Exponential Background = inf/-nan), !coefficients=(Gauss_Norm = 7.29256e+06,exp_Norm = 6.71175e+06)\n",
            "     getLogVal() top-level p.d.f evaluates to zero @ !refCoefNorm=(), !pdfs=(Gaussian Signal = 0.282734/125.321,Exponential Background = inf/-nan), !coefficients=(Gauss_Norm = 7.29256e+06,exp_Norm = 6.71175e+06)\n",
            "     p.d.f value is Not-a-Number (-nan), forcing value to zero @ !refCoefNorm=(), !pdfs=(Gaussian Signal = 0.31386/125.321,Exponential Background = inf/-nan), !coefficients=(Gauss_Norm = 7.29256e+06,exp_Norm = 6.71175e+06)\n",
            "     getLogVal() top-level p.d.f evaluates to zero @ !refCoefNorm=(), !pdfs=(Gaussian Signal = 0.31386/125.321,Exponential Background = inf/-nan), !coefficients=(Gauss_Norm = 7.29256e+06,exp_Norm = 6.71175e+06)\n",
            "     p.d.f value is Not-a-Number (-nan), forcing value to zero @ !refCoefNorm=(), !pdfs=(Gaussian Signal = 4.54339e-09/125.321,Exponential Background = inf/-nan), !coefficients=(Gauss_Norm = 7.29256e+06,exp_Norm = 6.71175e+06)\n",
            "     getLogVal() top-level p.d.f evaluates to zero @ !refCoefNorm=(), !pdfs=(Gaussian Signal = 4.54339e-09/125.321,Exponential Background = inf/-nan), !coefficients=(Gauss_Norm = 7.29256e+06,exp_Norm = 6.71175e+06)\n",
            "     p.d.f value is Not-a-Number (-nan), forcing value to zero @ !refCoefNorm=(), !pdfs=(Gaussian Signal = 0.213011/125.321,Exponential Background = inf/-nan), !coefficients=(Gauss_Norm = 7.29256e+06,exp_Norm = 6.71175e+06)\n",
            "     getLogVal() top-level p.d.f evaluates to zero @ !refCoefNorm=(), !pdfs=(Gaussian Signal = 0.213011/125.321,Exponential Background = inf/-nan), !coefficients=(Gauss_Norm = 7.29256e+06,exp_Norm = 6.71175e+06)\n",
            "     p.d.f value is Not-a-Number (-nan), forcing value to zero @ !refCoefNorm=(), !pdfs=(Gaussian Signal = 0.114592/125.321,Exponential Background = inf/-nan), !coefficients=(Gauss_Norm = 7.29256e+06,exp_Norm = 6.71175e+06)\n",
            "     getLogVal() top-level p.d.f evaluates to zero @ !refCoefNorm=(), !pdfs=(Gaussian Signal = 0.114592/125.321,Exponential Background = inf/-nan), !coefficients=(Gauss_Norm = 7.29256e+06,exp_Norm = 6.71175e+06)\n",
            "     p.d.f value is Not-a-Number (-nan), forcing value to zero @ !refCoefNorm=(), !pdfs=(Gaussian Signal = 0.0630987/125.321,Exponential Background = inf/-nan), !coefficients=(Gauss_Norm = 7.29256e+06,exp_Norm = 6.71175e+06)\n",
            "     getLogVal() top-level p.d.f evaluates to zero @ !refCoefNorm=(), !pdfs=(Gaussian Signal = 0.0630987/125.321,Exponential Background = inf/-nan), !coefficients=(Gauss_Norm = 7.29256e+06,exp_Norm = 6.71175e+06)\n",
            "    ... (remaining 2038 messages suppressed)\n",
            "RooNLLVar::nll_Full Model_Data Set[ paramSet=(Gauss_Norm,Mean,Width,exp_Norm,exponent) ]\n",
            "     function value is NAN @ paramSet=(Gauss_Norm = 7.29256e+06,Mean = 5374.98,Width = 49.996,exp_Norm = 6.71175e+06,exponent = 1.96758)\n",
            "\n",
            "[#0] WARNING:Minization -- RooMinimizerFcn: Minimized function has error status.\n",
            "Returning maximum FCN so far (6.29717e+06) to force MIGRAD to back out of this region. Error log follows\n",
            "Parameter values: Gauss_Norm=2.53766e+06, Mean=5001.74, Width=50, exp_Norm=1.49315e+06, exponent=-1.66342\n",
            "RooExponential::Exponential Background[ x=M_m0 c=exponent ]\n",
            "     p.d.f normalization integral is zero or negative @ x=M_m0=5277.09, c=exponent=-1.66342\n",
            "     p.d.f normalization integral is zero or negative @ x=M_m0=5278.98, c=exponent=-1.66342\n",
            "     p.d.f normalization integral is zero or negative @ x=M_m0=5091.47, c=exponent=-1.66342\n",
            "     p.d.f normalization integral is zero or negative @ x=M_m0=5340.12, c=exponent=-1.66342\n",
            "     p.d.f normalization integral is zero or negative @ x=M_m0=5145.64, c=exponent=-1.66342\n",
            "     p.d.f normalization integral is zero or negative @ x=M_m0=5309.25, c=exponent=-1.66342\n",
            "     p.d.f normalization integral is zero or negative @ x=M_m0=5276.22, c=exponent=-1.66342\n",
            "     p.d.f normalization integral is zero or negative @ x=M_m0=5316.59, c=exponent=-1.66342\n",
            "     p.d.f normalization integral is zero or negative @ x=M_m0=5294.33, c=exponent=-1.66342\n",
            "     p.d.f normalization integral is zero or negative @ x=M_m0=5254.15, c=exponent=-1.66342\n",
            "     p.d.f normalization integral is zero or negative @ x=M_m0=5066.8, c=exponent=-1.66342\n",
            "     p.d.f normalization integral is zero or negative @ x=M_m0=5305.77, c=exponent=-1.66342\n",
            "    ... (remaining 1093 messages suppressed)\n",
            "\n",
            "[#0] WARNING:Minization -- RooMinimizerFcn: Minimized function has error status.\n",
            "Returning maximum FCN so far (6.29717e+06) to force MIGRAD to back out of this region. Error log follows\n",
            "Parameter values: Gauss_Norm=13437.9, Mean=5243.16, Width=50, exp_Norm=4657.27, exponent=-1.84169\n",
            "RooExponential::Exponential Background[ x=M_m0 c=exponent ]\n",
            "     p.d.f normalization integral is zero or negative @ x=M_m0=5277.09, c=exponent=-1.84169\n",
            "     p.d.f normalization integral is zero or negative @ x=M_m0=5278.98, c=exponent=-1.84169\n",
            "     p.d.f normalization integral is zero or negative @ x=M_m0=5091.47, c=exponent=-1.84169\n",
            "     p.d.f normalization integral is zero or negative @ x=M_m0=5340.12, c=exponent=-1.84169\n",
            "     p.d.f normalization integral is zero or negative @ x=M_m0=5145.64, c=exponent=-1.84169\n",
            "     p.d.f normalization integral is zero or negative @ x=M_m0=5309.25, c=exponent=-1.84169\n",
            "     p.d.f normalization integral is zero or negative @ x=M_m0=5276.22, c=exponent=-1.84169\n",
            "     p.d.f normalization integral is zero or negative @ x=M_m0=5316.59, c=exponent=-1.84169\n",
            "     p.d.f normalization integral is zero or negative @ x=M_m0=5294.33, c=exponent=-1.84169\n",
            "     p.d.f normalization integral is zero or negative @ x=M_m0=5254.15, c=exponent=-1.84169\n",
            "     p.d.f normalization integral is zero or negative @ x=M_m0=5066.8, c=exponent=-1.84169\n",
            "     p.d.f normalization integral is zero or negative @ x=M_m0=5305.77, c=exponent=-1.84169\n",
            "    ... (remaining 1093 messages suppressed)\n",
            "\n",
            "[#0] WARNING:Minization -- RooMinimizerFcn: Minimized function has error status.\n",
            "Returning maximum FCN so far (6.29717e+06) to force MIGRAD to back out of this region. Error log follows\n",
            "Parameter values: Gauss_Norm=1473.04, Mean=5263.92, Width=50, exp_Norm=65.4932, exponent=-0.153823\n",
            "RooExponential::Exponential Background[ x=M_m0 c=exponent ]\n",
            "     p.d.f normalization integral is zero or negative @ x=M_m0=5277.09, c=exponent=-0.153823\n",
            "     p.d.f normalization integral is zero or negative @ x=M_m0=5278.98, c=exponent=-0.153823\n",
            "     p.d.f normalization integral is zero or negative @ x=M_m0=5091.47, c=exponent=-0.153823\n",
            "     p.d.f normalization integral is zero or negative @ x=M_m0=5340.12, c=exponent=-0.153823\n",
            "     p.d.f normalization integral is zero or negative @ x=M_m0=5145.64, c=exponent=-0.153823\n",
            "     p.d.f normalization integral is zero or negative @ x=M_m0=5309.25, c=exponent=-0.153823\n",
            "     p.d.f normalization integral is zero or negative @ x=M_m0=5276.22, c=exponent=-0.153823\n",
            "     p.d.f normalization integral is zero or negative @ x=M_m0=5316.59, c=exponent=-0.153823\n",
            "     p.d.f normalization integral is zero or negative @ x=M_m0=5294.33, c=exponent=-0.153823\n",
            "     p.d.f normalization integral is zero or negative @ x=M_m0=5254.15, c=exponent=-0.153823\n",
            "     p.d.f normalization integral is zero or negative @ x=M_m0=5066.8, c=exponent=-0.153823\n",
            "     p.d.f normalization integral is zero or negative @ x=M_m0=5305.77, c=exponent=-0.153823\n",
            "    ... (remaining 1093 messages suppressed)\n",
            "\n",
            "[#0] WARNING:Minization -- RooMinimizerFcn: Minimized function has error status.\n",
            "Returning maximum FCN so far (6.29717e+06) to force MIGRAD to back out of this region. Error log follows\n",
            "Parameter values: Gauss_Norm=9.97837e+06, Mean=5466.79, Width=49.9999, exp_Norm=6.61494e+06, exponent=0.566542\n",
            "RooRealIntegral::Exponential Background_Int[M_m0][ Int Exponential Backgroundd[Ana](M_m0) ]\n",
            "     function value is NAN @ !sumList=(), !intList=(), !anaList=(M_m0 = 5277.09), !jacList=(), !facList=(), !func=Exponential Background=inf/1.67948e+87, !sumCat=()\n",
            "RooAddPdf::Full Model[ Gauss_Norm * Gaussian Signal + exp_Norm * Exponential Background ]\n",
            "     p.d.f value is Not-a-Number (-nan), forcing value to zero @ !refCoefNorm=(), !pdfs=(Gaussian Signal = 0.00283156/124.848,Exponential Background = inf/-nan), !coefficients=(Gauss_Norm = 9.97837e+06,exp_Norm = 6.61494e+06)\n",
            "     getLogVal() top-level p.d.f evaluates to zero @ !refCoefNorm=(), !pdfs=(Gaussian Signal = 0.00283156/124.848,Exponential Background = inf/-nan), !coefficients=(Gauss_Norm = 9.97837e+06,exp_Norm = 6.61494e+06)\n",
            "     p.d.f value is Not-a-Number (-nan), forcing value to zero @ !refCoefNorm=(), !pdfs=(Gaussian Signal = 0.00355548/124.848,Exponential Background = inf/-nan), !coefficients=(Gauss_Norm = 9.97837e+06,exp_Norm = 6.61494e+06)\n",
            "     getLogVal() top-level p.d.f evaluates to zero @ !refCoefNorm=(), !pdfs=(Gaussian Signal = 0.00355548/124.848,Exponential Background = inf/-nan), !coefficients=(Gauss_Norm = 9.97837e+06,exp_Norm = 6.61494e+06)\n",
            "     p.d.f value is Not-a-Number (-nan), forcing value to zero @ !refCoefNorm=(), !pdfs=(Gaussian Signal = 9.64717e-15/124.848,Exponential Background = inf/-nan), !coefficients=(Gauss_Norm = 9.97837e+06,exp_Norm = 6.61494e+06)\n",
            "     getLogVal() top-level p.d.f evaluates to zero @ !refCoefNorm=(), !pdfs=(Gaussian Signal = 9.64717e-15/124.848,Exponential Background = inf/-nan), !coefficients=(Gauss_Norm = 9.97837e+06,exp_Norm = 6.61494e+06)\n",
            "     p.d.f value is Not-a-Number (-nan), forcing value to zero @ !refCoefNorm=(), !pdfs=(Gaussian Signal = 0.00156388/124.848,Exponential Background = inf/-nan), !coefficients=(Gauss_Norm = 9.97837e+06,exp_Norm = 6.61494e+06)\n",
            "     getLogVal() top-level p.d.f evaluates to zero @ !refCoefNorm=(), !pdfs=(Gaussian Signal = 0.00156388/124.848,Exponential Background = inf/-nan), !coefficients=(Gauss_Norm = 9.97837e+06,exp_Norm = 6.61494e+06)\n",
            "     p.d.f value is Not-a-Number (-nan), forcing value to zero @ !refCoefNorm=(), !pdfs=(Gaussian Signal = 0.000465096/124.848,Exponential Background = inf/-nan), !coefficients=(Gauss_Norm = 9.97837e+06,exp_Norm = 6.61494e+06)\n",
            "     getLogVal() top-level p.d.f evaluates to zero @ !refCoefNorm=(), !pdfs=(Gaussian Signal = 0.000465096/124.848,Exponential Background = inf/-nan), !coefficients=(Gauss_Norm = 9.97837e+06,exp_Norm = 6.61494e+06)\n",
            "     p.d.f value is Not-a-Number (-nan), forcing value to zero @ !refCoefNorm=(), !pdfs=(Gaussian Signal = 0.000156233/124.848,Exponential Background = inf/-nan), !coefficients=(Gauss_Norm = 9.97837e+06,exp_Norm = 6.61494e+06)\n",
            "     getLogVal() top-level p.d.f evaluates to zero @ !refCoefNorm=(), !pdfs=(Gaussian Signal = 0.000156233/124.848,Exponential Background = inf/-nan), !coefficients=(Gauss_Norm = 9.97837e+06,exp_Norm = 6.61494e+06)\n",
            "    ... (remaining 2038 messages suppressed)\n",
            "RooNLLVar::nll_Full Model_Data Set[ paramSet=(Gauss_Norm,Mean,Width,exp_Norm,exponent) ]\n",
            "     function value is NAN @ paramSet=(Gauss_Norm = 9.97837e+06,Mean = 5466.79,Width = 49.9999,exp_Norm = 6.61494e+06,exponent = 0.566542)\n",
            "\n",
            "[#0] WARNING:Minization -- RooMinimizerFcn: Minimized function has error status.\n",
            "Returning maximum FCN so far (6.29717e+06) to force MIGRAD to back out of this region. Error log follows\n",
            "Parameter values: Gauss_Norm=648771, Mean=5496.75, Width=50, exp_Norm=350492, exponent=1.77975\n",
            "RooRealIntegral::Exponential Background_Int[M_m0][ Int Exponential Backgroundd[Ana](M_m0) ]\n",
            "     function value is NAN @ !sumList=(), !intList=(), !anaList=(M_m0 = 5277.09), !jacList=(), !facList=(), !func=Exponential Background=inf/-nan, !sumCat=()\n",
            "RooAddPdf::Full Model[ Gauss_Norm * Gaussian Signal + exp_Norm * Exponential Background ]\n",
            "     p.d.f value is Not-a-Number (-nan), forcing value to zero @ !refCoefNorm=(), !pdfs=(Gaussian Signal = 0.000303825/122.893,Exponential Background = inf/-nan), !coefficients=(Gauss_Norm = 648771,exp_Norm = 350492)\n",
            "     getLogVal() top-level p.d.f evaluates to zero @ !refCoefNorm=(), !pdfs=(Gaussian Signal = 0.000303825/122.893,Exponential Background = inf/-nan), !coefficients=(Gauss_Norm = 648771,exp_Norm = 350492)\n",
            "     p.d.f value is Not-a-Number (-nan), forcing value to zero @ !refCoefNorm=(), !pdfs=(Gaussian Signal = 0.000397158/122.893,Exponential Background = inf/-nan), !coefficients=(Gauss_Norm = 648771,exp_Norm = 350492)\n",
            "     getLogVal() top-level p.d.f evaluates to zero @ !refCoefNorm=(), !pdfs=(Gaussian Signal = 0.000397158/122.893,Exponential Background = inf/-nan), !coefficients=(Gauss_Norm = 648771,exp_Norm = 350492)\n",
            "     p.d.f value is Not-a-Number (-nan), forcing value to zero @ !refCoefNorm=(), !pdfs=(Gaussian Signal = 6.54267e-17/122.893,Exponential Background = inf/-nan), !coefficients=(Gauss_Norm = 648771,exp_Norm = 350492)\n",
            "     getLogVal() top-level p.d.f evaluates to zero @ !refCoefNorm=(), !pdfs=(Gaussian Signal = 6.54267e-17/122.893,Exponential Background = inf/-nan), !coefficients=(Gauss_Norm = 648771,exp_Norm = 350492)\n",
            "     p.d.f value is Not-a-Number (-nan), forcing value to zero @ !refCoefNorm=(), !pdfs=(Gaussian Signal = 0.000151631/122.893,Exponential Background = inf/-nan), !coefficients=(Gauss_Norm = 648771,exp_Norm = 350492)\n",
            "     getLogVal() top-level p.d.f evaluates to zero @ !refCoefNorm=(), !pdfs=(Gaussian Signal = 0.000151631/122.893,Exponential Background = inf/-nan), !coefficients=(Gauss_Norm = 648771,exp_Norm = 350492)\n",
            "     p.d.f value is Not-a-Number (-nan), forcing value to zero @ !refCoefNorm=(), !pdfs=(Gaussian Signal = 3.71628e-05/122.893,Exponential Background = inf/-nan), !coefficients=(Gauss_Norm = 648771,exp_Norm = 350492)\n",
            "     getLogVal() top-level p.d.f evaluates to zero @ !refCoefNorm=(), !pdfs=(Gaussian Signal = 3.71628e-05/122.893,Exponential Background = inf/-nan), !coefficients=(Gauss_Norm = 648771,exp_Norm = 350492)\n",
            "     p.d.f value is Not-a-Number (-nan), forcing value to zero @ !refCoefNorm=(), !pdfs=(Gaussian Signal = 1.06238e-05/122.893,Exponential Background = inf/-nan), !coefficients=(Gauss_Norm = 648771,exp_Norm = 350492)\n",
            "     getLogVal() top-level p.d.f evaluates to zero @ !refCoefNorm=(), !pdfs=(Gaussian Signal = 1.06238e-05/122.893,Exponential Background = inf/-nan), !coefficients=(Gauss_Norm = 648771,exp_Norm = 350492)\n",
            "    ... (remaining 2038 messages suppressed)\n",
            "RooNLLVar::nll_Full Model_Data Set[ paramSet=(Gauss_Norm,Mean,Width,exp_Norm,exponent) ]\n",
            "     function value is NAN @ paramSet=(Gauss_Norm = 648771,Mean = 5496.75,Width = 50,exp_Norm = 350492,exponent = 1.77975)\n",
            "\n",
            "[#0] WARNING:Minization -- RooMinimizerFcn: Minimized function has error status.\n",
            "Returning maximum FCN so far (6.29717e+06) to force MIGRAD to back out of this region. Error log follows\n",
            "Parameter values: Gauss_Norm=5399.51, Mean=5070.84, Width=50, exp_Norm=1203.37, exponent=-1.46693\n",
            "RooExponential::Exponential Background[ x=M_m0 c=exponent ]\n",
            "     p.d.f normalization integral is zero or negative @ x=M_m0=5277.09, c=exponent=-1.46693\n",
            "     p.d.f normalization integral is zero or negative @ x=M_m0=5278.98, c=exponent=-1.46693\n",
            "     p.d.f normalization integral is zero or negative @ x=M_m0=5091.47, c=exponent=-1.46693\n",
            "     p.d.f normalization integral is zero or negative @ x=M_m0=5340.12, c=exponent=-1.46693\n",
            "     p.d.f normalization integral is zero or negative @ x=M_m0=5145.64, c=exponent=-1.46693\n",
            "     p.d.f normalization integral is zero or negative @ x=M_m0=5309.25, c=exponent=-1.46693\n",
            "     p.d.f normalization integral is zero or negative @ x=M_m0=5276.22, c=exponent=-1.46693\n",
            "     p.d.f normalization integral is zero or negative @ x=M_m0=5316.59, c=exponent=-1.46693\n",
            "     p.d.f normalization integral is zero or negative @ x=M_m0=5294.33, c=exponent=-1.46693\n",
            "     p.d.f normalization integral is zero or negative @ x=M_m0=5254.15, c=exponent=-1.46693\n",
            "     p.d.f normalization integral is zero or negative @ x=M_m0=5066.8, c=exponent=-1.46693\n",
            "     p.d.f normalization integral is zero or negative @ x=M_m0=5305.77, c=exponent=-1.46693\n",
            "    ... (remaining 1093 messages suppressed)\n",
            "\n",
            "[#0] WARNING:Minization -- RooMinimizerFcn: Minimized function has error status.\n",
            "Returning maximum FCN so far (6.29717e+06) to force MIGRAD to back out of this region. Error log follows\n",
            "Parameter values: Gauss_Norm=3012.24, Mean=5379.69, Width=50, exp_Norm=820.538, exponent=-1.50729\n",
            "RooExponential::Exponential Background[ x=M_m0 c=exponent ]\n",
            "     p.d.f normalization integral is zero or negative @ x=M_m0=5277.09, c=exponent=-1.50729\n",
            "     p.d.f normalization integral is zero or negative @ x=M_m0=5278.98, c=exponent=-1.50729\n",
            "     p.d.f normalization integral is zero or negative @ x=M_m0=5091.47, c=exponent=-1.50729\n",
            "     p.d.f normalization integral is zero or negative @ x=M_m0=5340.12, c=exponent=-1.50729\n",
            "     p.d.f normalization integral is zero or negative @ x=M_m0=5145.64, c=exponent=-1.50729\n",
            "     p.d.f normalization integral is zero or negative @ x=M_m0=5309.25, c=exponent=-1.50729\n",
            "     p.d.f normalization integral is zero or negative @ x=M_m0=5276.22, c=exponent=-1.50729\n",
            "     p.d.f normalization integral is zero or negative @ x=M_m0=5316.59, c=exponent=-1.50729\n",
            "     p.d.f normalization integral is zero or negative @ x=M_m0=5294.33, c=exponent=-1.50729\n",
            "     p.d.f normalization integral is zero or negative @ x=M_m0=5254.15, c=exponent=-1.50729\n",
            "     p.d.f normalization integral is zero or negative @ x=M_m0=5066.8, c=exponent=-1.50729\n",
            "     p.d.f normalization integral is zero or negative @ x=M_m0=5305.77, c=exponent=-1.50729\n",
            "    ... (remaining 1093 messages suppressed)\n",
            "\n",
            "[#0] WARNING:Minization -- RooMinimizerFcn: Minimized function has error status.\n",
            "Returning maximum FCN so far (6.29717e+06) to force MIGRAD to back out of this region. Error log follows\n",
            "Parameter values: Gauss_Norm=2379.01, Mean=5368.91, Width=49.9972, exp_Norm=876.701, exponent=-1.21941\n",
            "RooExponential::Exponential Background[ x=M_m0 c=exponent ]\n",
            "     p.d.f normalization integral is zero or negative @ x=M_m0=5277.09, c=exponent=-1.21941\n",
            "     p.d.f normalization integral is zero or negative @ x=M_m0=5278.98, c=exponent=-1.21941\n",
            "     p.d.f normalization integral is zero or negative @ x=M_m0=5091.47, c=exponent=-1.21941\n",
            "     p.d.f normalization integral is zero or negative @ x=M_m0=5340.12, c=exponent=-1.21941\n",
            "     p.d.f normalization integral is zero or negative @ x=M_m0=5145.64, c=exponent=-1.21941\n",
            "     p.d.f normalization integral is zero or negative @ x=M_m0=5309.25, c=exponent=-1.21941\n",
            "     p.d.f normalization integral is zero or negative @ x=M_m0=5276.22, c=exponent=-1.21941\n",
            "     p.d.f normalization integral is zero or negative @ x=M_m0=5316.59, c=exponent=-1.21941\n",
            "     p.d.f normalization integral is zero or negative @ x=M_m0=5294.33, c=exponent=-1.21941\n",
            "     p.d.f normalization integral is zero or negative @ x=M_m0=5254.15, c=exponent=-1.21941\n",
            "     p.d.f normalization integral is zero or negative @ x=M_m0=5066.8, c=exponent=-1.21941\n",
            "     p.d.f normalization integral is zero or negative @ x=M_m0=5305.77, c=exponent=-1.21941\n",
            "    ... (remaining 1093 messages suppressed)\n",
            "\n",
            " EIGENVALUES OF SECOND-DERIVATIVE MATRIX:\n",
            "        -7.2611e-01  2.7721e-01  5.6534e-01  1.0207e+00  3.8629e+00\n",
            " MINUIT WARNING IN MIGRAD  \n",
            " ============== MATRIX FORCED POS-DEF BY ADDING 0.729973 TO DIAGONAL.\n",
            " MIGRAD MINIMIZATION HAS CONVERGED.\n",
            " MIGRAD WILL VERIFY CONVERGENCE AND ERROR MATRIX.\n",
            " COVARIANCE MATRIX CALCULATED SUCCESSFULLY\n",
            " FCN=-1083.36 FROM MIGRAD    STATUS=CONVERGED     720 CALLS         721 TOTAL\n",
            "                     EDM=1.39361e-05    STRATEGY= 1      ERROR MATRIX ACCURATE \n",
            "  EXT PARAMETER                                   STEP         FIRST   \n",
            "  NO.   NAME      VALUE            ERROR          SIZE      DERIVATIVE \n",
            "   1  Gauss_Norm   8.75180e+02   3.03512e+01   7.22339e-06   4.30362e+00\n",
            "   2  Mean         5.28531e+03   5.89022e-01   5.41530e-05  -1.19955e+00\n",
            "   3  Width        1.63866e+01   4.65949e-01   4.45365e-04  -9.78205e-02\n",
            "   4  exp_Norm     2.27770e+02   1.65465e+01   9.36912e-06  -1.72181e+00\n",
            "   5  exponent    -3.44883e-03   4.35027e-04   4.90946e-06  -1.50065e+00\n",
            "                               ERR DEF= 0.5\n",
            " EXTERNAL ERROR MATRIX.    NDIM=  25    NPAR=  5    ERR DEF=0.5\n",
            "  9.212e+02  1.469e-01 -1.159e+00  4.605e+01  6.527e-04 \n",
            "  1.469e-01  3.469e-01 -5.289e-03  1.469e-01 -4.137e-06 \n",
            " -1.159e+00 -5.289e-03  2.171e-01 -1.158e+00 -1.615e-05 \n",
            "  4.605e+01  1.469e-01 -1.158e+00  2.738e+02  6.525e-04 \n",
            "  6.527e-04 -4.137e-06 -1.615e-05  6.525e-04  1.892e-07 \n",
            " PARAMETER  CORRELATION COEFFICIENTS  \n",
            "       NO.  GLOBAL      1      2      3      4      5\n",
            "        1  0.12062   1.000  0.008 -0.082  0.092  0.049\n",
            "        2  0.03027   0.008  1.000 -0.019  0.015 -0.016\n",
            "        3  0.17773  -0.082 -0.019  1.000 -0.150 -0.080\n",
            "        4  0.18649   0.092  0.015 -0.150  1.000  0.091\n",
            "        5  0.11996   0.049 -0.016 -0.080  0.091  1.000\n",
            " **********\n",
            " **   34 **SET ERR         0.5\n",
            " **********\n",
            " **********\n",
            " **   35 **SET PRINT           1\n",
            " **********\n",
            " **********\n",
            " **   36 **HESSE        2500\n",
            " **********\n",
            " COVARIANCE MATRIX CALCULATED SUCCESSFULLY\n",
            " FCN=-1083.36 FROM HESSE     STATUS=OK             31 CALLS         752 TOTAL\n",
            "                     EDM=1.39298e-05    STRATEGY= 1      ERROR MATRIX ACCURATE \n",
            "  EXT PARAMETER                                INTERNAL      INTERNAL  \n",
            "  NO.   NAME      VALUE            ERROR       STEP SIZE       VALUE   \n",
            "   1  Gauss_Norm   8.75180e+02   3.03513e+01   1.44468e-06  -1.58927e+00\n",
            "   2  Mean         5.28531e+03   5.89027e-01   1.08306e-05   1.41722e-01\n",
            "   3  Width        1.63866e+01   4.65971e-01   8.90729e-05  -3.51744e-01\n",
            "   4  exp_Norm     2.27770e+02   1.65470e+01   1.87382e-06  -1.55926e+00\n",
            "   5  exponent    -3.44883e-03   4.35035e-04   9.81891e-07  -1.72441e-03\n",
            "                               ERR DEF= 0.5\n",
            " EXTERNAL ERROR MATRIX.    NDIM=  25    NPAR=  5    ERR DEF=0.5\n",
            "  9.212e+02  1.471e-01 -1.159e+00  4.604e+01  6.533e-04 \n",
            "  1.471e-01  3.470e-01 -5.417e-03  1.470e-01 -4.131e-06 \n",
            " -1.159e+00 -5.417e-03  2.172e-01 -1.159e+00 -1.618e-05 \n",
            "  4.604e+01  1.470e-01 -1.159e+00  2.738e+02  6.533e-04 \n",
            "  6.533e-04 -4.131e-06 -1.618e-05  6.533e-04  1.893e-07 \n",
            " PARAMETER  CORRELATION COEFFICIENTS  \n",
            "       NO.  GLOBAL      1      2      3      4      5\n",
            "        1  0.12064   1.000  0.008 -0.082  0.092  0.049\n",
            "        2  0.03055   0.008  1.000 -0.020  0.015 -0.016\n",
            "        3  0.17798  -0.082 -0.020  1.000 -0.150 -0.080\n",
            "        4  0.18664   0.092  0.015 -0.150  1.000  0.091\n",
            "        5  0.12011   0.049 -0.016 -0.080  0.091  1.000\n",
            "[#1] INFO:Minization -- RooMinimizer::optimizeConst: deactivating const optimization\n"
          ],
          "name": "stdout"
        }
      ]
    },
    {
      "cell_type": "code",
      "metadata": {
        "id": "bUhgxlRGd4XO",
        "colab": {
          "base_uri": "https://localhost:8080/",
          "height": 574
        },
        "outputId": "cad0f09a-0005-41e0-af96-11a0e8a7a807"
      },
      "source": [
        "#Now to plot it all\r\n",
        "c1=ROOT.TCanvas(\"c1\",\"c1\")\r\n",
        "\r\n",
        "frame=mass.frame()\r\n",
        "data_to_fit.plotOn(frame)\r\n",
        "model.plotOn(frame, ROOT.RooFit.Components(\"Gaussian Signal\"),ROOT.RooFit.LineColor(8),ROOT.RooFit.LineStyle(2))\r\n",
        "model.plotOn(frame, ROOT.RooFit.Components(\"Exponential Background\"),ROOT.RooFit.LineColor(46),ROOT.RooFit.LineStyle(2))\r\n",
        "model.plotOn(frame)\r\n",
        "frame.Draw()\r\n",
        "\r\n",
        "\r\n",
        "\r\n",
        "c1.Update()\r\n",
        "c1.Draw()"
      ],
      "execution_count": 149,
      "outputs": [
        {
          "output_type": "stream",
          "text": [
            "[#1] INFO:Plotting -- RooAbsPdf::plotOn(Full Model) directly selected PDF components: (Gaussian Signal)\n",
            "[#1] INFO:Plotting -- RooAbsPdf::plotOn(Full Model) indirectly selected PDF components: ()\n",
            "[#1] INFO:Plotting -- RooAbsPdf::plotOn(Full Model) directly selected PDF components: (Exponential Background)\n",
            "[#1] INFO:Plotting -- RooAbsPdf::plotOn(Full Model) indirectly selected PDF components: ()\n"
          ],
          "name": "stdout"
        },
        {
          "output_type": "stream",
          "text": [
            "Warning in <TCanvas::Constructor>: Deleting canvas with same name: c1\n"
          ],
          "name": "stderr"
        },
        {
          "output_type": "display_data",
          "data": {
            "image/png": "[encoded data removed]",
            "text/plain": [
              "<IPython.core.display.Image object>"
            ]
          },
          "metadata": {
            "tags": []
          }
        }
      ]
    },
    {
      "cell_type": "markdown",
      "metadata": {
        "id": "60b4bs1od4M_"
      },
      "source": [
        "Using this structure, you can in theory build whatever models you like!\r\n",
        "\r\n",
        "Some recommendations (but not necessary to do all):-\r\n",
        "\r\n",
        "\r\n",
        "\r\n",
        "*   Gauss+Exponential (as above)\r\n",
        "*   Crystal Ball + Exponential\r\n",
        "*   Gauss+Crystal Ball+Exponential (now you need to weigh the two signal peaks and then the total signal against total background)\r\n",
        "*   Gauss+Chebychev\r\n",
        "*   Two Crystal Balls + Exponential"
      ]
    },
    {
      "cell_type": "markdown",
      "metadata": {
        "id": "vHivSaH1dwy7"
      },
      "source": [
        "So how good was the fit, and how many events do you have?\r\n",
        "\r\n",
        "We can use the .getValV() function on our signal and background *normalisation* components, e.g. Gauss_Norm=Gauss.getValV()\r\n",
        "\r\n",
        "To find the error (on this number) we can use .getError()\r\n",
        "\r\n",
        "Neither of these measures would tell us if this was a good fit or not. Normally we use a χ2 test to do so - this is built into the image we made (so we can do frame.chiSquare() to get this data)\r\n",
        "\r\n",
        "For each model you made, print the signal and background yields (with errors) and report the χ2"
      ]
    },
    {
      "cell_type": "code",
      "metadata": {
        "colab": {
          "base_uri": "https://localhost:8080/"
        },
        "id": "e3gsN1J4mLJS",
        "outputId": "98ac591e-4df2-418f-cbc2-2323f1584235"
      },
      "source": [
        "print(Gauss_Norm.getValV())\r\n",
        "\r\n",
        "print(Gauss_Norm.getError())\r\n",
        "print(frame.chiSquare())"
      ],
      "execution_count": 45,
      "outputs": [
        {
          "output_type": "stream",
          "text": [
            "875.179879751\n",
            "30.3512795301\n",
            "0.57958198439\n"
          ],
          "name": "stdout"
        }
      ]
    },
    {
      "cell_type": "markdown",
      "metadata": {
        "id": "ob2HARgWoTGe"
      },
      "source": [
        "#Counting\r\n",
        "\r\n",
        "So we have now loaded our data; we have reconstructed information about the mother B meson and we have cut away any data which looks like it might not be what we are looking for. We have then plotted histograms of the mass of the B meson and used this to fit a model, a function to describe the events there. We now have to identify which of our events belong to the B<sup>+</sup> and how many of them belong to B<sup>-</sup>.\r\n",
        "\r\n",
        "To do this, should split out data into two groups (and throw away data which doesn't comply with either decay)\r\n",
        "\r\n",
        "We will be looking for the events which are\r\n",
        "\r\n",
        "\r\n",
        "B<sup>+</sup>->K<sup>+</sup> + K<sup>+</sup>  + K<sup>-</sup>\r\n",
        "\r\n",
        "or\r\n",
        "\r\n",
        "B<sup>-</sup>->K<sup>-</sup> + K<sup>-</sup>  + K<sup>+</sup>\r\n",
        "\r\n",
        "We can look for the number of positive and negative charges in H1, H2 and H3 (using the variable ```H1_Charge``` etc.). If we have 0 or 3 positive charges, we should throw the event away and if we have 1 it should be assigned be a B<sup>-</sup>, with 2 it should be a B<sup>+</sup>"
      ]
    },
    {
      "cell_type": "code",
      "metadata": {
        "colab": {
          "base_uri": "https://localhost:8080/",
          "height": 606
        },
        "id": "X3DN_ytIp57K",
        "outputId": "a17b6e86-808c-43be-cc01-86f7efcfdd37"
      },
      "source": [
        "# Divide the data with the selection string into two different cases: either B+ or B-\r\n",
        "\r\n",
        "selectionBplus = (\"(H1_Charge + H2_Charge + H3_Charge) == 1\")\r\n",
        "selectionBminus = (\"(H1_Charge + H2_Charge + H3_Charge) == -1\")\r\n",
        "\r\n",
        "CutTreeBplus = CutTree.CopyTree(selectionBplus)\r\n",
        "CutTreeBminus = CutTree.CopyTree(selectionBminus)\r\n",
        "\r\n",
        "\r\n",
        "b = ROOT.TCanvas(\"b\", \"b\",800,600)\r\n",
        "\r\n",
        "CutTreeBplus.Draw(\"M_m0\"+\">>B+ meson(1000,0,12000)\")\r\n",
        "histogramPLUS = ROOT.gDirectory.Get(\"B+ meson\")\r\n",
        "histogramPLUS.SetLineColor(4)\r\n",
        "\r\n",
        "CutTreeBminus.Draw(\"M_m0\"+\">>B- meson(1000,0,12000)\")\r\n",
        "histogramMINUS = ROOT.gDirectory.Get(\"B- meson\")\r\n",
        "histogramMINUS.SetLineColor(2)\r\n",
        "\r\n",
        "histogramPLUS.Draw()\r\n",
        "histogramMINUS.Draw('same')\r\n",
        "histogramPLUS.SetTitle(\"B meson + vs B meson -\")\r\n",
        "\r\n",
        "leg = ROOT.TLegend(0.15,0.85,.4,.6)\r\n",
        "leg.SetTextFont(42)\r\n",
        "leg.SetTextSize(0.035)\r\n",
        "leg.AddEntry(histogramPLUS,\"B meson plus\",\"L\")\r\n",
        "leg.AddEntry(histogramMINUS,\"B meson minus\",\"L\")\r\n",
        "leg.Draw()\r\n",
        "\r\n",
        "b.Draw()"
      ],
      "execution_count": 183,
      "outputs": [
        {
          "output_type": "stream",
          "text": [
            "Warning in <TCanvas::Constructor>: Deleting canvas with same name: b\n"
          ],
          "name": "stderr"
        },
        {
          "output_type": "display_data",
          "data": {
            "image/png": "[encoded data removed]",
            "text/plain": [
              "<IPython.core.display.Image object>"
            ]
          },
          "metadata": {
            "tags": []
          }
        }
      ]
    },
    {
      "cell_type": "code",
      "metadata": {
        "colab": {
          "base_uri": "https://localhost:8080/",
          "height": 1000
        },
        "id": "idJPv5SaHoG4",
        "outputId": "e5e3d393-4040-41a0-d0f0-5ee22d1d778d"
      },
      "source": [
        "#define physical measurment that we want to fit using RooRealVar\r\n",
        "# var = ROOT.RooRealVar =(\"Variable from Python\", \"Nickname\",Min, Max, Units)\r\n",
        "\r\n",
        "massBPlus = ROOT.RooRealVar(\"M_m0\",\"massBPlus\",5000,5600,\"MeV/C^{2}\")\r\n",
        "massBMinus = ROOT.RooRealVar(\"M_m0\",\"massBMinus\",5000,5600,\"MeV/C^{2}\")\r\n",
        "\r\n",
        "# variables to make it less cluttered\r\n",
        "masses = [massBPlus, massBMinus]\r\n",
        "CutTrees = [CutTreeBplus, CutTreeBminus]\r\n",
        "Title = [\"B meson plus\",\"B meson minus\"]\r\n",
        "\r\n",
        "values = {\"values0\":0,\"values1\":0,\r\n",
        "     \"error0\":0,\"error1\":0,\r\n",
        "     \"chi0\":0,\"chi1\":0}\r\n",
        "\r\n",
        "for index in range(len(masses)):\r\n",
        "\r\n",
        "  # Signal model\r\n",
        "  gaussMean = ROOT.RooRealVar(\"Mean\",\"Mean\",5285,5000,5500)\r\n",
        "  gaussWidth = ROOT.RooRealVar(\"Width\",\"Width\",20,0,50)\r\n",
        "  \r\n",
        "  Gauss=ROOT.RooGaussian(\"Gaussian Signal\",\"Gauss\",masses[index],gaussMean,gaussWidth)\r\n",
        "  Gauss_Norm= ROOT.RooRealVar(\"Gauss_Norm\",\"Signal Yield\", tree.GetEntries()/30, 0, tree.GetEntries() * 3)\r\n",
        "\r\n",
        "  # Background model\r\n",
        "  exponent=ROOT.RooRealVar(\"exponent\", \"C\", -0.02, -2, +2)\r\n",
        "  exp_Norm= ROOT.RooRealVar(\"exp_Norm\",\"Background Yield\", tree.GetEntries()/30, 0, tree.GetEntries() * 2)\r\n",
        "  \r\n",
        "  Bkgnd=ROOT.RooExponential(\"Exponential Background\",\"Bkgnd\",masses[index],exponent)\r\n",
        "  \r\n",
        "  model=ROOT.RooAddPdf(\"Full Model\",\"model\",ROOT.RooArgList(Gauss,Bkgnd),ROOT.RooArgList(Gauss_Norm, exp_Norm) )\r\n",
        "\r\n",
        "  data_to_fit=ROOT.RooDataSet(\"Data Set\",\"data_to_fit\", CutTrees[index], ROOT.RooArgSet(masses[index]))\r\n",
        "\r\n",
        "\r\n",
        "  # Fitting\r\n",
        "  model.fitTo(data_to_fit)\r\n",
        "\r\n",
        "\r\n",
        "  # Plot the graphs \r\n",
        "  locals()[\"c\"+str(index)] = ROOT.TCanvas(\"c{}\".format(index),\"c{}\".format(index))\r\n",
        "  \r\n",
        "  frame=masses[index].frame()\r\n",
        "\r\n",
        "  data_to_fit.plotOn(frame)\r\n",
        "  model.plotOn(frame, ROOT.RooFit.Components(\"Gaussian Signal\"),ROOT.RooFit.LineColor(8),ROOT.RooFit.LineStyle(2))\r\n",
        "  model.plotOn(frame, ROOT.RooFit.Components(\"Exponential Background\"),ROOT.RooFit.LineColor(46),ROOT.RooFit.LineStyle(2))\r\n",
        "  model.plotOn(frame)\r\n",
        "\r\n",
        "  frame.Draw()\r\n",
        "  frame.SetTitle(Title[index])\r\n",
        "\r\n",
        "  values[\"values{}\".format(index)] = Gauss_Norm.getValV()\r\n",
        "  values[\"error{}\".format(index)] = Gauss_Norm.getError()\r\n",
        "  values[\"chi{}\".format(index)] = frame.chiSquare()\r\n",
        "\r\n",
        "  locals()[\"c\"+str(index)].Update()\r\n",
        "  locals()[\"c\"+str(index)].Draw()"
      ],
      "execution_count": 150,
      "outputs": [
        {
          "output_type": "stream",
          "text": [
            "[#1] INFO:Eval -- RooAbsReal::attachToTree(M_m0) TTree Float_t branch M_m0 will be converted to double precision\n",
            "[#1] INFO:Eval -- RooTreeDataStore::loadValues(Data Set) Ignored 28 out of range events\n",
            "[#1] INFO:Minization -- p.d.f. provides expected number of events, including extended term in likelihood.\n",
            "[#1] INFO:Minization -- RooMinimizer::optimizeConst: activating const optimization\n",
            "[#1] INFO:Minization --  The following expressions will be evaluated in cache-and-track mode: (Gaussian Signal,Exponential Background)\n",
            " **********\n",
            " **  280 **SET PRINT           1\n",
            " **********\n",
            " **********\n",
            " **  281 **SET NOGRAD\n",
            " **********\n",
            " PARAMETER DEFINITIONS:\n",
            "    NO.   NAME         VALUE      STEP SIZE      LIMITS\n",
            "     1 Gauss_Norm   1.14006e+05  5.70030e+04    0.00000e+00  1.02606e+07\n",
            " MINUIT WARNING IN PARAM DEF\n",
            " ============== LIMITS ON PARAM1 TOO FAR APART.\n",
            " PARAMETER DEFINITIONS:\n",
            "    NO.   NAME         VALUE      STEP SIZE      LIMITS\n",
            "     2 Mean         5.28500e+03  5.00000e+01    5.00000e+03  5.50000e+03\n",
            "     3 Width        2.00000e+01  5.00000e+00    0.00000e+00  5.00000e+01\n",
            "     4 exp_Norm     1.14006e+05  5.70030e+04    0.00000e+00  6.84039e+06\n",
            "     5 exponent    -2.00000e-02  4.00000e-01   -2.00000e+00  2.00000e+00\n",
            " **********\n",
            " **  282 **SET ERR         0.5\n",
            " **********\n",
            " **********\n",
            " **  283 **SET PRINT           1\n",
            " **********\n",
            " **********\n",
            " **  284 **SET STR           1\n",
            " **********\n",
            " NOW USING STRATEGY  1: TRY TO BALANCE SPEED AGAINST RELIABILITY\n",
            " **********\n",
            " **  285 **MIGRAD        2500           1\n",
            " **********\n",
            " FIRST CALL TO USER FUNCTION AT NEW START POINT, WITH IFLAG=4.\n",
            " START MIGRAD MINIMIZATION.  STRATEGY  1.  CONVERGENCE WHEN EDM .LT. 1.00e-03\n",
            "[#0] WARNING:Minization -- RooMinimizerFcn: Minimized function has error status.\n",
            "Returning maximum FCN so far (244332) to force MIGRAD to back out of this region. Error log follows\n",
            "Parameter values: Gauss_Norm=114006, Mean=5285, Width=20, exp_Norm=114006, exponent=-0.151553\n",
            "RooExponential::Exponential Background[ x=M_m0 c=exponent ]\n",
            "     p.d.f normalization integral is zero or negative @ x=M_m0=5277.09, c=exponent=-0.151553\n",
            "     p.d.f normalization integral is zero or negative @ x=M_m0=5278.98, c=exponent=-0.151553\n",
            "     p.d.f normalization integral is zero or negative @ x=M_m0=5091.47, c=exponent=-0.151553\n",
            "     p.d.f normalization integral is zero or negative @ x=M_m0=5340.12, c=exponent=-0.151553\n",
            "     p.d.f normalization integral is zero or negative @ x=M_m0=5145.64, c=exponent=-0.151553\n",
            "     p.d.f normalization integral is zero or negative @ x=M_m0=5309.25, c=exponent=-0.151553\n",
            "     p.d.f normalization integral is zero or negative @ x=M_m0=5276.22, c=exponent=-0.151553\n",
            "     p.d.f normalization integral is zero or negative @ x=M_m0=5316.59, c=exponent=-0.151553\n",
            "     p.d.f normalization integral is zero or negative @ x=M_m0=5294.33, c=exponent=-0.151553\n",
            "     p.d.f normalization integral is zero or negative @ x=M_m0=5254.15, c=exponent=-0.151553\n",
            "     p.d.f normalization integral is zero or negative @ x=M_m0=5066.8, c=exponent=-0.151553\n",
            "     p.d.f normalization integral is zero or negative @ x=M_m0=5283.53, c=exponent=-0.151553\n",
            "    ... (remaining 543 messages suppressed)\n",
            "\n",
            " FCN=224064 FROM MIGRAD    STATUS=INITIATE       47 CALLS          48 TOTAL\n",
            "                     EDM= unknown      STRATEGY= 1      NO ERROR MATRIX       \n",
            "  EXT PARAMETER               CURRENT GUESS       STEP         FIRST   \n",
            "  NO.   NAME      VALUE            ERROR          SIZE      DERIVATIVE \n",
            "   1  Gauss_Norm   1.14006e+05   5.70030e+04   0.00000e+00   1.07166e+06\n",
            "   2  Mean         5.28500e+03   5.00000e+01   0.00000e+00  -2.49449e+02\n",
            "   3  Width        2.00000e+01   5.00000e+00   0.00000e+00   1.51882e+02\n",
            "   4  exp_Norm     1.14006e+05   5.70030e+04   0.00000e+00   8.74608e+05\n",
            "   5  exponent    -2.75840e-03   4.00000e-01   8.62096e-03  -2.36310e+03\n",
            "                               ERR DEF= 0.5\n",
            " MIGRAD MINIMIZATION HAS CONVERGED.\n",
            " MIGRAD WILL VERIFY CONVERGENCE AND ERROR MATRIX.\n",
            " COVARIANCE MATRIX CALCULATED SUCCESSFULLY\n",
            " FCN=-167.929 FROM MIGRAD    STATUS=CONVERGED     194 CALLS         195 TOTAL\n",
            "                     EDM=4.41679e-05    STRATEGY= 1      ERROR MATRIX ACCURATE \n",
            "  EXT PARAMETER                                   STEP         FIRST   \n",
            "  NO.   NAME      VALUE            ERROR          SIZE      DERIVATIVE \n",
            "   1  Gauss_Norm   4.47348e+02   2.17205e+01   2.84936e-06   3.75948e+00\n",
            "   2  Mean         5.28603e+03   8.66222e-01   3.13794e-05   2.39461e-01\n",
            "   3  Width        1.71753e+01   6.96405e-01   2.57707e-04   2.72629e-02\n",
            "   4  exp_Norm     1.05589e+02   1.14020e+01   3.72077e-06   9.69403e+00\n",
            "   5  exponent    -3.20644e-03   6.30974e-04   2.80592e-06  -1.44184e+01\n",
            "                               ERR DEF= 0.5\n",
            " EXTERNAL ERROR MATRIX.    NDIM=  25    NPAR=  5    ERR DEF=0.5\n",
            "  4.718e+02  9.899e-02 -1.376e+00 -2.444e+01  6.888e-04 \n",
            "  9.899e-02  7.503e-01 -4.287e-03 -9.895e-02 -1.245e-05 \n",
            " -1.376e+00 -4.287e-03  4.851e-01  1.375e+00 -3.893e-05 \n",
            " -2.444e+01 -9.895e-02  1.375e+00  1.300e+02 -6.885e-04 \n",
            "  6.888e-04 -1.245e-05 -3.893e-05 -6.885e-04  3.981e-07 \n",
            " PARAMETER  CORRELATION COEFFICIENTS  \n",
            "       NO.  GLOBAL      1      2      3      4      5\n",
            "        1  0.12904   1.000  0.005 -0.091 -0.099  0.050\n",
            "        2  0.02728   0.005  1.000 -0.007 -0.010 -0.023\n",
            "        3  0.20089  -0.091 -0.007  1.000  0.173 -0.089\n",
            "        4  0.20736  -0.099 -0.010  0.173  1.000 -0.096\n",
            "        5  0.12792   0.050 -0.023 -0.089 -0.096  1.000\n",
            " **********\n",
            " **  286 **SET ERR         0.5\n",
            " **********\n",
            " **********\n",
            " **  287 **SET PRINT           1\n",
            " **********\n",
            " **********\n",
            " **  288 **HESSE        2500\n",
            " **********\n",
            " COVARIANCE MATRIX CALCULATED SUCCESSFULLY\n",
            " FCN=-167.929 FROM HESSE     STATUS=OK             31 CALLS         226 TOTAL\n",
            "                     EDM=4.41731e-05    STRATEGY= 1      ERROR MATRIX ACCURATE \n",
            "  EXT PARAMETER                                INTERNAL      INTERNAL  \n",
            "  NO.   NAME      VALUE            ERROR       STEP SIZE       VALUE   \n",
            "   1  Gauss_Norm   4.47348e+02   2.17206e+01   5.69872e-07  -1.58400e+00\n",
            "   2  Mean         5.28603e+03   8.66224e-01   6.27589e-06   1.44638e-01\n",
            "   3  Width        1.71753e+01   6.96422e-01   5.15414e-05  -3.18336e-01\n",
            "   4  exp_Norm     1.05589e+02   1.14022e+01   7.44155e-07  -1.57865e+00\n",
            "   5  exponent    -3.20644e-03   6.30984e-04   5.61184e-07  -1.60322e-03\n",
            "                               ERR DEF= 0.5\n",
            " EXTERNAL ERROR MATRIX.    NDIM=  25    NPAR=  5    ERR DEF=0.5\n",
            "  4.718e+02  9.903e-02 -1.376e+00 -2.444e+01  6.892e-04 \n",
            "  9.903e-02  7.503e-01 -4.424e-03 -9.901e-02 -1.245e-05 \n",
            " -1.376e+00 -4.424e-03  4.851e-01  1.376e+00 -3.898e-05 \n",
            " -2.444e+01 -9.901e-02  1.376e+00  1.300e+02 -6.891e-04 \n",
            "  6.892e-04 -1.245e-05 -3.898e-05 -6.891e-04  3.981e-07 \n",
            " PARAMETER  CORRELATION COEFFICIENTS  \n",
            "       NO.  GLOBAL      1      2      3      4      5\n",
            "        1  0.12906   1.000  0.005 -0.091 -0.099  0.050\n",
            "        2  0.02733   0.005  1.000 -0.007 -0.010 -0.023\n",
            "        3  0.20100  -0.091 -0.007  1.000  0.173 -0.089\n",
            "        4  0.20744  -0.099 -0.010  0.173  1.000 -0.096\n",
            "        5  0.12803   0.050 -0.023 -0.089 -0.096  1.000\n",
            "[#1] INFO:Minization -- RooMinimizer::optimizeConst: deactivating const optimization\n",
            "[#1] INFO:Plotting -- RooAbsPdf::plotOn(Full Model) directly selected PDF components: (Gaussian Signal)\n",
            "[#1] INFO:Plotting -- RooAbsPdf::plotOn(Full Model) indirectly selected PDF components: ()\n",
            "[#1] INFO:Plotting -- RooAbsPdf::plotOn(Full Model) directly selected PDF components: (Exponential Background)\n",
            "[#1] INFO:Plotting -- RooAbsPdf::plotOn(Full Model) indirectly selected PDF components: ()\n",
            "[#1] INFO:Eval -- RooAbsReal::attachToTree(M_m0) TTree Float_t branch M_m0 will be converted to double precision\n",
            "[#1] INFO:Eval -- RooTreeDataStore::loadValues(Data Set) Ignored 29 out of range events\n",
            "[#1] INFO:Minization -- p.d.f. provides expected number of events, including extended term in likelihood.\n",
            "[#1] INFO:Minization -- RooMinimizer::optimizeConst: activating const optimization\n",
            "[#1] INFO:Minization --  The following expressions will be evaluated in cache-and-track mode: (Gaussian Signal,Exponential Background)\n",
            " **********\n",
            " **  289 **SET PRINT           1\n",
            " **********\n",
            " **********\n",
            " **  290 **SET NOGRAD\n",
            " **********\n",
            " PARAMETER DEFINITIONS:\n",
            "    NO.   NAME         VALUE      STEP SIZE      LIMITS\n",
            "     1 Gauss_Norm   1.14006e+05  5.70030e+04    0.00000e+00  1.02606e+07\n",
            " MINUIT WARNING IN PARAM DEF\n",
            " ============== LIMITS ON PARAM1 TOO FAR APART.\n",
            " PARAMETER DEFINITIONS:\n",
            "    NO.   NAME         VALUE      STEP SIZE      LIMITS\n",
            "     2 Mean         5.28500e+03  5.00000e+01    5.00000e+03  5.50000e+03\n",
            "     3 Width        2.00000e+01  5.00000e+00    0.00000e+00  5.00000e+01\n",
            "     4 exp_Norm     1.14006e+05  5.70030e+04    0.00000e+00  6.84039e+06\n",
            "     5 exponent    -2.00000e-02  4.00000e-01   -2.00000e+00  2.00000e+00\n",
            " **********\n",
            " **  291 **SET ERR         0.5\n",
            " **********\n",
            " **********\n",
            " **  292 **SET PRINT           1\n",
            " **********\n",
            " **********\n",
            " **  293 **SET STR           1\n",
            " **********\n",
            " NOW USING STRATEGY  1: TRY TO BALANCE SPEED AGAINST RELIABILITY\n",
            " **********\n",
            " **  294 **MIGRAD        2500           1\n",
            " **********\n",
            " FIRST CALL TO USER FUNCTION AT NEW START POINT, WITH IFLAG=4.\n",
            " START MIGRAD MINIMIZATION.  STRATEGY  1.  CONVERGENCE WHEN EDM .LT. 1.00e-03\n",
            "[#0] WARNING:Minization -- RooMinimizerFcn: Minimized function has error status.\n",
            "Returning maximum FCN so far (244352) to force MIGRAD to back out of this region. Error log follows\n",
            "Parameter values: Gauss_Norm=114006, Mean=5285, Width=20, exp_Norm=114006, exponent=-0.151559\n",
            "RooExponential::Exponential Background[ x=M_m0 c=exponent ]\n",
            "     p.d.f normalization integral is zero or negative @ x=M_m0=5305.77, c=exponent=-0.151559\n",
            "     p.d.f normalization integral is zero or negative @ x=M_m0=5287.83, c=exponent=-0.151559\n",
            "     p.d.f normalization integral is zero or negative @ x=M_m0=5267.64, c=exponent=-0.151559\n",
            "     p.d.f normalization integral is zero or negative @ x=M_m0=5110.53, c=exponent=-0.151559\n",
            "     p.d.f normalization integral is zero or negative @ x=M_m0=5298.86, c=exponent=-0.151559\n",
            "     p.d.f normalization integral is zero or negative @ x=M_m0=5280.13, c=exponent=-0.151559\n",
            "     p.d.f normalization integral is zero or negative @ x=M_m0=5097.08, c=exponent=-0.151559\n",
            "     p.d.f normalization integral is zero or negative @ x=M_m0=5281.06, c=exponent=-0.151559\n",
            "     p.d.f normalization integral is zero or negative @ x=M_m0=5261.69, c=exponent=-0.151559\n",
            "     p.d.f normalization integral is zero or negative @ x=M_m0=5111.65, c=exponent=-0.151559\n",
            "     p.d.f normalization integral is zero or negative @ x=M_m0=5126.75, c=exponent=-0.151559\n",
            "     p.d.f normalization integral is zero or negative @ x=M_m0=5296.14, c=exponent=-0.151559\n",
            "    ... (remaining 540 messages suppressed)\n",
            "\n",
            " FCN=224277 FROM MIGRAD    STATUS=INITIATE       24 CALLS          25 TOTAL\n",
            "                     EDM= unknown      STRATEGY= 1      NO ERROR MATRIX       \n",
            "  EXT PARAMETER               CURRENT GUESS       STEP         FIRST   \n",
            "  NO.   NAME      VALUE            ERROR          SIZE      DERIVATIVE \n",
            "   1  Gauss_Norm   1.14006e+05   5.70030e+04   5.48559e-02   1.07130e+06\n",
            "   2  Mean         5.28500e+03   5.00000e+01   2.03476e-01   9.80234e+01\n",
            "   3  Width        2.00000e+01   5.00000e+00   2.05758e-01   1.32185e+02\n",
            "   4  exp_Norm     1.14006e+05   5.70030e+04   6.73657e-02   8.74916e+05\n",
            "   5  exponent    -2.00000e-02   4.00000e-01   2.01369e-01  -2.65049e+04\n",
            "                               ERR DEF= 0.5\n",
            "[#0] WARNING:Minization -- RooMinimizerFcn: Minimized function has error status.\n",
            "Returning maximum FCN so far (244352) to force MIGRAD to back out of this region. Error log follows\n",
            "Parameter values: Gauss_Norm=5.89671, Mean=5284.63, Width=14.3663, exp_Norm=51.4669, exponent=0.645952\n",
            "RooAddPdf::Full Model[ Gauss_Norm * Gaussian Signal + exp_Norm * Exponential Background ]\n",
            "     p.d.f value is Not-a-Number (-nan), forcing value to zero @ !refCoefNorm=(), !pdfs=(Gaussian Signal = 0.338424/36.0109,Exponential Background = inf/-nan), !coefficients=(Gauss_Norm = 5.89671,exp_Norm = 51.4669)\n",
            "     getLogVal() top-level p.d.f evaluates to zero @ !refCoefNorm=(), !pdfs=(Gaussian Signal = 0.338424/36.0109,Exponential Background = inf/-nan), !coefficients=(Gauss_Norm = 5.89671,exp_Norm = 51.4669)\n",
            "     p.d.f value is Not-a-Number (-nan), forcing value to zero @ !refCoefNorm=(), !pdfs=(Gaussian Signal = 0.975468/36.0109,Exponential Background = inf/-nan), !coefficients=(Gauss_Norm = 5.89671,exp_Norm = 51.4669)\n",
            "     getLogVal() top-level p.d.f evaluates to zero @ !refCoefNorm=(), !pdfs=(Gaussian Signal = 0.975468/36.0109,Exponential Background = inf/-nan), !coefficients=(Gauss_Norm = 5.89671,exp_Norm = 51.4669)\n",
            "     p.d.f value is Not-a-Number (-nan), forcing value to zero @ !refCoefNorm=(), !pdfs=(Gaussian Signal = 0.496912/36.0109,Exponential Background = inf/-nan), !coefficients=(Gauss_Norm = 5.89671,exp_Norm = 51.4669)\n",
            "     getLogVal() top-level p.d.f evaluates to zero @ !refCoefNorm=(), !pdfs=(Gaussian Signal = 0.496912/36.0109,Exponential Background = inf/-nan), !coefficients=(Gauss_Norm = 5.89671,exp_Norm = 51.4669)\n",
            "     p.d.f value is Not-a-Number (-nan), forcing value to zero @ !refCoefNorm=(), !pdfs=(Gaussian Signal = 1.28702e-32/36.0109,Exponential Background = inf/-nan), !coefficients=(Gauss_Norm = 5.89671,exp_Norm = 51.4669)\n",
            "     getLogVal() top-level p.d.f evaluates to zero @ !refCoefNorm=(), !pdfs=(Gaussian Signal = 1.28702e-32/36.0109,Exponential Background = inf/-nan), !coefficients=(Gauss_Norm = 5.89671,exp_Norm = 51.4669)\n",
            "     p.d.f value is Not-a-Number (-nan), forcing value to zero @ !refCoefNorm=(), !pdfs=(Gaussian Signal = 0.611982/36.0109,Exponential Background = inf/-nan), !coefficients=(Gauss_Norm = 5.89671,exp_Norm = 51.4669)\n",
            "     getLogVal() top-level p.d.f evaluates to zero @ !refCoefNorm=(), !pdfs=(Gaussian Signal = 0.611982/36.0109,Exponential Background = inf/-nan), !coefficients=(Gauss_Norm = 5.89671,exp_Norm = 51.4669)\n",
            "     p.d.f value is Not-a-Number (-nan), forcing value to zero @ !refCoefNorm=(), !pdfs=(Gaussian Signal = 0.952113/36.0109,Exponential Background = inf/-nan), !coefficients=(Gauss_Norm = 5.89671,exp_Norm = 51.4669)\n",
            "     getLogVal() top-level p.d.f evaluates to zero @ !refCoefNorm=(), !pdfs=(Gaussian Signal = 0.952113/36.0109,Exponential Background = inf/-nan), !coefficients=(Gauss_Norm = 5.89671,exp_Norm = 51.4669)\n",
            "    ... (remaining 1090 messages suppressed)\n",
            "RooNLLVar::nll_Full Model_Data Set[ paramSet=(Gauss_Norm,Mean,Width,exp_Norm,exponent) ]\n",
            "     function value is NAN @ paramSet=(Gauss_Norm = 5.89671,Mean = 5284.63,Width = 14.3663,exp_Norm = 51.4669,exponent = 0.645952)\n",
            "RooRealIntegral::Exponential Background_Int[M_m0][ Int Exponential Backgroundd[Ana](M_m0) ]\n",
            "     function value is NAN @ !sumList=(), !intList=(), !anaList=(M_m0 = 5305.77), !jacList=(), !facList=(), !func=Exponential Background=inf/2.37811e-45, !sumCat=()\n",
            "\n",
            "[#0] WARNING:Minization -- RooMinimizerFcn: Minimized function has error status.\n",
            "Returning maximum FCN so far (244352) to force MIGRAD to back out of this region. Error log follows\n",
            "Parameter values: Gauss_Norm=30569.3, Mean=5284.82, Width=17.2436, exp_Norm=29822.4, exponent=0.30376\n",
            "RooAddPdf::Full Model[ Gauss_Norm * Gaussian Signal + exp_Norm * Exponential Background ]\n",
            "     p.d.f value is Not-a-Number (-nan), forcing value to zero @ !refCoefNorm=(), !pdfs=(Gaussian Signal = 0.477944/43.2234,Exponential Background = inf/-nan), !coefficients=(Gauss_Norm = 30569.3,exp_Norm = 29822.4)\n",
            "     getLogVal() top-level p.d.f evaluates to zero @ !refCoefNorm=(), !pdfs=(Gaussian Signal = 0.477944/43.2234,Exponential Background = inf/-nan), !coefficients=(Gauss_Norm = 30569.3,exp_Norm = 29822.4)\n",
            "     p.d.f value is Not-a-Number (-nan), forcing value to zero @ !refCoefNorm=(), !pdfs=(Gaussian Signal = 0.984907/43.2234,Exponential Background = inf/-nan), !coefficients=(Gauss_Norm = 30569.3,exp_Norm = 29822.4)\n",
            "     getLogVal() top-level p.d.f evaluates to zero @ !refCoefNorm=(), !pdfs=(Gaussian Signal = 0.984907/43.2234,Exponential Background = inf/-nan), !coefficients=(Gauss_Norm = 30569.3,exp_Norm = 29822.4)\n",
            "     p.d.f value is Not-a-Number (-nan), forcing value to zero @ !refCoefNorm=(), !pdfs=(Gaussian Signal = 0.608593/43.2234,Exponential Background = inf/-nan), !coefficients=(Gauss_Norm = 30569.3,exp_Norm = 29822.4)\n",
            "     getLogVal() top-level p.d.f evaluates to zero @ !refCoefNorm=(), !pdfs=(Gaussian Signal = 0.608593/43.2234,Exponential Background = inf/-nan), !coefficients=(Gauss_Norm = 30569.3,exp_Norm = 29822.4)\n",
            "     p.d.f value is Not-a-Number (-nan), forcing value to zero @ !refCoefNorm=(), !pdfs=(Gaussian Signal = 6.53043e-23/43.2234,Exponential Background = inf/-nan), !coefficients=(Gauss_Norm = 30569.3,exp_Norm = 29822.4)\n",
            "     getLogVal() top-level p.d.f evaluates to zero @ !refCoefNorm=(), !pdfs=(Gaussian Signal = 6.53043e-23/43.2234,Exponential Background = inf/-nan), !coefficients=(Gauss_Norm = 30569.3,exp_Norm = 29822.4)\n",
            "     p.d.f value is Not-a-Number (-nan), forcing value to zero @ !refCoefNorm=(), !pdfs=(Gaussian Signal = 0.717781/43.2234,Exponential Background = inf/-nan), !coefficients=(Gauss_Norm = 30569.3,exp_Norm = 29822.4)\n",
            "     getLogVal() top-level p.d.f evaluates to zero @ !refCoefNorm=(), !pdfs=(Gaussian Signal = 0.717781/43.2234,Exponential Background = inf/-nan), !coefficients=(Gauss_Norm = 30569.3,exp_Norm = 29822.4)\n",
            "     p.d.f value is Not-a-Number (-nan), forcing value to zero @ !refCoefNorm=(), !pdfs=(Gaussian Signal = 0.963608/43.2234,Exponential Background = inf/-nan), !coefficients=(Gauss_Norm = 30569.3,exp_Norm = 29822.4)\n",
            "     getLogVal() top-level p.d.f evaluates to zero @ !refCoefNorm=(), !pdfs=(Gaussian Signal = 0.963608/43.2234,Exponential Background = inf/-nan), !coefficients=(Gauss_Norm = 30569.3,exp_Norm = 29822.4)\n",
            "    ... (remaining 1090 messages suppressed)\n",
            "RooNLLVar::nll_Full Model_Data Set[ paramSet=(Gauss_Norm,Mean,Width,exp_Norm,exponent) ]\n",
            "     function value is NAN @ paramSet=(Gauss_Norm = 30569.3,Mean = 5284.82,Width = 17.2436,exp_Norm = 29822.4,exponent = 0.30376)\n",
            "RooRealIntegral::Exponential Background_Int[M_m0][ Int Exponential Backgroundd[Ana](M_m0) ]\n",
            "     function value is NAN @ !sumList=(), !intList=(), !anaList=(M_m0 = 5305.77), !jacList=(), !facList=(), !func=Exponential Background=inf/-nan, !sumCat=()\n",
            "\n",
            "[#0] WARNING:Minization -- RooMinimizerFcn: Minimized function has error status.\n",
            "Returning maximum FCN so far (244352) to force MIGRAD to back out of this region. Error log follows\n",
            "Parameter values: Gauss_Norm=69174.3, Mean=5284.92, Width=18.7247, exp_Norm=68680, exponent=0.129043\n",
            "RooAddPdf::Full Model[ Gauss_Norm * Gaussian Signal + exp_Norm * Exponential Background ]\n",
            "     p.d.f value is Not-a-Number (-nan), forcing value to zero @ !refCoefNorm=(), !pdfs=(Gaussian Signal = 1.80624e-39/46.9358,Exponential Background = inf/inf), !coefficients=(Gauss_Norm = 69174.3,exp_Norm = 68680)\n",
            "     getLogVal() top-level p.d.f evaluates to zero @ !refCoefNorm=(), !pdfs=(Gaussian Signal = 1.80624e-39/46.9358,Exponential Background = inf/inf), !coefficients=(Gauss_Norm = 69174.3,exp_Norm = 68680)\n",
            "     p.d.f value is Not-a-Number (-nan), forcing value to zero @ !refCoefNorm=(), !pdfs=(Gaussian Signal = 3.34795e-35/46.9358,Exponential Background = inf/inf), !coefficients=(Gauss_Norm = 69174.3,exp_Norm = 68680)\n",
            "     getLogVal() top-level p.d.f evaluates to zero @ !refCoefNorm=(), !pdfs=(Gaussian Signal = 3.34795e-35/46.9358,Exponential Background = inf/inf), !coefficients=(Gauss_Norm = 69174.3,exp_Norm = 68680)\n",
            "     p.d.f value is Not-a-Number (-nan), forcing value to zero @ !refCoefNorm=(), !pdfs=(Gaussian Signal = 1.12212e-42/46.9358,Exponential Background = inf/inf), !coefficients=(Gauss_Norm = 69174.3,exp_Norm = 68680)\n",
            "     getLogVal() top-level p.d.f evaluates to zero @ !refCoefNorm=(), !pdfs=(Gaussian Signal = 1.12212e-42/46.9358,Exponential Background = inf/inf), !coefficients=(Gauss_Norm = 69174.3,exp_Norm = 68680)\n",
            "     p.d.f value is Not-a-Number (-nan), forcing value to zero @ !refCoefNorm=(), !pdfs=(Gaussian Signal = 7.47859e-32/46.9358,Exponential Background = inf/inf), !coefficients=(Gauss_Norm = 69174.3,exp_Norm = 68680)\n",
            "     getLogVal() top-level p.d.f evaluates to zero @ !refCoefNorm=(), !pdfs=(Gaussian Signal = 7.47859e-32/46.9358,Exponential Background = inf/inf), !coefficients=(Gauss_Norm = 69174.3,exp_Norm = 68680)\n",
            "     p.d.f value is Not-a-Number (-nan), forcing value to zero @ !refCoefNorm=(), !pdfs=(Gaussian Signal = 1.52342e-54/46.9358,Exponential Background = inf/inf), !coefficients=(Gauss_Norm = 69174.3,exp_Norm = 68680)\n",
            "     getLogVal() top-level p.d.f evaluates to zero @ !refCoefNorm=(), !pdfs=(Gaussian Signal = 1.52342e-54/46.9358,Exponential Background = inf/inf), !coefficients=(Gauss_Norm = 69174.3,exp_Norm = 68680)\n",
            "     p.d.f value is Not-a-Number (-nan), forcing value to zero @ !refCoefNorm=(), !pdfs=(Gaussian Signal = 2.01566e-43/46.9358,Exponential Background = inf/inf), !coefficients=(Gauss_Norm = 69174.3,exp_Norm = 68680)\n",
            "     getLogVal() top-level p.d.f evaluates to zero @ !refCoefNorm=(), !pdfs=(Gaussian Signal = 2.01566e-43/46.9358,Exponential Background = inf/inf), !coefficients=(Gauss_Norm = 69174.3,exp_Norm = 68680)\n",
            "    ... (remaining 4 messages suppressed)\n",
            "RooNLLVar::nll_Full Model_Data Set[ paramSet=(Gauss_Norm,Mean,Width,exp_Norm,exponent) ]\n",
            "     function value is NAN @ paramSet=(Gauss_Norm = 69174.3,Mean = 5284.92,Width = 18.7247,exp_Norm = 68680,exponent = 0.129043)\n",
            "\n",
            "[#0] WARNING:Minization -- RooMinimizerFcn: Minimized function has error status.\n",
            "Returning maximum FCN so far (244352) to force MIGRAD to back out of this region. Error log follows\n",
            "Parameter values: Gauss_Norm=31451.2, Mean=5283.39, Width=17.295, exp_Norm=34100.1, exponent=-0.444545\n",
            "RooExponential::Exponential Background[ x=M_m0 c=exponent ]\n",
            "     p.d.f normalization integral is zero or negative @ x=M_m0=5305.77, c=exponent=-0.444545\n",
            "     p.d.f normalization integral is zero or negative @ x=M_m0=5287.83, c=exponent=-0.444545\n",
            "     p.d.f normalization integral is zero or negative @ x=M_m0=5267.64, c=exponent=-0.444545\n",
            "     p.d.f normalization integral is zero or negative @ x=M_m0=5110.53, c=exponent=-0.444545\n",
            "     p.d.f normalization integral is zero or negative @ x=M_m0=5298.86, c=exponent=-0.444545\n",
            "     p.d.f normalization integral is zero or negative @ x=M_m0=5280.13, c=exponent=-0.444545\n",
            "     p.d.f normalization integral is zero or negative @ x=M_m0=5097.08, c=exponent=-0.444545\n",
            "     p.d.f normalization integral is zero or negative @ x=M_m0=5281.06, c=exponent=-0.444545\n",
            "     p.d.f normalization integral is zero or negative @ x=M_m0=5261.69, c=exponent=-0.444545\n",
            "     p.d.f normalization integral is zero or negative @ x=M_m0=5111.65, c=exponent=-0.444545\n",
            "     p.d.f normalization integral is zero or negative @ x=M_m0=5126.75, c=exponent=-0.444545\n",
            "     p.d.f normalization integral is zero or negative @ x=M_m0=5296.14, c=exponent=-0.444545\n",
            "    ... (remaining 540 messages suppressed)\n",
            "\n",
            "[#0] WARNING:Minization -- RooMinimizerFcn: Minimized function has error status.\n",
            "Returning maximum FCN so far (244352) to force MIGRAD to back out of this region. Error log follows\n",
            "Parameter values: Gauss_Norm=7415.44, Mean=5284.25, Width=18.4689, exp_Norm=6833.34, exponent=-0.181024\n",
            "RooExponential::Exponential Background[ x=M_m0 c=exponent ]\n",
            "     p.d.f normalization integral is zero or negative @ x=M_m0=5305.77, c=exponent=-0.181024\n",
            "     p.d.f normalization integral is zero or negative @ x=M_m0=5287.83, c=exponent=-0.181024\n",
            "     p.d.f normalization integral is zero or negative @ x=M_m0=5267.64, c=exponent=-0.181024\n",
            "     p.d.f normalization integral is zero or negative @ x=M_m0=5110.53, c=exponent=-0.181024\n",
            "     p.d.f normalization integral is zero or negative @ x=M_m0=5298.86, c=exponent=-0.181024\n",
            "     p.d.f normalization integral is zero or negative @ x=M_m0=5280.13, c=exponent=-0.181024\n",
            "     p.d.f normalization integral is zero or negative @ x=M_m0=5097.08, c=exponent=-0.181024\n",
            "     p.d.f normalization integral is zero or negative @ x=M_m0=5281.06, c=exponent=-0.181024\n",
            "     p.d.f normalization integral is zero or negative @ x=M_m0=5261.69, c=exponent=-0.181024\n",
            "     p.d.f normalization integral is zero or negative @ x=M_m0=5111.65, c=exponent=-0.181024\n",
            "     p.d.f normalization integral is zero or negative @ x=M_m0=5126.75, c=exponent=-0.181024\n",
            "     p.d.f normalization integral is zero or negative @ x=M_m0=5296.14, c=exponent=-0.181024\n",
            "    ... (remaining 540 messages suppressed)\n",
            "\n",
            " MIGRAD MINIMIZATION HAS CONVERGED.\n",
            " MIGRAD WILL VERIFY CONVERGENCE AND ERROR MATRIX.\n",
            " COVARIANCE MATRIX CALCULATED SUCCESSFULLY\n",
            " FCN=-153.641 FROM MIGRAD    STATUS=CONVERGED     339 CALLS         340 TOTAL\n",
            "                     EDM=3.2668e-06    STRATEGY= 1      ERROR MATRIX ACCURATE \n",
            "  EXT PARAMETER                                   STEP         FIRST   \n",
            "  NO.   NAME      VALUE            ERROR          SIZE      DERIVATIVE \n",
            "   1  Gauss_Norm   4.28975e+02   2.12195e+01   2.72522e-06  -1.21804e+00\n",
            "   2  Mean         5.28462e+03   8.00274e-01   2.76834e-05  -1.86324e-01\n",
            "   3  Width        1.56614e+01   6.15349e-01   2.24814e-04  -4.99997e-02\n",
            "   4  exp_Norm     1.21009e+02   1.19290e+01   3.50680e-06  -1.91981e+00\n",
            "   5  exponent    -3.70913e-03   6.05476e-04   2.57765e-06   1.79881e+00\n",
            "                               ERR DEF= 0.5\n",
            " EXTERNAL ERROR MATRIX.    NDIM=  25    NPAR=  5    ERR DEF=0.5\n",
            "  4.503e+02 -1.809e-01 -9.112e-01 -2.129e+01 -6.206e-04 \n",
            " -1.809e-01  6.404e-01  1.714e-02  1.809e-01 -4.724e-06 \n",
            " -9.112e-01  1.714e-02  3.787e-01  9.112e-01  2.515e-05 \n",
            " -2.129e+01  1.809e-01  9.112e-01  1.423e+02  6.208e-04 \n",
            " -6.206e-04 -4.724e-06  2.515e-05  6.208e-04  3.666e-07 \n",
            " PARAMETER  CORRELATION COEFFICIENTS  \n",
            "       NO.  GLOBAL      1      2      3      4      5\n",
            "        1  0.11020   1.000 -0.011 -0.070 -0.084 -0.048\n",
            "        2  0.04079  -0.011  1.000  0.035  0.019 -0.010\n",
            "        3  0.15164  -0.070  0.035  1.000  0.124  0.067\n",
            "        4  0.16402  -0.084  0.019  0.124  1.000  0.086\n",
            "        5  0.11082  -0.048 -0.010  0.067  0.086  1.000\n",
            " **********\n",
            " **  295 **SET ERR         0.5\n",
            " **********\n",
            " **********\n",
            " **  296 **SET PRINT           1\n",
            " **********\n",
            " **********\n",
            " **  297 **HESSE        2500\n",
            " **********\n",
            " COVARIANCE MATRIX CALCULATED SUCCESSFULLY\n",
            " FCN=-153.641 FROM HESSE     STATUS=OK             31 CALLS         371 TOTAL\n",
            "                     EDM=3.26712e-06    STRATEGY= 1      ERROR MATRIX ACCURATE \n",
            "  EXT PARAMETER                                INTERNAL      INTERNAL  \n",
            "  NO.   NAME      VALUE            ERROR       STEP SIZE       VALUE   \n",
            "   1  Gauss_Norm   4.28975e+02   2.12195e+01   5.45043e-07  -1.55786e+00\n",
            "   2  Mean         5.28462e+03   8.00279e-01   5.53669e-06   1.38944e-01\n",
            "   3  Width        1.56614e+01   6.15349e-01   4.49627e-05   3.52442e+00\n",
            "   4  exp_Norm     1.21009e+02   1.19290e+01   7.01361e-07  -1.56238e+00\n",
            "   5  exponent    -3.70913e-03   6.05478e-04   5.15531e-07  -1.85456e-03\n",
            "                               ERR DEF= 0.5\n",
            " EXTERNAL ERROR MATRIX.    NDIM=  25    NPAR=  5    ERR DEF=0.5\n",
            "  4.503e+02 -1.808e-01 -9.109e-01 -2.130e+01 -6.210e-04 \n",
            " -1.808e-01  6.404e-01  1.723e-02  1.808e-01 -4.722e-06 \n",
            " -9.109e-01  1.723e-02  3.787e-01  9.109e-01  2.515e-05 \n",
            " -2.130e+01  1.808e-01  9.109e-01  1.423e+02  6.210e-04 \n",
            " -6.210e-04 -4.722e-06  2.515e-05  6.210e-04  3.666e-07 \n",
            " PARAMETER  CORRELATION COEFFICIENTS  \n",
            "       NO.  GLOBAL      1      2      3      4      5\n",
            "        1  0.11020   1.000 -0.011 -0.070 -0.084 -0.048\n",
            "        2  0.04095  -0.011  1.000  0.035  0.019 -0.010\n",
            "        3  0.15164  -0.070  0.035  1.000  0.124  0.067\n",
            "        4  0.16401  -0.084  0.019  0.124  1.000  0.086\n",
            "        5  0.11085  -0.048 -0.010  0.067  0.086  1.000\n",
            "[#1] INFO:Minization -- RooMinimizer::optimizeConst: deactivating const optimization\n",
            "[#1] INFO:Plotting -- RooAbsPdf::plotOn(Full Model) directly selected PDF components: (Gaussian Signal)\n",
            "[#1] INFO:Plotting -- RooAbsPdf::plotOn(Full Model) indirectly selected PDF components: ()\n",
            "[#1] INFO:Plotting -- RooAbsPdf::plotOn(Full Model) directly selected PDF components: (Exponential Background)\n",
            "[#1] INFO:Plotting -- RooAbsPdf::plotOn(Full Model) indirectly selected PDF components: ()\n"
          ],
          "name": "stdout"
        },
        {
          "output_type": "stream",
          "text": [
            "Warning in <TCanvas::Constructor>: Deleting canvas with same name: c0\n",
            "Warning in <TCanvas::Constructor>: Deleting canvas with same name: c1\n"
          ],
          "name": "stderr"
        },
        {
          "output_type": "display_data",
          "data": {
            "image/png": "[encoded data removed]",
            "text/plain": [
              "<IPython.core.display.Image object>"
            ]
          },
          "metadata": {
            "tags": []
          }
        },
        {
          "output_type": "display_data",
          "data": {
            "image/png": "[encoded data removed]",
            "text/plain": [
              "<IPython.core.display.Image object>"
            ]
          },
          "metadata": {
            "tags": []
          }
        }
      ]
    },
    {
      "cell_type": "code",
      "metadata": {
        "colab": {
          "base_uri": "https://localhost:8080/"
        },
        "id": "Rx68fBenO4QX",
        "outputId": "4a12a5cb-69b0-46b4-a9e5-d4a281ea8149"
      },
      "source": [
        "print(values)"
      ],
      "execution_count": 106,
      "outputs": [
        {
          "output_type": "stream",
          "text": [
            "{'values1': 428.9752999792494, 'values0': 447.34775197901854, 'error1': 21.21952119151436, 'chi0': 0.5897162935182292, 'chi1': 0.5148651110592006, 'error0': 21.72057978623272}\n"
          ],
          "name": "stdout"
        }
      ]
    },
    {
      "cell_type": "markdown",
      "metadata": {
        "id": "r8VB5uN1obc4"
      },
      "source": [
        "Once we have defined if it's a B<sup>+</sup> or a B <sup>-</sup>, we should go ahead and ensure the pre-selection is applied and then plot our B mass, and fit the model to find the yield.\r\n",
        "\r\n",
        "We can then calculate the assymetry from this equation:\r\n",
        "\r\n",
        "$A=\\frac{(N^{B-}-N^{B+})}{(N^{B-}+N^{B+})}$\r\n",
        "\r\n",
        "Where N<sup>B+/- </sup> is the number of events found from the fitted yield of the signal from each data set.\r\n",
        "\r\n",
        "The uncertainty on this result is given by:\r\n",
        "\r\n",
        "$\\sigma_A=\\sqrt\\frac{1-A^2}{N^{B-}+N^{B+}}$\r\n",
        "\r\n",
        "Calculate these two values for your data and print them below:"
      ]
    },
    {
      "cell_type": "code",
      "metadata": {
        "id": "UiPNe2iuobSK",
        "colab": {
          "base_uri": "https://localhost:8080/"
        },
        "outputId": "ce27636a-3d38-4e9b-85bb-2634fd3c4d9d"
      },
      "source": [
        "from math import sqrt\r\n",
        "\r\n",
        "#Here do your calculation of the final result\r\n",
        "NBplus = values[\"values0\"]\r\n",
        "NBminus = values[\"values1\"]\r\n",
        "\r\n",
        "A = (NBminus - NBplus)/(NBminus + NBplus)\r\n",
        "print(\"Assymetry: {}\".format(A))\r\n",
        "\r\n",
        "sigmaA = sqrt( (1 - A**2)/(NBminus + NBplus) )\r\n",
        "print(\"Uncertainty: {}\".format(sigmaA))\r\n"
      ],
      "execution_count": 109,
      "outputs": [
        {
          "output_type": "stream",
          "text": [
            "Assymetry: -0.0209653870895\n",
            "Uncertainty: 0.0337732157554\n"
          ],
          "name": "stdout"
        }
      ]
    },
    {
      "cell_type": "markdown",
      "metadata": {
        "id": "r5B--_33okz1"
      },
      "source": [
        "#Congratulations!\r\n",
        "\r\n",
        "You just made your first LHCb physics analysis. Does this seem like a reasonable result? Did we explain why we have an excess of mass in the Universe?"
      ]
    },
    {
      "cell_type": "code",
      "metadata": {
        "id": "FYPDuf-6goZd"
      },
      "source": [
        "# Because the assymetry is negative we can conclude that the amount of positive particles (B meson +) is higher than the amount of negative particles (B meson -) which means that there are more positive particles in the universe than the negative"
      ],
      "execution_count": null,
      "outputs": []
    },
    {
      "cell_type": "markdown",
      "metadata": {
        "id": "dzybWZylomGu"
      },
      "source": [
        "## **Bonus content only below here:**"
      ]
    },
    {
      "cell_type": "markdown",
      "metadata": {
        "id": "odpbRqdoou5M"
      },
      "source": [
        "To make a further anaysis, we can look into the intermediate processes.\r\n",
        "\r\n",
        "We have so far considered only that the B meson ultimately decays into three kaons. It may be that on the way, the B meson first decays into a Kaon and another particle, and then from that particle to two Kaons.\r\n",
        "\r\n",
        "We would expect this to be one of three possible modes (for B<sup>+</sup>):\r\n",
        "\r\n",
        "$R^{++} \\rightarrow K_1^+ +K_2^+$\r\n",
        "\r\n",
        "(we don't expect this to happen because of the like charges in the Kaons)\r\n",
        "\r\n",
        "$R^0 \\rightarrow K_1^+ +K_3^-$\r\n",
        "\r\n",
        "$R^0 \\rightarrow K_2^+ +K_3^-$\r\n",
        "\r\n",
        "(Expect symmetric arrangements for B<sup>-</sup>)\r\n",
        "\r\n",
        "To analyse the intermediate states we can measure the invarient masses of the intermediate states and then plot them on what is called a Dalitz plot (this is a 2D plot with two different two body decays (from the three body decay) on each axis)\r\n",
        "\r\n",
        "![Dalitz Plot](https://slideplayer.com/slide/15960097/88/images/15/Dalitz+plot%3A+%CE%9B+c+%2B+%E2%86%92%F0%9D%91%9D+%F0%9D%90%BE+%E2%88%92+%F0%9D%9C%8B+%2B.jpg)\r\n"
      ]
    },
    {
      "cell_type": "code",
      "metadata": {
        "colab": {
          "base_uri": "https://localhost:8080/",
          "height": 523
        },
        "id": "l5lQOIpGjavG",
        "outputId": "9f945c63-5c79-4457-a06d-cde7578e28b1"
      },
      "source": [
        "# Did with heavy collaboration with other people \r\n",
        "\r\n",
        "import ROOT\r\n",
        "\r\n",
        "cuts = \"(1==1)\"\r\n",
        "weightvar = \"1\"\r\n",
        "\r\n",
        "\r\n",
        "def invariantMass(p1, p2) :\r\n",
        "  # build invariant mass string\r\n",
        "  m1  = p1+\"_M\" ;  px1 = p1+\"_PX\" ; py1 = p1+\"_PY\" ; pz1 = p1+\"_PZ\"\r\n",
        "  m2  = p2+\"_M\" ;  px2 = p2+\"_PX\" ; py2 = p2+\"_PY\" ; pz2 = p2+\"_PZ\"\r\n",
        "  ptot1 = \"sqrt(\"+px1+\"**2+\"+py1+\"**2+\"+pz1+\"**2)\"\r\n",
        "  ptot2 = \"sqrt(\"+px2+\"**2+\"+py2+\"**2+\"+pz2+\"**2)\"\r\n",
        "  E1 = \"sqrt({0}**2 + {1}**2)\".format(\"5380\",ptot1)\r\n",
        "  E2 = \"sqrt({0}**2 + {1}**2)\".format(\"5380\",ptot2)\r\n",
        "  pvecdot = \"({0}*{1} + {2}*{3} + {4}*{5})\".format(px1,px2, py1,py2, pz1,pz2)\r\n",
        "  M2 = \"({0}**2 + {1}**2 + 2*{2}*{3} - 2*{4})\".format(\"5380\",\"5380\",E1,E2,pvecdot)\r\n",
        "  return M2\r\n",
        "  \r\n",
        "\r\n",
        "\r\n",
        "m2_pK  = invariantMass(\"H1\",\"H2\")\r\n",
        "m2_Kpi = invariantMass(\"H2\",\"H3\")\r\n",
        "\r\n",
        "\r\n",
        "weightvar = \"1\"\r\n",
        "cuts = (\"1==1\")\r\n",
        "\r\n",
        "c1 = ROOT.TCanvas(\"c1\",\"c1\")\r\n",
        "ROOT.gStyle.SetOptStat(0)\r\n",
        "\r\n",
        "tree.Draw(\"{0}:{1}>>dalitzHist(10,1.08e8,2.5e8,10,1.08e8,2.5e8)\".format(m2_pK,m2_Kpi), \"{0}*{1}\".format(cuts,weightvar))\r\n",
        "dalitzHist = ROOT.gDirectory.Get(\"dalitzHist\")\r\n",
        "\r\n",
        "dalitzHist.SetTitle(\"Dalitz plot of pK#pi\")\r\n",
        "dalitzHist.GetYaxis().SetTitle(\"m^{2}_{pK} [MeV^{2}/c^{4}]\")\r\n",
        "dalitzHist.GetXaxis().SetTitle(\"m^{2}_{K#pi} [MeV^{2}/c^{4}]\")\r\n",
        "\r\n",
        "\r\n",
        "dalitzHist.Draw(\"colz\")\r\n",
        "\r\n",
        "c1.Update()\r\n",
        "c1.SaveAs(\"output/Dalitz.pdf\")\r\n",
        "\r\n",
        "c1.Draw()"
      ],
      "execution_count": 180,
      "outputs": [
        {
          "output_type": "stream",
          "text": [
            "ERROR in TPDF::Open: Cannot open file:output/Dalitz.pdf\n"
          ],
          "name": "stdout"
        },
        {
          "output_type": "stream",
          "text": [
            "Warning in <TCanvas::Constructor>: Deleting canvas with same name: c1\n"
          ],
          "name": "stderr"
        },
        {
          "output_type": "display_data",
          "data": {
            "image/png": "[encoded data removed]",
            "text/plain": [
              "<IPython.core.display.Image object>"
            ]
          },
          "metadata": {
            "tags": []
          }
        }
      ]
    },
    {
      "cell_type": "code",
      "metadata": {
        "id": "SqJxvZSKo1cW"
      },
      "source": [
        "#Define a function to find the invarient mass of two given Kaons"
      ],
      "execution_count": null,
      "outputs": []
    },
    {
      "cell_type": "code",
      "metadata": {
        "id": "YPVqECfPo3Wc"
      },
      "source": [
        "#Then, ensuring you're still taking the data after the selection, make a Dalitz plot. This is a 2-D scatter plot (use e.g. TH2F to make the plot where we used TH1F before)\r\n",
        "#Choose an appropriate binning in your scatter "
      ],
      "execution_count": null,
      "outputs": []
    },
    {
      "cell_type": "markdown",
      "metadata": {
        "id": "qPoPLt4Uo6QB"
      },
      "source": [
        "We can further improve our plot, since two sets of particles on each axis are exactly the same (one positive Kaon, one negative Kaon). So we can plot the maximum of the two values on one axis and the minimum on the other. We can use a quick numpy check and then plot those values."
      ]
    },
    {
      "cell_type": "code",
      "metadata": {
        "id": "KJ_fe2R3o8Aq"
      },
      "source": [
        "#Make the revised Dalitz plot here for B+ mesons"
      ],
      "execution_count": null,
      "outputs": []
    },
    {
      "cell_type": "code",
      "metadata": {
        "id": "t46slV8Yo-Ed"
      },
      "source": [
        "#Make the revised Dalitz plot here for B- mesons"
      ],
      "execution_count": null,
      "outputs": []
    },
    {
      "cell_type": "code",
      "metadata": {
        "id": "RfTDh69qo9_q"
      },
      "source": [
        "#Where we have a higher density of points (or a bigger value in the bin) this is indication of an intermediate resonance\r\n",
        "#Check out the possible resonances you have found in the PDG (http://pdg.lbl.gov/2020/tables/contents_tables.html)"
      ],
      "execution_count": null,
      "outputs": []
    }
  ]
}